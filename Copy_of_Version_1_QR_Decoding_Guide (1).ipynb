{
  "nbformat": 4,
  "nbformat_minor": 0,
  "metadata": {
    "colab": {
      "provenance": []
    },
    "kernelspec": {
      "name": "python3",
      "display_name": "Python 3"
    },
    "language_info": {
      "name": "python"
    }
  },
  "cells": [
    {
      "cell_type": "markdown",
      "source": [
        "# Imports"
      ],
      "metadata": {
        "id": "erPYGitnbDOL"
      }
    },
    {
      "cell_type": "code",
      "execution_count": 3,
      "metadata": {
        "id": "fxUgLK_uYEoH"
      },
      "outputs": [],
      "source": [
        "import cv2\n",
        "import numpy as np\n",
        "import matplotlib.pyplot as plt\n",
        "import math"
      ]
    },
    {
      "cell_type": "markdown",
      "source": [
        "# About QR codes\n",
        "###### *Main reference:* &nbsp;&nbsp; https://en.wikipedia.org/wiki/QR_code\n",
        "###### *Useful video:* &nbsp;&nbsp; https://youtu.be/KA8hDldvfv0\n",
        "\n",
        "<br/>\n",
        "<br/>\n",
        "\n",
        "First, let's see what a QR code is made up of...\n",
        "\n",
        "![Structure of a QR code (version 7), highlighting functional elements.](https://upload.wikimedia.org/wikipedia/commons/thumb/1/1d/QR_Code_Structure_Example_3.svg/1280px-QR_Code_Structure_Example_3.svg.png)\n",
        "> *Structure of a QR code (version 7), highlighting functional elements.*\n",
        "\n",
        "<br/>\n",
        "<br/>\n",
        "\n",
        "## 1. Version Information\n",
        "The top-right finder pattern cell has a short field of data that is contained there. This lets us know which QR code version is being scanned.\n",
        "\n",
        "The two blue version information boxes in the example image above are mirror images of each other.\n",
        "\n",
        "Version and format information is doubly redundant in QR codes.\n",
        "## 2. Format information\n",
        "\n",
        "The red format information next to the bottom locator box matches the format information below the top left locator box, and the red format information below the top right locator box matches the format information to the right of the top left locator box.\n",
        "\n",
        "Version and format information is doubly redundant in QR codes.\n",
        "\n",
        "![Meaning of format information.](https://upload.wikimedia.org/wikipedia/commons/thumb/3/3b/QR_Format_Information.svg/1024px-QR_Format_Information.svg.png)\n",
        "> *Meaning of format information.*\n",
        "\n",
        "<br/>\n",
        "<br/>\n",
        "\n",
        "## 3. Data (incl. error correction)\n",
        "The message that the QR code includes, with error correction redundancy.\n",
        "\n",
        "![Message placement within a Ver 1 QR symbol (21×21).](https://upload.wikimedia.org/wikipedia/commons/thumb/2/21/QR_Character_Placement.svg/640px-QR_Character_Placement.svg.png)\n",
        "> *Message placement within a Ver 1 QR symbol (21×21).*\n",
        "\n",
        "<br/>\n",
        "<br/>\n",
        "\n",
        "## 4. Other patterns\n",
        "### 4.1. Position (locator/finder) pattern\n",
        "The three large squares (\"locator boxes\") at the corners of the QR code give you enough information about the location and overall orientation of the QR code. They are 7x7 black and white cells, surrounded by white padding wrt their position.\n",
        "\n",
        "If you can identify those three squares in an image, then you have identified that a QR code exists within their contour.\n",
        "### 4.2 Alignment pattern\n",
        "This pattern of squares ensures that you get the orientation of the QR code right, in case it is tilted or skewed.\n",
        "### 4.3 Timing pattern\n",
        "This L-shaped pattern connects the three squares. A damaged QR code can still be read because of the timing pattern, which enables the reader to distinguish between specific squares within the entire code.\n",
        "\n",
        "It is composed of alternating black and white pixels, starting with a black pixel right after the locator box white border.\n",
        "## 5. Quiet Zone\n",
        "This is the perimeter of a QR code. It is blank (white).\n",
        "\n",
        "A QR reader needs this border to distinguish what is and isn't contained in the QR code (due to interference from outside elements)."
      ],
      "metadata": {
        "id": "B6wrZuSPbIMc"
      }
    },
    {
      "cell_type": "markdown",
      "source": [
        "# Example"
      ],
      "metadata": {
        "id": "LR1VX936t9mz"
      }
    },
    {
      "cell_type": "markdown",
      "source": [
        "## Import and binarize\n",
        "Must make sure that the image is full of 0s or 255s for further processing"
      ],
      "metadata": {
        "id": "Sx92FgkX9FQu"
      }
    },
    {
      "cell_type": "code",
      "source": [
        "img = cv2.imread(\"/content/other_tests/ceasercipher.png\", cv2.IMREAD_GRAYSCALE)\n",
        "_, img = cv2.threshold(img, 128, 255, cv2.THRESH_BINARY)\n",
        "fig = plt.figure(figsize=(5, 5));\n",
        "plt.xticks([], []);\n",
        "plt.yticks([], []);\n",
        "plt.title('Example QR code')\n",
        "plt.imshow(img, cmap='gray');"
      ],
      "metadata": {
        "colab": {
          "base_uri": "https://localhost:8080/",
          "height": 444
        },
        "id": "BCBUacpyaC-L",
        "outputId": "fb3e8b5e-2cba-4871-b0c8-848ac50001f0"
      },
      "execution_count": 122,
      "outputs": [
        {
          "output_type": "display_data",
          "data": {
            "text/plain": [
              "<Figure size 500x500 with 1 Axes>"
            ],
            "image/png": "[encoded data removed]"
          },
          "metadata": {}
        }
      ]
    },
    {
      "cell_type": "markdown",
      "source": [
        "## Use quiet zone to detect code area\n",
        "Simply go through white rows and columns until you find the first black pixel from the left, from the right, from the top, and from the bottom."
      ],
      "metadata": {
        "id": "i9sueIhN9J20"
      }
    },
    {
      "cell_type": "code",
      "source": [
        "# gotta find a new way to get the qr without the quiet zone\n",
        "start_row = -1\n",
        "start_col = -1\n",
        "end_row = -1\n",
        "end_col = -1\n",
        "\n",
        "for row_index, row in enumerate(img):\n",
        "    for pixel in row:\n",
        "        if pixel != 255:\n",
        "            start_row = row_index\n",
        "            break\n",
        "    if start_row != -1:\n",
        "        break\n",
        "\n",
        "for row_index, row in enumerate(img[::-1]):\n",
        "    for pixel in row:\n",
        "        if pixel != 255:\n",
        "            end_row = img.shape[0] - row_index\n",
        "            break\n",
        "    if end_row != -1:\n",
        "        break\n",
        "\n",
        "for col_index, col in enumerate(cv2.transpose(img)):\n",
        "    for pixel in col:\n",
        "        if pixel != 255:\n",
        "            start_col = col_index\n",
        "            break\n",
        "    if start_col != -1:\n",
        "        break\n",
        "\n",
        "for col_index, col in enumerate(cv2.transpose(img)[::-1]):\n",
        "    for pixel in col:\n",
        "        if pixel != 255:\n",
        "            end_col = img.shape[1] - col_index\n",
        "            break\n",
        "    if end_col != -1:\n",
        "        break\n",
        "\n",
        "#print(start_row, end_row, start_col, end_col)\n",
        "\n",
        "# This has to be a square obvio\n",
        "start_row += (4 - start_row % 4) % 4\n",
        "end_row -= end_row % 4\n",
        "start_col += (4 - start_col % 4) % 4\n",
        "end_col -= end_col % 4\n",
        "\n",
        "#print(start_row, end_row, start_col, end_col)\n",
        "\n",
        "# Align the start and end rows and columns\n",
        "start_row, start_col = max(start_row, start_col), max(start_row, start_col)\n",
        "end_row, end_col = max(end_row, end_col), max(end_row, end_col)\n",
        "\n",
        "#print(start_row, end_row, start_col, end_col)\n",
        "\n",
        "# # Ensure the difference between the start and end is divisible by 21\n",
        "# diff_row = end_row - start_row\n",
        "# diff_col = end_col - start_col\n",
        "\n",
        "# if diff_row % 21 != 0:\n",
        "#     end_row -= diff_row % 21\n",
        "# if diff_col % 21 != 0:\n",
        "#     end_col -= diff_col % 21\n",
        "\n",
        "print(start_row, end_row, start_col, end_col)\n"
      ],
      "metadata": {
        "colab": {
          "base_uri": "https://localhost:8080/"
        },
        "outputId": "180cadaf-578c-41be-94ce-3dc28c54c32c",
        "id": "jJmNodoCIdVB"
      },
      "execution_count": 123,
      "outputs": [
        {
          "output_type": "stream",
          "name": "stdout",
          "text": [
            "16 352 16 352\n"
          ]
        }
      ]
    },
    {
      "cell_type": "code",
      "source": [
        "qr_no_quiet_zone = img[start_row: end_row, start_col: end_col]\n",
        "fig = plt.figure(figsize=(5, 5));\n",
        "plt.xticks([], []);\n",
        "plt.yticks([], []);\n",
        "fig.get_axes()[0].spines[:].set_color('red');\n",
        "fig.get_axes()[0].spines[:].set_linewidth(40);\n",
        "fig.get_axes()[0].spines[:].set_position((\"outward\", 20))\n",
        "plt.title('QR code without quiet zone', y = 1.15, color='red');\n",
        "plt.imshow(qr_no_quiet_zone, cmap='gray');"
      ],
      "metadata": {
        "colab": {
          "base_uri": "https://localhost:8080/",
          "height": 529
        },
        "id": "tuIclWxj8SFf",
        "outputId": "97a1109b-13e7-4a39-b4e0-9554b1b85e2c"
      },
      "execution_count": 124,
      "outputs": [
        {
          "output_type": "display_data",
          "data": {
            "text/plain": [
              "<Figure size 500x500 with 1 Axes>"
            ],
            "image/png": "[encoded data removed]"
          },
          "metadata": {}
        }
      ]
    },
    {
      "cell_type": "markdown",
      "source": [
        "## Use locator boxes to determine grid size\n",
        "Since we know that the topleft pixel should be the border of the locator box, and that its size should be 7×7, we can determine the grid cell size by dividing its size in pixels by 7. How to get its size? It is a constant black row of pixels followed by one white cell. A simple for loop can get it done."
      ],
      "metadata": {
        "id": "9jSlBhus-GiQ"
      }
    },
    {
      "cell_type": "code",
      "source": [
        "# Shady stuff might have to change it later\n",
        "size = 0\n",
        "\n",
        "# Calculate initial size\n",
        "for pixel in qr_no_quiet_zone[0]:\n",
        "    if pixel != 0:\n",
        "        break\n",
        "    size += 1\n",
        "\n",
        "# If size is zero, rotate the image 180 degrees and check again\n",
        "if size == 0:\n",
        "    qr_no_quiet_zone = np.rot90(qr_no_quiet_zone, 2)\n",
        "    for pixel in qr_no_quiet_zone[0]:\n",
        "        if pixel != 0:\n",
        "            break\n",
        "        size += 1\n",
        "\n",
        "print(size)\n",
        "# Some more shady stuff that didn't work...\n",
        "while len(qr_no_quiet_zone[0]) / size != 3:\n",
        "    size += 1\n",
        "\n",
        "print(size)\n"
      ],
      "metadata": {
        "id": "gg2ETSJc7qD8",
        "colab": {
          "base_uri": "https://localhost:8080/"
        },
        "outputId": "0932a2c2-2da6-43b5-a8d0-605bbff3643e"
      },
      "execution_count": 125,
      "outputs": [
        {
          "output_type": "stream",
          "name": "stdout",
          "text": [
            "111\n",
            "112\n"
          ]
        }
      ]
    },
    {
      "cell_type": "code",
      "source": [
        "# Therefore the grid cell size is..\n",
        "grid_cell_size = round(size/7)\n",
        "print(grid_cell_size)"
      ],
      "metadata": {
        "id": "DS3IRwFe70lF",
        "colab": {
          "base_uri": "https://localhost:8080/"
        },
        "outputId": "cacc1c95-da78-42a1-ed63-09692953c12c"
      },
      "execution_count": 126,
      "outputs": [
        {
          "output_type": "stream",
          "name": "stdout",
          "text": [
            "16\n"
          ]
        }
      ]
    },
    {
      "cell_type": "code",
      "source": [
        "# And it each row/column is expected to have the following no. of qr_cells\n",
        "grid_cells_num = round(qr_no_quiet_zone.shape[0]/grid_cell_size)\n",
        "print(grid_cells_num)"
      ],
      "metadata": {
        "id": "aA8n99IwUIjh",
        "colab": {
          "base_uri": "https://localhost:8080/"
        },
        "outputId": "3c0bbf14-ab0f-4cbf-8a17-cd383e86a94c"
      },
      "execution_count": 110,
      "outputs": [
        {
          "output_type": "stream",
          "name": "stdout",
          "text": [
            "21\n"
          ]
        }
      ]
    },
    {
      "cell_type": "code",
      "source": [
        "# So now it is time to split the following shape...\n",
        "print(qr_no_quiet_zone.shape)"
      ],
      "metadata": {
        "id": "fHbjcaJMREFb",
        "colab": {
          "base_uri": "https://localhost:8080/"
        },
        "outputId": "0044d86c-919a-4ba2-9c00-114149a7b49f"
      },
      "execution_count": 111,
      "outputs": [
        {
          "output_type": "stream",
          "name": "stdout",
          "text": [
            "(360, 360)\n"
          ]
        }
      ]
    },
    {
      "cell_type": "code",
      "source": [
        "# ...into grid cells\n",
        "qr_cells = qr_no_quiet_zone.reshape((\n",
        "    grid_cells_num,\n",
        "    grid_cell_size,\n",
        "    grid_cells_num,\n",
        "    grid_cell_size,\n",
        ")).swapaxes(1, 2)\n",
        "print(qr_cells.shape)"
      ],
      "metadata": {
        "id": "xaYxuP80Pk8m",
        "colab": {
          "base_uri": "https://localhost:8080/",
          "height": 211
        },
        "outputId": "2d21c841-dd8c-406b-fa7c-98c0695bf880"
      },
      "execution_count": 112,
      "outputs": [
        {
          "output_type": "error",
          "ename": "ValueError",
          "evalue": "cannot reshape array of size 129600 into shape (21,17,21,17)",
          "traceback": [
            "\u001b[0;31m---------------------------------------------------------------------------\u001b[0m",
            "\u001b[0;31mValueError\u001b[0m                                Traceback (most recent call last)",
            "\u001b[0;32m<ipython-input-112-31eef75507ab>\u001b[0m in \u001b[0;36m<cell line: 2>\u001b[0;34m()\u001b[0m\n\u001b[1;32m      1\u001b[0m \u001b[0;31m# ...into grid cells\u001b[0m\u001b[0;34m\u001b[0m\u001b[0;34m\u001b[0m\u001b[0m\n\u001b[0;32m----> 2\u001b[0;31m qr_cells = qr_no_quiet_zone.reshape((\n\u001b[0m\u001b[1;32m      3\u001b[0m     \u001b[0mgrid_cells_num\u001b[0m\u001b[0;34m,\u001b[0m\u001b[0;34m\u001b[0m\u001b[0;34m\u001b[0m\u001b[0m\n\u001b[1;32m      4\u001b[0m     \u001b[0mgrid_cell_size\u001b[0m\u001b[0;34m,\u001b[0m\u001b[0;34m\u001b[0m\u001b[0;34m\u001b[0m\u001b[0m\n\u001b[1;32m      5\u001b[0m     \u001b[0mgrid_cells_num\u001b[0m\u001b[0;34m,\u001b[0m\u001b[0;34m\u001b[0m\u001b[0;34m\u001b[0m\u001b[0m\n",
            "\u001b[0;31mValueError\u001b[0m: cannot reshape array of size 129600 into shape (21,17,21,17)"
          ]
        }
      ]
    },
    {
      "cell_type": "code",
      "source": [
        "# Correct the orientation of the rotated qr code\n",
        "def check_pattern(cells):\n",
        "    pattern = [0, 255, 0, 0, 0, 255, 0]  # 1:1:3:1:1 pattern\n",
        "    result = all(np.mean(cell) == pat for cell, pat in zip(cells, pattern))\n",
        "    print(f\"Pattern check result: {result}\")\n",
        "    return result\n",
        "\n",
        "def rotate_image(image, degrees):\n",
        "    print(f\"Rotating image by {degrees} degrees\")\n",
        "    return np.rot90(image, degrees // 90)\n",
        "\n",
        "def correct_orientation(qr_cells, grid_cell_num):\n",
        "\n",
        "    # bottom_right corner pattern check\n",
        "    bottom_right_row = qr_cells[grid_cells_num-4, -7:]  # Check the last 7 cells in the row indexed grid_cells_num - 4\n",
        "    bottom_right_col = qr_cells[-7:, grid_cells_num-4]  # Check the last 7 cells in the column indexed grid_cells_num - 4\n",
        "\n",
        "    # Top right corner pattern check\n",
        "    top_right_row = qr_cells[3, -7:]  # Check the last 7 cells in the third row\n",
        "    top_right_col = qr_cells[:7, grid_cells_num-4]  # Check the first 7 cells in the grid_cells_num - 4 column\n",
        "\n",
        "    # Bottom left corner pattern check\n",
        "    bottom_left_row = qr_cells[grid_cells_num-4, :7] # Check the first 7 cells of row indexed by grid_cells_num - 4\n",
        "    bottom_left_col = qr_cells[-7:, 3] # Check the last 7 cells of column indexed by 3\n",
        "\n",
        "\n",
        "    if not(check_pattern(bottom_right_row) and check_pattern(bottom_right_col)):\n",
        "        print(\"Correct\")\n",
        "        return qr_cells  # QR code is in the right orientation\n",
        "\n",
        "    elif check_pattern(top_right_row) and check_pattern(top_right_col) and check_pattern(bottom_left_row) and check_pattern(bottom_left_col):\n",
        "        print(\"Rotating QR code by 180 degrees\")\n",
        "        return rotate_image(qr_cells, 180)  # Rotate 180 degrees\n",
        "\n",
        "    elif check_pattern(top_right_row) and check_pattern(top_right_col):\n",
        "        print(\"Rotating QR code by 270 degrees\")\n",
        "        return rotate_image(qr_cells, 270)  # Rotate 270 degrees\n",
        "\n",
        "    elif check_pattern(bottom_left_row) and check_pattern(bottom_left_col):\n",
        "        print(\"Rotating QR code by 90 degrees\")\n",
        "        return rotate_image(qr_cells, 90)  # Rotate 90 degrees\n",
        "\n",
        "corrected_qr = correct_orientation(qr_cells, grid_cells_num)\n",
        "\n"
      ],
      "metadata": {
        "id": "rdnk5RhsPOug",
        "colab": {
          "base_uri": "https://localhost:8080/"
        },
        "outputId": "48b40324-14fa-4528-d933-7e9953325ccf"
      },
      "execution_count": 100,
      "outputs": [
        {
          "output_type": "stream",
          "name": "stdout",
          "text": [
            "Pattern check result: False\n",
            "Correct\n"
          ]
        }
      ]
    },
    {
      "cell_type": "code",
      "source": [
        "_, axes = plt.subplots(grid_cells_num, grid_cells_num, figsize=(5, 5))\n",
        "for i, row in enumerate(axes):\n",
        "    for j, col in enumerate(row):\n",
        "        col.imshow(corrected_qr[i][j], cmap=\"gray\", vmin=0, vmax=255)\n",
        "        col.get_xaxis().set_visible(False)\n",
        "        col.get_yaxis().set_visible(False)\n",
        "        col.spines[:].set_color('red')"
      ],
      "metadata": {
        "colab": {
          "base_uri": "https://localhost:8080/",
          "height": 422
        },
        "id": "2-ZXn5NoRTTT",
        "outputId": "1ef4c4a9-51f8-4b9b-fceb-c62f94405389"
      },
      "execution_count": 101,
      "outputs": [
        {
          "output_type": "display_data",
          "data": {
            "text/plain": [
              "<Figure size 500x500 with 441 Axes>"
            ],
            "image/png": "[encoded data removed]"
          },
          "metadata": {}
        }
      ]
    },
    {
      "cell_type": "markdown",
      "source": [
        "## Convert grid tiles to numeric values"
      ],
      "metadata": {
        "id": "Qd6ksq6mW3SP"
      }
    },
    {
      "cell_type": "code",
      "source": [
        "qr_cells_numeric = np.ndarray((grid_cells_num, grid_cells_num), dtype=np.uint8)\n",
        "for i, row in enumerate(corrected_qr):\n",
        "    for j, cell in enumerate(row):\n",
        "        qr_cells_numeric[i, j] = (np.median(cell) // 255)\n",
        "\n",
        "print(qr_cells_numeric)"
      ],
      "metadata": {
        "id": "6yyfDhQHW8Jz",
        "colab": {
          "base_uri": "https://localhost:8080/"
        },
        "outputId": "dc300546-c911-43e0-f4c9-1ebd2b349131"
      },
      "execution_count": 116,
      "outputs": [
        {
          "output_type": "stream",
          "name": "stdout",
          "text": [
            "[[0 0 0 0 0 0 0 1 1 0 1 0 0 1 0 0 0 0 0 0 0]\n",
            " [0 1 1 1 1 1 0 1 1 0 0 0 1 1 0 0 1 1 1 1 1]\n",
            " [0 1 0 0 0 1 0 1 0 0 1 0 0 1 0 0 1 0 0 0 1]\n",
            " [0 1 0 0 0 1 0 1 1 0 1 0 1 1 0 0 1 0 0 0 1]\n",
            " [0 1 0 0 0 1 0 1 1 1 0 1 0 1 0 0 1 0 0 0 1]\n",
            " [0 1 1 1 1 1 0 1 1 1 1 1 0 1 0 0 1 1 1 1 1]\n",
            " [0 0 0 0 0 0 0 1 0 1 0 1 0 1 0 0 0 0 0 0 0]\n",
            " [1 1 1 1 1 1 1 1 0 0 0 1 0 0 1 1 1 1 1 1 1]\n",
            " [0 0 0 1 0 0 0 0 0 0 0 0 0 1 0 0 1 1 1 0 1]\n",
            " [0 0 0 1 0 0 0 0 0 0 0 0 1 1 0 0 0 0 0 0 1]\n",
            " [1 1 1 0 0 0 0 0 1 1 1 0 1 0 0 0 0 0 0 1 1]\n",
            " [1 1 1 0 0 1 1 0 0 1 1 0 1 0 1 0 0 0 1 1 0]\n",
            " [0 0 1 0 0 1 1 0 0 0 1 0 1 1 0 1 1 1 1 1 0]\n",
            " [1 1 1 0 0 1 1 0 0 0 1 0 1 0 0 1 0 0 0 0 1]\n",
            " [1 1 1 1 1 1 1 1 0 0 0 1 0 1 0 1 0 0 0 0 1]\n",
            " [0 0 0 0 0 0 0 1 0 1 1 0 0 1 1 1 0 0 1 0 0]\n",
            " [0 1 1 1 1 1 0 1 0 1 1 0 0 0 0 1 1 1 1 1 1]\n",
            " [0 1 0 0 0 1 0 1 0 0 0 0 0 1 1 0 1 0 0 1 1]\n",
            " [0 1 0 0 0 1 0 1 1 0 1 1 1 1 1 0 1 0 1 1 0]\n",
            " [0 1 0 0 0 1 0 1 0 0 1 1 1 0 1 1 1 0 0 1 1]\n",
            " [0 1 1 1 1 1 0 1 0 0 1 1 1 1 1 0 0 1 1 1 0]]\n"
          ]
        }
      ]
    },
    {
      "cell_type": "markdown",
      "source": [
        "## Information extraction\n",
        "\n",
        "![Meaning of format information.](https://upload.wikimedia.org/wikipedia/commons/thumb/3/3b/QR_Format_Information.svg/640px-QR_Format_Information.svg.png)\n",
        "> *Meaning of format information.*"
      ],
      "metadata": {
        "id": "8smktSlIaOQo"
      }
    },
    {
      "cell_type": "markdown",
      "source": [
        "### Error correction level"
      ],
      "metadata": {
        "id": "2aqZ9Ym6eXcp"
      }
    },
    {
      "cell_type": "code",
      "source": [
        "# We want row #8\n",
        "qr_cells_numeric[8]"
      ],
      "metadata": {
        "id": "3OQ3XYkQeW93",
        "colab": {
          "base_uri": "https://localhost:8080/"
        },
        "outputId": "8476c17e-2b84-47fb-fa42-541cc1df7256"
      },
      "execution_count": 117,
      "outputs": [
        {
          "output_type": "execute_result",
          "data": {
            "text/plain": [
              "array([0, 0, 0, 1, 0, 0, 0, 0, 0, 0, 0, 0, 0, 1, 0, 0, 1, 1, 1, 0, 1],\n",
              "      dtype=uint8)"
            ]
          },
          "metadata": {},
          "execution_count": 117
        }
      ]
    },
    {
      "cell_type": "code",
      "source": [
        "# The first two bits determine the error correction level\n",
        "# Level L (Low)         [11]\t7%  of data bytes can be restored.\n",
        "# Level M (Medium)      [10]\t15% of data bytes can be restored.\n",
        "# Level Q (Quartile)    [01]\t25% of data bytes can be restored.\n",
        "# Level H (High)        [00]\t30% of data bytes can be restored.\n",
        "ecl = [int(not(c)) for c in qr_cells_numeric[8, 0:2]]\n",
        "# Why \"not\"? Because the standard uses '1's for black and '0's for white\n",
        "#\n",
        "# \"A dark module is a binary one and a light module is a binary zero.\"\n",
        "#  - ISO/IEC 18004:2000(E)\n",
        "#\n",
        "# In image processing, we use them the other way.. Hence the inversion\n",
        "print(ecl)"
      ],
      "metadata": {
        "id": "DftQienjiFdh",
        "colab": {
          "base_uri": "https://localhost:8080/"
        },
        "outputId": "bc0dc931-6114-4a92-8b4e-62874c5a9eec"
      },
      "execution_count": 118,
      "outputs": [
        {
          "output_type": "stream",
          "name": "stdout",
          "text": [
            "[1, 1]\n"
          ]
        }
      ]
    },
    {
      "cell_type": "markdown",
      "source": [
        "### Mask pattern"
      ],
      "metadata": {
        "id": "pHqp3VFJg4GK"
      }
    },
    {
      "cell_type": "code",
      "source": [
        "# Dictionary of all masks and their equivalent formulae\n",
        "MASKS = {\n",
        "    \"000\": lambda i, j: (i * j) % 2 + (i * j) % 3 == 0,\n",
        "    \"001\": lambda i, j: (i / 2 + j / 3) % 2 == 0,\n",
        "    \"010\": lambda i, j: ((i * j) % 3 + i + j) % 2 == 0,\n",
        "    \"011\": lambda i, j: ((i * j) % 3 + i * j) % 2 == 0,\n",
        "    \"100\": lambda i, j: i % 2 == 0,\n",
        "    \"101\": lambda i, j: (i + j) % 2 == 0,\n",
        "    \"110\": lambda i, j: (i + j) % 3 == 0,\n",
        "    \"111\": lambda i, j: j % 3 == 0,\n",
        "}\n",
        "\n",
        "# Same row as above, the three cells after the ecl cells (converted to a string)\n",
        "mask = [int(not(c)) for c in qr_cells_numeric[8, 2:5]]\n",
        "mask_str = ''.join([str(c) for c in mask])\n",
        "print(mask_str)"
      ],
      "metadata": {
        "id": "Km07iIWxg-gI",
        "colab": {
          "base_uri": "https://localhost:8080/"
        },
        "outputId": "ffd02edf-0321-4c5f-95d8-6406c35cb499"
      },
      "execution_count": 119,
      "outputs": [
        {
          "output_type": "stream",
          "name": "stdout",
          "text": [
            "101\n"
          ]
        }
      ]
    },
    {
      "cell_type": "markdown",
      "source": [
        "### Format error correction"
      ],
      "metadata": {
        "id": "BJWaqVBYg7Gz"
      }
    },
    {
      "cell_type": "code",
      "source": [
        "# Same row as above, but we want cells #5 and #7 (#6 is always set to 0),\n",
        "#  followed by column #8 from cell #0 in it to cell #7 (and skipping #6)\n",
        "fec = []\n",
        "fec.append(qr_cells_numeric[8, 5])\n",
        "fec.append(qr_cells_numeric[8, 7])\n",
        "fec.extend(qr_cells_numeric[0:6, 8])\n",
        "fec.extend(qr_cells_numeric[7:9, 8])\n",
        "fec = [int(not(c)) for c in fec]\n",
        "print(fec)"
      ],
      "metadata": {
        "id": "d1uHpA5oXXeN",
        "colab": {
          "base_uri": "https://localhost:8080/"
        },
        "outputId": "35d30869-f2b6-48a5-e632-89d09077d4d1"
      },
      "execution_count": 120,
      "outputs": [
        {
          "output_type": "stream",
          "name": "stdout",
          "text": [
            "[1, 1, 0, 0, 1, 0, 0, 0, 1, 1]\n"
          ]
        }
      ]
    },
    {
      "cell_type": "code",
      "source": [
        "# So in total we have the following 15 bits of format info from our QR code\n",
        "print(ecl, mask, fec)"
      ],
      "metadata": {
        "id": "WMKYiQA-qzbq",
        "colab": {
          "base_uri": "https://localhost:8080/"
        },
        "outputId": "04d4958f-3219-4f89-e932-f8e3ddb73081"
      },
      "execution_count": 121,
      "outputs": [
        {
          "output_type": "stream",
          "name": "stdout",
          "text": [
            "[1, 1] [1, 0, 1] [1, 1, 0, 0, 1, 0, 0, 0, 1, 1]\n"
          ]
        }
      ]
    },
    {
      "cell_type": "code",
      "source": [
        "# Let's cross-check with our example\n",
        "_, axes = plt.subplots(grid_cells_num, grid_cells_num, figsize=(5, 5))\n",
        "for i, row in enumerate(axes):\n",
        "    for j, col in enumerate(row):\n",
        "\n",
        "        col.get_xaxis().set_visible(False)\n",
        "        col.get_yaxis().set_visible(False)\n",
        "        if (i == 8 and j <= 8) or (i <= 8 and j == 8):\n",
        "            if (i != 6) and (j != 6):\n",
        "                col.imshow(corrected_qr[i][j], cmap=\"gray\", vmin=0, vmax=255)\n",
        "                col.spines[:].set_color('red')\n",
        "                continue\n",
        "        col.imshow(corrected_qr[i][j], cmap=\"gray\", vmin=-1275, vmax=510)"
      ],
      "metadata": {
        "id": "PQ0vjyjYbYij",
        "colab": {
          "base_uri": "https://localhost:8080/",
          "height": 422
        },
        "outputId": "b5dfdceb-c4e4-441c-9c36-85c5106607da"
      },
      "execution_count": 122,
      "outputs": [
        {
          "output_type": "display_data",
          "data": {
            "text/plain": [
              "<Figure size 500x500 with 441 Axes>"
            ],
            "image/png": "[encoded data removed]"
          },
          "metadata": {}
        }
      ]
    },
    {
      "cell_type": "code",
      "source": [
        "# However..... You need to XOR that with the \"format mask\": 101010000010010\n",
        "ecl[0] ^= 1\n",
        "mask[0] ^= 1\n",
        "mask[2] ^= 1\n",
        "fec[5] ^= 1\n",
        "fec[8] ^= 1\n",
        "\n",
        "# And now we print...\n",
        "print(ecl, mask, fec)"
      ],
      "metadata": {
        "id": "8iLNLbZwcLG6",
        "colab": {
          "base_uri": "https://localhost:8080/"
        },
        "outputId": "7a49fac4-97c9-4e60-b84d-67bd84ce0ec5"
      },
      "execution_count": 123,
      "outputs": [
        {
          "output_type": "stream",
          "name": "stdout",
          "text": [
            "[0, 1] [0, 0, 0] [1, 1, 0, 0, 1, 1, 0, 0, 0, 1]\n"
          ]
        }
      ]
    },
    {
      "cell_type": "markdown",
      "source": [
        "## Data extraction\n",
        "\n",
        "![Message placement within a Ver 1 QR symbol (21×21).](https://upload.wikimedia.org/wikipedia/commons/thumb/2/21/QR_Character_Placement.svg/640px-QR_Character_Placement.svg.png)\n",
        "> *Message placement within a Ver 1 QR symbol (21×21). Example from wikipedia, encoded QR message is www.wikipedia.org*"
      ],
      "metadata": {
        "id": "WMxszDsfhF_Q"
      }
    },
    {
      "cell_type": "code",
      "source": [
        "# Before we proceed, let's write a function for masking to make our lives easier\n",
        "UP, UP_ENC, DOWN, CW, CCW = range(5)  # A rather old-fashioned pythonic \"Enum\"\n",
        "\n",
        "def apply_mask(data_start_i, data_start_j, direction):\n",
        "    '''\n",
        "    data_start_i/j represent the first cell's coords in its respective direction\n",
        "    direction is the masking direction, up(-enc)/down/clockwise/anti-clockwise\n",
        "    '''\n",
        "    result = []\n",
        "    row_offsets = []\n",
        "    col_offsets = []\n",
        "    if (direction in [UP, UP_ENC]):\n",
        "        row_offsets = [0,  0, -1, -1, -2, -2, -3, -3]\n",
        "        col_offsets = [0, -1,  0, -1,  0, -1,  0, -1]\n",
        "    if (direction == DOWN):\n",
        "        row_offsets = [0,  0,  1,  1,  2,  2,  3,  3]\n",
        "        col_offsets = [0, -1,  0, -1,  0, -1,  0, -1]\n",
        "    if (direction == CW):\n",
        "        row_offsets = [0,  0,  1,  1,  1,  1,  0,  0]\n",
        "        col_offsets = [0, -1,  0, -1, -2, -3, -2, -3]\n",
        "    if (direction == CCW):\n",
        "        row_offsets = [0,  0, -1, -1, -1, -1,  0,  0]\n",
        "        col_offsets = [0, -1,  0, -1, -2, -3, -2, -3]\n",
        "\n",
        "    for i, j in zip(row_offsets, col_offsets):\n",
        "        cell = qr_cells_numeric[data_start_i+i, data_start_j+j]\n",
        "        result.append(int(cell if MASKS[mask_str](data_start_i+i, data_start_j+j) else not cell))\n",
        "\n",
        "    return result[:4] if direction == UP_ENC else result"
      ],
      "metadata": {
        "id": "TYeu5EEF22r6"
      },
      "execution_count": 124,
      "outputs": []
    },
    {
      "cell_type": "markdown",
      "source": [
        "### Data encoding"
      ],
      "metadata": {
        "id": "mHnX6w8Yvz9e"
      }
    },
    {
      "cell_type": "code",
      "source": [
        "enc = apply_mask(grid_cells_num-1, grid_cells_num-1, UP_ENC)\n",
        "print(enc)"
      ],
      "metadata": {
        "id": "sMKnJyYHhHKl",
        "colab": {
          "base_uri": "https://localhost:8080/"
        },
        "outputId": "7eb67cc3-42cd-482e-f95a-014575f85725"
      },
      "execution_count": 125,
      "outputs": [
        {
          "output_type": "stream",
          "name": "stdout",
          "text": [
            "[0, 0, 0, 1]\n"
          ]
        }
      ]
    },
    {
      "cell_type": "markdown",
      "source": [
        "### Data length"
      ],
      "metadata": {
        "id": "_Es8SoZ02lct"
      }
    },
    {
      "cell_type": "code",
      "source": [
        "len = apply_mask(grid_cells_num-3, grid_cells_num-1, UP)\n",
        "print(len)"
      ],
      "metadata": {
        "id": "JZ5ml6N02kC3",
        "colab": {
          "base_uri": "https://localhost:8080/"
        },
        "outputId": "718f4047-9717-43bc-b275-c0d5803c5e84"
      },
      "execution_count": 126,
      "outputs": [
        {
          "output_type": "stream",
          "name": "stdout",
          "text": [
            "[0, 0, 0, 1, 1, 0, 1, 0]\n"
          ]
        }
      ]
    },
    {
      "cell_type": "markdown",
      "source": [
        "### Data extraction"
      ],
      "metadata": {
        "id": "ugMlyRLEHX-V"
      }
    },
    {
      "cell_type": "code",
      "source": [
        "data_starting_indices = [\n",
        "    [grid_cells_num-7, grid_cells_num-1, UP],\n",
        "    [grid_cells_num-11, grid_cells_num-1, CCW],\n",
        "    [grid_cells_num-10, grid_cells_num-3, DOWN],\n",
        "    [grid_cells_num-6, grid_cells_num-3, DOWN],\n",
        "    [grid_cells_num-2, grid_cells_num-3, CW],\n",
        "    [grid_cells_num-3, grid_cells_num-5, UP],\n",
        "    [grid_cells_num-7, grid_cells_num-5, UP],\n",
        "    [grid_cells_num-11, grid_cells_num-5, CCW],\n",
        "    [grid_cells_num-10, grid_cells_num-7, DOWN],\n",
        "    [grid_cells_num-6, grid_cells_num-7, DOWN],\n",
        "    [grid_cells_num-2, grid_cells_num-7, CW],\n",
        "    [grid_cells_num-3, grid_cells_num-9, UP],\n",
        "    [grid_cells_num-7, grid_cells_num-9, UP],\n",
        "    [grid_cells_num-11, grid_cells_num-9, UP],\n",
        "    [grid_cells_num-16, grid_cells_num-9, UP],\n",
        "    [grid_cells_num-20, grid_cells_num-9, CCW],\n",
        "    [grid_cells_num-19, grid_cells_num-11, DOWN],\n",
        "    [grid_cells_num-14, grid_cells_num-11, DOWN],\n",
        "    [grid_cells_num-10, grid_cells_num-11, DOWN],\n",
        "    [grid_cells_num-6, grid_cells_num-11, DOWN],\n",
        "    # Hmm..? I actually don't know how to proceed now lol\n",
        "]\n",
        "\n",
        "ans = ''\n",
        "for a, b, d in data_starting_indices:\n",
        "    bits = apply_mask(a, b, d)\n",
        "    bit_string = ''.join([str(bit) for bit in bits])\n",
        "    if bit_string[:4] == \"0000\":\n",
        "        print(f'{bit_string[:4]} = 0 (NULL TERMINATOR)')\n",
        "        break\n",
        "    ans += chr(int(bit_string, 2)) # converts to binary to int, then to ASCII\n",
        "    print(f'{bit_string} = {ans[-1]}')\n",
        "\n",
        "print(f'\\nDecoded string: {ans}')"
      ],
      "metadata": {
        "id": "2C9MtuNJHY0m",
        "colab": {
          "base_uri": "https://localhost:8080/"
        },
        "outputId": "f63817f3-b766-4396-b7c5-ba55bab40753"
      },
      "execution_count": 127,
      "outputs": [
        {
          "output_type": "stream",
          "name": "stdout",
          "text": [
            "11000011 = Ã\n",
            "10001001 = \n",
            "00101001 = )\n",
            "00101011 = +\n",
            "10100101 = ¥\n",
            "11001011 = Ë\n",
            "00111010 = :\n",
            "01101101 = m\n",
            "0000 = 0 (NULL TERMINATOR)\n",
            "\n",
            "Decoded string: Ã)+¥Ë:m\n"
          ]
        }
      ]
    },
    {
      "cell_type": "markdown",
      "source": [
        "# Another (more summarized) example"
      ],
      "metadata": {
        "id": "wbOq-2i_tU09"
      }
    },
    {
      "cell_type": "markdown",
      "source": [
        "<hr/>\n",
        "\n",
        "Now your job is to include redundant data, look into the error correcting mechanism(s), and perhaps look into newer QR code versions (although that will probably be too difficult, so keep that as a challenge if you find everything else easy). *Good luck :)*"
      ],
      "metadata": {
        "id": "xoSz2259vL-e"
      }
    },
    {
      "cell_type": "markdown",
      "source": [
        "**Here's for example the structure of a version 3 QR code:**\n",
        "![Version 3 QR Code illustrating interleaved Reed-Solomon blocks](https://upload.wikimedia.org/wikipedia/commons/thumb/7/77/QR_Ver3_Codeword_Ordering.svg/1280px-QR_Ver3_Codeword_Ordering.svg.png)\n",
        "> Version 3 QR Code illustrating interleaved Reed-Solomon blocks"
      ],
      "metadata": {
        "id": "vePIp9oo5cdD"
      }
    }
  ]
}