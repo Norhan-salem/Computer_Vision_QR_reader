{
 "nbformat": 4,
 "nbformat_minor": 0,
 "metadata": {
  "colab": {
   "provenance": [],
   "toc_visible": true
  },
  "kernelspec": {
   "name": "python3",
   "language": "python",
   "display_name": "Python 3 (ipykernel)"
  },
  "language_info": {
   "name": "python"
  }
 },
 "cells": [
  {
   "cell_type": "markdown",
   "source": [
    "# Imports"
   ],
   "metadata": {
    "id": "erPYGitnbDOL"
   }
  },
  {
   "cell_type": "code",
   "execution_count": 429,
   "metadata": {
    "id": "fxUgLK_uYEoH",
    "ExecuteTime": {
     "end_time": "2024-04-14T05:30:38.882881300Z",
     "start_time": "2024-04-14T05:30:38.803481100Z"
    }
   },
   "outputs": [],
   "source": [
    "import cv2\n",
    "import numpy as np\n",
    "import matplotlib.pyplot as plt"
   ]
  },
  {
   "cell_type": "markdown",
   "source": [
    "## Import and binarize\n",
    "Must make sure that the image is full of 0s or 255s for further processing"
   ],
   "metadata": {
    "id": "Sx92FgkX9FQu"
   }
  },
  {
   "cell_type": "code",
   "source": [
    "img = cv2.imread(\"test_outputs/image8.jpg\", cv2.IMREAD_GRAYSCALE)\n",
    "_, img = cv2.threshold(img, 128, 255, cv2.THRESH_BINARY)\n",
    "fig = plt.figure(figsize=(5, 5));\n",
    "plt.xticks([], []);\n",
    "plt.yticks([], []);\n",
    "plt.title('Example QR code')\n",
    "plt.imshow(img, cmap='gray');"
   ],
   "metadata": {
    "colab": {
     "base_uri": "https://localhost:8080/",
     "height": 444
    },
    "id": "BCBUacpyaC-L",
    "outputId": "4b891ee9-190e-47e2-db83-62d926c3e89a",
    "ExecuteTime": {
     "end_time": "2024-04-14T05:30:38.981889700Z",
     "start_time": "2024-04-14T05:30:38.817484600Z"
    }
   },
   "execution_count": 430,
   "outputs": [
    {
     "data": {
      "text/plain": "<Figure size 500x500 with 1 Axes>",
      "image/png": "[encoded data removed]"
     },
     "metadata": {},
     "output_type": "display_data"
    }
   ]
  },
  {
   "cell_type": "markdown",
   "source": [
    "## Use quiet zone to detect code area\n",
    "Simply go through white rows and columns until you find the first black pixel from the left, from the right, from the top, and from the bottom."
   ],
   "metadata": {
    "id": "i9sueIhN9J20"
   }
  },
  {
   "cell_type": "code",
   "source": [
    "start_row = -1\n",
    "start_col = -1\n",
    "end_row = -1\n",
    "end_col = -1\n",
    "\n",
    "for row_index, row in enumerate(img):\n",
    "    for pixel in row:\n",
    "        if pixel != 255:\n",
    "            start_row = row_index\n",
    "            break\n",
    "    if start_row != -1:\n",
    "        break\n",
    "\n",
    "for row_index, row in enumerate(img[::-1]):\n",
    "    for pixel in row:\n",
    "        if pixel != 255:\n",
    "            end_row = img.shape[0] - row_index\n",
    "            break\n",
    "    if end_row != -1:\n",
    "        break\n",
    "\n",
    "for col_index, col in enumerate(cv2.transpose(img)):\n",
    "    for pixel in col:\n",
    "        if pixel != 255:\n",
    "            start_col = col_index\n",
    "            break\n",
    "    if start_col != -1:\n",
    "        break\n",
    "\n",
    "for col_index, col in enumerate(cv2.transpose(img)[::-1]):\n",
    "    for pixel in col:\n",
    "        if pixel != 255:\n",
    "            end_col = img.shape[1] - col_index\n",
    "            break\n",
    "    if end_col != -1:\n",
    "        break\n",
    "\n",
    "print(start_row, end_row, start_col, end_col)"
   ],
   "metadata": {
    "colab": {
     "base_uri": "https://localhost:8080/"
    },
    "id": "-lqJGLTsuHHr",
    "outputId": "d4705b22-3a16-4f51-e24f-8c7003d84049",
    "ExecuteTime": {
     "end_time": "2024-04-14T05:30:39.098463200Z",
     "start_time": "2024-04-14T05:30:39.002722900Z"
    }
   },
   "execution_count": 431,
   "outputs": [
    {
     "name": "stdout",
     "output_type": "stream",
     "text": [
      "46 970 46 970\n"
     ]
    }
   ]
  },
  {
   "cell_type": "code",
   "source": [
    "qr_no_quiet_zone = img[start_row:end_row, start_col:end_col]\n",
    "fig = plt.figure(figsize=(5, 5));\n",
    "plt.xticks([], []);\n",
    "plt.yticks([], []);\n",
    "fig.get_axes()[0].spines[:].set_color('red');\n",
    "fig.get_axes()[0].spines[:].set_linewidth(40);\n",
    "fig.get_axes()[0].spines[:].set_position((\"outward\", 20))\n",
    "plt.title('QR code without quiet zone', y = 1.15, color='red');\n",
    "plt.imshow(qr_no_quiet_zone, cmap='gray');"
   ],
   "metadata": {
    "colab": {
     "base_uri": "https://localhost:8080/",
     "height": 529
    },
    "id": "tuIclWxj8SFf",
    "outputId": "0fad7959-e9a3-4fcb-e9b0-758661358178",
    "ExecuteTime": {
     "end_time": "2024-04-14T05:30:39.205878600Z",
     "start_time": "2024-04-14T05:30:39.100895600Z"
    }
   },
   "execution_count": 432,
   "outputs": [
    {
     "data": {
      "text/plain": "<Figure size 500x500 with 1 Axes>",
      "image/png": "[encoded data removed]"
     },
     "metadata": {},
     "output_type": "display_data"
    }
   ]
  },
  {
   "cell_type": "markdown",
   "source": [
    "## Use locator boxes to determine grid size\n",
    "Since we know that the topleft pixel should be the border of the locator box, and that its size should be 7×7, we can determine the grid cell size by dividing its size in pixels by 7. How to get its size? It is a constant black row of pixels followed by one white cell. A simple for loop can get it done."
   ],
   "metadata": {
    "id": "9jSlBhus-GiQ"
   }
  },
  {
   "cell_type": "code",
   "source": [
    "size = 0\n",
    "for pixel in qr_no_quiet_zone[0]:\n",
    "    if (pixel != 0): break\n",
    "    size += 1\n",
    "\n",
    "print(size)"
   ],
   "metadata": {
    "colab": {
     "base_uri": "https://localhost:8080/"
    },
    "id": "RsYQQprN-JAS",
    "outputId": "dea0db46-e860-435d-a10e-8d80e78dc640",
    "ExecuteTime": {
     "end_time": "2024-04-14T05:30:39.244384300Z",
     "start_time": "2024-04-14T05:30:39.207879600Z"
    }
   },
   "execution_count": 433,
   "outputs": [
    {
     "name": "stdout",
     "output_type": "stream",
     "text": [
      "156\n"
     ]
    }
   ]
  },
  {
   "cell_type": "code",
   "source": [
    "# Therefore the grid cell size is..\n",
    "grid_cell_size = round(size/7)\n",
    "print(grid_cell_size)"
   ],
   "metadata": {
    "colab": {
     "base_uri": "https://localhost:8080/"
    },
    "id": "PdQ1wjF4PiO-",
    "outputId": "00414c73-16ab-4333-ae8a-39337c28f9f1",
    "ExecuteTime": {
     "end_time": "2024-04-14T05:30:39.245393Z",
     "start_time": "2024-04-14T05:30:39.222171200Z"
    }
   },
   "execution_count": 434,
   "outputs": [
    {
     "name": "stdout",
     "output_type": "stream",
     "text": [
      "22\n"
     ]
    }
   ]
  },
  {
   "cell_type": "code",
   "source": [
    "# And it each row/column is expected to have the following no. of qr_cells\n",
    "grid_cells_num = round(qr_no_quiet_zone.shape[0]/grid_cell_size)\n",
    "print(grid_cells_num)"
   ],
   "metadata": {
    "colab": {
     "base_uri": "https://localhost:8080/"
    },
    "id": "aA8n99IwUIjh",
    "outputId": "5ab60b02-cfe1-4b50-b216-fd12ee8584f0",
    "ExecuteTime": {
     "end_time": "2024-04-14T05:30:39.257218700Z",
     "start_time": "2024-04-14T05:30:39.238232200Z"
    }
   },
   "execution_count": 435,
   "outputs": [
    {
     "name": "stdout",
     "output_type": "stream",
     "text": [
      "42\n"
     ]
    }
   ]
  },
  {
   "cell_type": "code",
   "source": [
    "# So now it is time to split the following shape...\n",
    "print(qr_no_quiet_zone.shape)"
   ],
   "metadata": {
    "colab": {
     "base_uri": "https://localhost:8080/"
    },
    "id": "fHbjcaJMREFb",
    "outputId": "9d1d7fde-ccf6-42a3-a7e1-1bd5f9c7e07f",
    "ExecuteTime": {
     "end_time": "2024-04-14T05:30:39.296471500Z",
     "start_time": "2024-04-14T05:30:39.254817800Z"
    }
   },
   "execution_count": 436,
   "outputs": [
    {
     "name": "stdout",
     "output_type": "stream",
     "text": [
      "(924, 924)\n"
     ]
    }
   ]
  },
  {
   "cell_type": "code",
   "source": [
    "# ...into grid cells\n",
    "qr_cells = qr_no_quiet_zone.reshape((\n",
    "    grid_cells_num,\n",
    "    grid_cell_size,\n",
    "    grid_cells_num,\n",
    "    grid_cell_size,\n",
    ")).swapaxes(1, 2)\n",
    "print(qr_cells.shape)"
   ],
   "metadata": {
    "colab": {
     "base_uri": "https://localhost:8080/"
    },
    "id": "xaYxuP80Pk8m",
    "outputId": "41fd66fd-ac8c-44e4-c262-62b367683538",
    "ExecuteTime": {
     "end_time": "2024-04-14T05:30:39.297477400Z",
     "start_time": "2024-04-14T05:30:39.269193300Z"
    }
   },
   "execution_count": 437,
   "outputs": [
    {
     "name": "stdout",
     "output_type": "stream",
     "text": [
      "(42, 42, 22, 22)\n"
     ]
    }
   ]
  },
  {
   "cell_type": "code",
   "source": [
    "_, axes = plt.subplots(grid_cells_num, grid_cells_num, figsize=(5, 5))\n",
    "for i, row in enumerate(axes):\n",
    "    for j, col in enumerate(row):\n",
    "        col.imshow(qr_cells[i][j], cmap=\"gray\", vmin=0, vmax=255)\n",
    "        col.get_xaxis().set_visible(False)\n",
    "        col.get_yaxis().set_visible(False)\n",
    "        col.spines[:].set_color('red')"
   ],
   "metadata": {
    "colab": {
     "base_uri": "https://localhost:8080/",
     "height": 422
    },
    "id": "2-ZXn5NoRTTT",
    "outputId": "d70f1950-ca2a-4a46-a484-6fb5a899dd65",
    "ExecuteTime": {
     "end_time": "2024-04-14T05:30:58.002530100Z",
     "start_time": "2024-04-14T05:30:39.287707Z"
    }
   },
   "execution_count": 438,
   "outputs": [
    {
     "data": {
      "text/plain": "<Figure size 500x500 with 1764 Axes>",
      "image/png": "[encoded data removed]"
     },
     "metadata": {},
     "output_type": "display_data"
    }
   ]
  },
  {
   "cell_type": "markdown",
   "source": [
    "## Convert grid tiles to numeric values"
   ],
   "metadata": {
    "id": "Qd6ksq6mW3SP"
   }
  },
  {
   "cell_type": "code",
   "source": [
    "qr_cells_numeric = np.ndarray((grid_cells_num, grid_cells_num), dtype=np.uint8)\n",
    "for i, row in enumerate(qr_cells):\n",
    "    for j, cell in enumerate(row):\n",
    "        qr_cells_numeric[i, j] = (np.median(cell) // 255)\n",
    "\n",
    "print(qr_cells_numeric)"
   ],
   "metadata": {
    "colab": {
     "base_uri": "https://localhost:8080/"
    },
    "id": "6yyfDhQHW8Jz",
    "outputId": "49ef6077-722a-44b4-f42a-45941f9a477b",
    "ExecuteTime": {
     "end_time": "2024-04-14T05:30:58.034800600Z",
     "start_time": "2024-04-14T05:30:58.004960400Z"
    }
   },
   "execution_count": 439,
   "outputs": [
    {
     "name": "stdout",
     "output_type": "stream",
     "text": [
      "[[0 0 0 ... 0 0 0]\n",
      " [0 0 0 ... 0 0 0]\n",
      " [0 0 1 ... 1 0 0]\n",
      " ...\n",
      " [0 0 1 ... 1 0 0]\n",
      " [0 0 0 ... 1 1 1]\n",
      " [0 0 0 ... 1 1 1]]\n"
     ]
    }
   ]
  },
  {
   "cell_type": "markdown",
   "source": [
    "## Information extraction\n",
    "\n",
    "![Meaning of format information.](https://upload.wikimedia.org/wikipedia/commons/thumb/3/3b/QR_Format_Information.svg/640px-QR_Format_Information.svg.png)\n",
    "> *Meaning of format information.*"
   ],
   "metadata": {
    "id": "8smktSlIaOQo"
   }
  },
  {
   "cell_type": "markdown",
   "source": [
    "### Error correction level"
   ],
   "metadata": {
    "id": "2aqZ9Ym6eXcp"
   }
  },
  {
   "cell_type": "code",
   "source": [
    "# We want row #8\n",
    "qr_cells_numeric[8]"
   ],
   "metadata": {
    "colab": {
     "base_uri": "https://localhost:8080/"
    },
    "id": "3OQ3XYkQeW93",
    "outputId": "1ad34a03-2ec4-4af6-83ac-52573b1da1e3",
    "ExecuteTime": {
     "end_time": "2024-04-14T05:30:58.048520400Z",
     "start_time": "2024-04-14T05:30:58.034800600Z"
    }
   },
   "execution_count": 440,
   "outputs": [
    {
     "data": {
      "text/plain": "array([0, 0, 1, 1, 0, 0, 0, 0, 0, 0, 1, 1, 0, 0, 1, 1, 0, 0, 0, 0, 0, 0,\n       1, 1, 0, 0, 1, 1, 0, 0, 1, 1, 0, 0, 0, 0, 0, 0, 1, 1, 0, 0],\n      dtype=uint8)"
     },
     "execution_count": 440,
     "metadata": {},
     "output_type": "execute_result"
    }
   ]
  },
  {
   "cell_type": "code",
   "source": [
    "# The first two bits determine the error correction level\n",
    "# Level L (Low)         [11]\t7%  of data bytes can be restored.\n",
    "# Level M (Medium)      [10]\t15% of data bytes can be restored.\n",
    "# Level Q (Quartile)    [01]\t25% of data bytes can be restored.\n",
    "# Level H (High)        [00]\t30% of data bytes can be restored.\n",
    "ecl = [int(not(c)) for c in qr_cells_numeric[8, 0:2]]\n",
    "# Why \"not\"? Because the standard uses '1's for black and '0's for white\n",
    "#\n",
    "# \"A dark module is a binary one and a light module is a binary zero.\"\n",
    "#  - ISO/IEC 18004:2000(E)\n",
    "#\n",
    "# In image processing, we use them the other way.. Hence the inversion\n",
    "print(ecl)"
   ],
   "metadata": {
    "colab": {
     "base_uri": "https://localhost:8080/"
    },
    "id": "DftQienjiFdh",
    "outputId": "6a8ae2c9-30c9-4053-f56f-854a567f7406",
    "ExecuteTime": {
     "end_time": "2024-04-14T05:30:58.093110300Z",
     "start_time": "2024-04-14T05:30:58.051089800Z"
    }
   },
   "execution_count": 441,
   "outputs": [
    {
     "name": "stdout",
     "output_type": "stream",
     "text": [
      "[1, 1]\n"
     ]
    }
   ]
  },
  {
   "cell_type": "markdown",
   "source": [
    "### Mask pattern"
   ],
   "metadata": {
    "id": "pHqp3VFJg4GK"
   }
  },
  {
   "cell_type": "code",
   "source": [
    "# Dictionary of all masks and their equivalent formulae\n",
    "MASKS = {\n",
    "    \"000\": lambda i, j: (i * j) % 2 + (i * j) % 3 == 0,\n",
    "    \"001\": lambda i, j: (i / 2 + j / 3) % 2 == 0,\n",
    "    \"010\": lambda i, j: ((i * j) % 3 + i + j) % 2 == 0,\n",
    "    \"011\": lambda i, j: ((i * j) % 3 + i * j) % 2 == 0,\n",
    "    \"100\": lambda i, j: i % 2 == 0,\n",
    "    \"101\": lambda i, j: (i + j) % 2 == 0,\n",
    "    \"110\": lambda i, j: (i + j) % 3 == 0,\n",
    "    \"111\": lambda i, j: j % 3 == 0,\n",
    "}\n",
    "\n",
    "# Same row as above, the three cells after the ecl cells (converted to a string)\n",
    "mask = [int(not(c)) for c in qr_cells_numeric[8, 2:5]]\n",
    "mask_str = ''.join([str(c) for c in mask])\n",
    "print(mask_str)"
   ],
   "metadata": {
    "colab": {
     "base_uri": "https://localhost:8080/"
    },
    "id": "Km07iIWxg-gI",
    "outputId": "a83cd161-74dd-4d32-a95a-df47c3821c93",
    "ExecuteTime": {
     "end_time": "2024-04-14T05:30:58.100053600Z",
     "start_time": "2024-04-14T05:30:58.066635300Z"
    }
   },
   "execution_count": 442,
   "outputs": [
    {
     "name": "stdout",
     "output_type": "stream",
     "text": [
      "001\n"
     ]
    }
   ]
  },
  {
   "cell_type": "markdown",
   "source": [
    "### Format error correction"
   ],
   "metadata": {
    "id": "BJWaqVBYg7Gz"
   }
  },
  {
   "cell_type": "code",
   "source": [
    "# Same row as above, but we want cells #5 and #7 (#6 is always set to 0),\n",
    "#  followed by column #8 from cell #0 in it to cell #7 (and skipping #6)\n",
    "fec = []\n",
    "fec.append(qr_cells_numeric[8, 5])\n",
    "fec.append(qr_cells_numeric[8, 7])\n",
    "fec.extend(qr_cells_numeric[0:6, 8])\n",
    "fec.extend(qr_cells_numeric[7:9, 8])\n",
    "fec = [int(not(c)) for c in fec]\n",
    "print(fec)"
   ],
   "metadata": {
    "colab": {
     "base_uri": "https://localhost:8080/"
    },
    "id": "d1uHpA5oXXeN",
    "outputId": "c5a466a7-81e9-4987-8040-2fbdf4a595d5",
    "ExecuteTime": {
     "end_time": "2024-04-14T05:30:58.102063Z",
     "start_time": "2024-04-14T05:30:58.081342200Z"
    }
   },
   "execution_count": 443,
   "outputs": [
    {
     "name": "stdout",
     "output_type": "stream",
     "text": [
      "[1, 1, 0, 0, 0, 0, 0, 0, 1, 1]\n"
     ]
    }
   ]
  },
  {
   "cell_type": "code",
   "source": [
    "# So in total we have the following 15 bits of format info from our QR code\n",
    "print(ecl, mask, fec)"
   ],
   "metadata": {
    "colab": {
     "base_uri": "https://localhost:8080/"
    },
    "id": "WMKYiQA-qzbq",
    "outputId": "9ff4493d-8a91-4fc7-c330-68e7a5a3ab2e",
    "ExecuteTime": {
     "end_time": "2024-04-14T05:30:58.110540Z",
     "start_time": "2024-04-14T05:30:58.095931Z"
    }
   },
   "execution_count": 444,
   "outputs": [
    {
     "name": "stdout",
     "output_type": "stream",
     "text": [
      "[1, 1] [0, 0, 1] [1, 1, 0, 0, 0, 0, 0, 0, 1, 1]\n"
     ]
    }
   ]
  },
  {
   "cell_type": "code",
   "source": [
    "# Let's cross-check with our example\n",
    "_, axes = plt.subplots(grid_cells_num, grid_cells_num, figsize=(5, 5))\n",
    "for i, row in enumerate(axes):\n",
    "    for j, col in enumerate(row):\n",
    "\n",
    "        col.get_xaxis().set_visible(False)\n",
    "        col.get_yaxis().set_visible(False)\n",
    "        if (i == 8 and j <= 8) or (i <= 8 and j == 8):\n",
    "            if (i != 6) and (j != 6):\n",
    "                col.imshow(qr_cells[i][j], cmap=\"gray\", vmin=0, vmax=255)\n",
    "                col.spines[:].set_color('red')\n",
    "                continue\n",
    "        col.imshow(qr_cells[i][j], cmap=\"gray\", vmin=-1275, vmax=510)"
   ],
   "metadata": {
    "colab": {
     "base_uri": "https://localhost:8080/",
     "height": 422
    },
    "id": "PQ0vjyjYbYij",
    "outputId": "f41627d5-39f3-4714-e17c-daaa5201c1e3",
    "ExecuteTime": {
     "end_time": "2024-04-14T05:31:17.897579900Z",
     "start_time": "2024-04-14T05:30:58.110540Z"
    }
   },
   "execution_count": 445,
   "outputs": [
    {
     "data": {
      "text/plain": "<Figure size 500x500 with 1764 Axes>",
      "image/png": "[encoded data removed]"
     },
     "metadata": {},
     "output_type": "display_data"
    }
   ]
  },
  {
   "cell_type": "code",
   "source": [
    "# However..... You need to XOR that with the \"format mask\": 101010000010010\n",
    "ecl[0] ^= 1\n",
    "mask[0] ^= 1\n",
    "mask[2] ^= 1\n",
    "fec[5] ^= 1\n",
    "fec[8] ^= 1\n",
    "\n",
    "# And now we print...\n",
    "print(ecl, mask, fec)"
   ],
   "metadata": {
    "colab": {
     "base_uri": "https://localhost:8080/"
    },
    "id": "8iLNLbZwcLG6",
    "outputId": "a6e716dd-d7ee-41a0-a80d-003d448db0ee",
    "ExecuteTime": {
     "end_time": "2024-04-14T05:31:17.953096700Z",
     "start_time": "2024-04-14T05:31:17.897579900Z"
    }
   },
   "execution_count": 446,
   "outputs": [
    {
     "name": "stdout",
     "output_type": "stream",
     "text": [
      "[0, 1] [1, 0, 0] [1, 1, 0, 0, 0, 1, 0, 0, 0, 1]\n"
     ]
    }
   ]
  },
  {
   "cell_type": "code",
   "source": [
    "# Before we proceed, let's write a function for masking to make our lives easier\n",
    "UP, UP_ENC, DOWN, CW, CCW = range(5)  # A rather old-fashioned pythonic \"Enum\"\n",
    "\n",
    "def apply_mask(data_start_i, data_start_j, direction):\n",
    "    '''\n",
    "    data_start_i/j represent the first cell's coords in its respective direction\n",
    "    direction is the masking direction, up(-enc)/down/clockwise/anti-clockwise\n",
    "    '''\n",
    "    result = []\n",
    "    row_offsets = []\n",
    "    col_offsets = []\n",
    "    if (direction in [UP, UP_ENC]):\n",
    "        row_offsets = [0,  0, -1, -1, -2, -2, -3, -3]\n",
    "        col_offsets = [0, -1,  0, -1,  0, -1,  0, -1]\n",
    "    if (direction == DOWN):\n",
    "        row_offsets = [0,  0,  1,  1,  2,  2,  3,  3]\n",
    "        col_offsets = [0, -1,  0, -1,  0, -1,  0, -1]\n",
    "    if (direction == CW):\n",
    "        row_offsets = [0,  0,  1,  1,  1,  1,  0,  0]\n",
    "        col_offsets = [0, -1,  0, -1, -2, -3, -2, -3]\n",
    "    if (direction == CCW):\n",
    "        row_offsets = [0,  0, -1, -1, -1, -1,  0,  0]\n",
    "        col_offsets = [0, -1,  0, -1, -2, -3, -2, -3]\n",
    "\n",
    "    for i, j in zip(row_offsets, col_offsets):\n",
    "        cell = qr_cells_numeric[data_start_i+i, data_start_j+j]\n",
    "        result.append(int(cell if MASKS[mask_str](data_start_i+i, data_start_j+j) else not cell))\n",
    "\n",
    "    return result[:4] if direction == UP_ENC else result"
   ],
   "metadata": {
    "id": "TYeu5EEF22r6",
    "ExecuteTime": {
     "end_time": "2024-04-14T05:31:17.954096200Z",
     "start_time": "2024-04-14T05:31:17.912577500Z"
    }
   },
   "execution_count": 447,
   "outputs": []
  },
  {
   "cell_type": "markdown",
   "source": [
    "### Data encoding"
   ],
   "metadata": {
    "id": "mHnX6w8Yvz9e"
   }
  },
  {
   "cell_type": "code",
   "source": [
    "enc = apply_mask(grid_cells_num-1, grid_cells_num-1, UP_ENC)\n",
    "print(enc)"
   ],
   "metadata": {
    "colab": {
     "base_uri": "https://localhost:8080/"
    },
    "id": "sMKnJyYHhHKl",
    "outputId": "baa15aa9-0ffb-4ee4-d283-a43767ce6ce5",
    "ExecuteTime": {
     "end_time": "2024-04-14T05:31:17.955096Z",
     "start_time": "2024-04-14T05:31:17.930095700Z"
    }
   },
   "execution_count": 448,
   "outputs": [
    {
     "name": "stdout",
     "output_type": "stream",
     "text": [
      "[0, 0, 0, 0]\n"
     ]
    }
   ]
  },
  {
   "cell_type": "markdown",
   "source": [
    "### Data length"
   ],
   "metadata": {
    "id": "_Es8SoZ02lct"
   }
  },
  {
   "cell_type": "code",
   "source": [
    "len = apply_mask(grid_cells_num-3, grid_cells_num-1, UP)\n",
    "print(len)"
   ],
   "metadata": {
    "colab": {
     "base_uri": "https://localhost:8080/"
    },
    "id": "JZ5ml6N02kC3",
    "outputId": "f7a06e03-de24-4134-f291-aa903d6ef6cb",
    "ExecuteTime": {
     "end_time": "2024-04-14T05:31:17.978095Z",
     "start_time": "2024-04-14T05:31:17.945098200Z"
    }
   },
   "execution_count": 449,
   "outputs": [
    {
     "name": "stdout",
     "output_type": "stream",
     "text": [
      "[1, 1, 1, 1, 0, 0, 0, 0]\n"
     ]
    }
   ]
  },
  {
   "cell_type": "markdown",
   "source": [
    "### Data extraction"
   ],
   "metadata": {
    "id": "ugMlyRLEHX-V"
   }
  },
  {
   "cell_type": "code",
   "source": [
    "data_starting_indices = [\n",
    "    [grid_cells_num-7, grid_cells_num-1, UP],\n",
    "    [grid_cells_num-11, grid_cells_num-1, CCW],\n",
    "    [grid_cells_num-10, grid_cells_num-3, DOWN],\n",
    "    [grid_cells_num-6, grid_cells_num-3, DOWN],\n",
    "    [grid_cells_num-2, grid_cells_num-3, CW],\n",
    "    [grid_cells_num-3, grid_cells_num-5, UP],\n",
    "    [grid_cells_num-7, grid_cells_num-5, UP],\n",
    "    [grid_cells_num-11, grid_cells_num-5, CCW],\n",
    "    [grid_cells_num-10, grid_cells_num-7, DOWN],\n",
    "    [grid_cells_num-6, grid_cells_num-7, DOWN],\n",
    "    [grid_cells_num-2, grid_cells_num-7, CW],\n",
    "    [grid_cells_num-3, grid_cells_num-9, UP],\n",
    "    [grid_cells_num-7, grid_cells_num-9, UP],\n",
    "    [grid_cells_num-11, grid_cells_num-9, UP],\n",
    "    [grid_cells_num-16, grid_cells_num-9, UP],\n",
    "    [grid_cells_num-20, grid_cells_num-9, CCW],\n",
    "    [grid_cells_num-19, grid_cells_num-11, DOWN],\n",
    "    [grid_cells_num-14, grid_cells_num-11, DOWN],\n",
    "    [grid_cells_num-10, grid_cells_num-11, DOWN],\n",
    "    [grid_cells_num-6, grid_cells_num-11, DOWN],\n",
    "    # Hmm..? I actually don't know how to proceed now lol\n",
    "]\n",
    "\n",
    "ans = ''\n",
    "for a, b, d in data_starting_indices:\n",
    "    bits = apply_mask(a, b, d)\n",
    "    bit_string = ''.join([str(bit) for bit in bits])\n",
    "    if bit_string[:4] == \"0000\":\n",
    "        print(f'{bit_string[:4]} = 0 (NULL TERMINATOR)')\n",
    "        break\n",
    "    ans += chr(int(bit_string, 2)) # converts to binary to int, then to ASCII\n",
    "    print(f'{bit_string} = {ans[-1]}')\n",
    "\n",
    "print(f'\\nDecoded string: {ans}')"
   ],
   "metadata": {
    "colab": {
     "base_uri": "https://localhost:8080/"
    },
    "id": "2C9MtuNJHY0m",
    "outputId": "f45e7fc6-3d05-400a-f6f0-bb4250e86177",
    "ExecuteTime": {
     "end_time": "2024-04-14T05:31:17.993095800Z",
     "start_time": "2024-04-14T05:31:17.962099Z"
    }
   },
   "execution_count": 450,
   "outputs": [
    {
     "name": "stdout",
     "output_type": "stream",
     "text": [
      "0000 = 0 (NULL TERMINATOR)\n",
      "\n",
      "Decoded string: \n"
     ]
    }
   ]
  }
 ]
}
