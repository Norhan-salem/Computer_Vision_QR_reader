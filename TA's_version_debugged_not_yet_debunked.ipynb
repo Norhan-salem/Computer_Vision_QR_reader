{
  "nbformat": 4,
  "nbformat_minor": 0,
  "metadata": {
    "colab": {
      "provenance": []
    },
    "kernelspec": {
      "name": "python3",
      "display_name": "Python 3"
    },
    "language_info": {
      "name": "python"
    }
  },
  "cells": [
    {
      "cell_type": "code",
      "execution_count": null,
      "metadata": {
        "id": "fxUgLK_uYEoH",
        "colab": {
          "base_uri": "https://localhost:8080/"
        },
        "outputId": "397fc26b-520c-4831-b98e-2f6d5d196efb"
      },
      "outputs": [
        {
          "output_type": "stream",
          "name": "stdout",
          "text": [
            "Requirement already satisfied: reedsolo in /usr/local/lib/python3.10/dist-packages (1.7.0)\n"
          ]
        }
      ],
      "source": [
        "import cv2\n",
        "import numpy as np\n",
        "import matplotlib.pyplot as plt\n",
        "!pip install --upgrade reedsolo\n",
        "import reedsolo as rs"
      ]
    },
    {
      "cell_type": "code",
      "source": [
        "_, img3 = cv2.threshold(cv2.imread(\"/content/image1.jpg\", cv2.IMREAD_GRAYSCALE), 128, 255, cv2.THRESH_BINARY);\n",
        "\n",
        "start_row = -1\n",
        "start_col = -1\n",
        "end_row = -1\n",
        "end_col = -1\n",
        "\n",
        "for row_index, row in enumerate(img3):\n",
        "    for pixel in row:\n",
        "        if pixel != 255:\n",
        "            start_row = row_index\n",
        "            break\n",
        "    if start_row != -1:\n",
        "        break\n",
        "\n",
        "for row_index, row in enumerate(img3[::-1]):\n",
        "    for pixel in row:\n",
        "        if pixel != 255:\n",
        "            end_row = img3.shape[0] - row_index\n",
        "            break\n",
        "    if end_row != -1:\n",
        "        break\n",
        "\n",
        "for col_index, col in enumerate(cv2.transpose(img3)):\n",
        "    for pixel in col:\n",
        "        if pixel != 255:\n",
        "            start_col = col_index\n",
        "            break\n",
        "    if start_col != -1:\n",
        "        break\n",
        "\n",
        "for col_index, col in enumerate(cv2.transpose(img3)[::-1]):\n",
        "    for pixel in col:\n",
        "        if pixel != 255:\n",
        "            end_col = img3.shape[1] - col_index\n",
        "            break\n",
        "    if end_col != -1:\n",
        "        break\n",
        "\n",
        "img3_no_quiet_zone = img3[start_row:end_row, start_col:end_col]\n",
        "\n",
        "# Alternative method to get the grid directly\n",
        "# I directly resize it to 21x21 and use something like the replacement downscaling geometric transformation\n",
        "# So for each collection of pixels, only one pixel survives, and since this is a perfect test case, it works\n",
        "# In non-perfect test cases, you'd have needed to do some more steps to ensure correct replacement is done\n",
        "img3_21x21_grid = cv2.resize(img3_no_quiet_zone, (21, 21), interpolation=cv2.INTER_AREA) // 255\n",
        "\n",
        "fig = plt.figure(figsize=(3, 3));\n",
        "plt.xticks([], []);\n",
        "plt.yticks([], []);\n",
        "plt.imshow(img3_21x21_grid, cmap='gray');\n",
        "print(img3_21x21_grid.shape)"
      ],
      "metadata": {
        "colab": {
          "base_uri": "https://localhost:8080/",
          "height": 286
        },
        "id": "9WMOf35O6xAZ",
        "outputId": "01269b3c-0f96-4940-ad89-ba1b25de9987"
      },
      "execution_count": null,
      "outputs": [
        {
          "output_type": "stream",
          "name": "stdout",
          "text": [
            "(21, 21)\n"
          ]
        },
        {
          "output_type": "display_data",
          "data": {
            "text/plain": [
              "<Figure size 300x300 with 1 Axes>"
            ],
            "image/png": "[encoded data removed]"
          },
          "metadata": {}
        }
      ]
    },
    {
      "cell_type": "code",
      "source": [
        "img3_21x21_grid_inv = 1 - img3_21x21_grid\n",
        "print(img3_21x21_grid_inv)"
      ],
      "metadata": {
        "id": "PwI2S5YNWEM7",
        "outputId": "62e18f66-a712-4fd8-b576-b9ad4e124f6e",
        "colab": {
          "base_uri": "https://localhost:8080/"
        }
      },
      "execution_count": null,
      "outputs": [
        {
          "output_type": "stream",
          "name": "stdout",
          "text": [
            "[[1 1 1 1 1 1 1 0 0 0 1 0 1 0 1 1 1 1 1 1 1]\n",
            " [1 0 0 0 0 0 1 0 1 0 1 0 1 0 1 0 0 0 0 0 1]\n",
            " [1 0 1 1 1 0 1 0 1 0 1 1 0 0 1 0 1 1 1 0 1]\n",
            " [1 0 1 1 1 0 1 0 0 0 0 0 1 0 1 0 1 1 1 0 1]\n",
            " [1 0 1 1 1 0 1 0 1 1 1 1 1 0 1 0 1 1 1 0 1]\n",
            " [1 0 0 0 0 0 1 0 1 1 1 0 0 0 1 0 0 0 0 0 1]\n",
            " [1 1 1 1 1 1 1 0 1 0 1 0 1 0 1 1 1 1 1 1 1]\n",
            " [0 0 0 0 0 0 0 0 1 0 0 0 0 0 0 0 0 0 0 0 0]\n",
            " [1 1 0 1 0 0 1 1 0 0 1 1 1 0 1 1 1 0 1 1 0]\n",
            " [0 0 1 1 1 0 0 0 1 0 0 1 0 1 0 1 1 1 0 0 1]\n",
            " [0 1 1 0 1 1 1 1 0 0 0 1 0 1 1 0 0 1 1 1 1]\n",
            " [0 0 0 1 0 0 0 0 0 1 0 0 1 0 1 1 0 0 0 1 1]\n",
            " [1 0 1 1 0 1 1 0 1 1 0 1 0 0 0 1 1 0 0 0 1]\n",
            " [0 0 0 0 0 0 0 0 1 1 1 1 0 0 1 1 0 0 1 1 1]\n",
            " [1 1 1 1 1 1 1 0 1 0 0 1 1 0 1 1 1 0 1 0 0]\n",
            " [1 0 0 0 0 0 1 0 0 0 0 0 0 0 0 0 1 0 0 1 0]\n",
            " [1 0 1 1 1 0 1 0 0 1 1 0 1 1 0 1 1 0 1 0 0]\n",
            " [1 0 1 1 1 0 1 0 1 0 0 0 1 0 0 1 1 1 0 1 1]\n",
            " [1 0 1 1 1 0 1 0 0 1 1 0 1 1 0 1 1 1 0 0 1]\n",
            " [1 0 0 0 0 0 1 0 1 0 0 1 1 1 0 0 0 0 0 0 0]\n",
            " [1 1 1 1 1 1 1 0 1 1 0 1 1 0 1 1 0 1 0 1 0]]\n"
          ]
        }
      ]
    },
    {
      "cell_type": "code",
      "source": [
        "ecl = img3_21x21_grid_inv[8, 0:2]\n",
        "mask = img3_21x21_grid_inv[8, 2:5]\n",
        "# I don't care about FEC because I know this is a perfect test case\n",
        "# However, you! should care (the FEC is what tells you whether the format bits are correct or not)\n",
        "# I will leave it up to you to check for their correctness via decoding or a lookup table\n",
        "# Since this time I won't demonstrate the FEC concept, I don't need to apply the FEC mask\n",
        "# Thus, these are our ECL and MASK values:\n",
        "print(ecl, mask)\n",
        "# Remember, regarding the ECL value, we choose from the following:\n",
        "# Level L (Low)         [11]\t7%  of data bytes can be restored.\n",
        "# Level M (Medium)      [10]\t15% of data bytes can be restored.\n",
        "# Level Q (Quartile)    [01]\t25% of data bytes can be restored.\n",
        "# Level H (High)        [00]\t30% of data bytes can be restored."
      ],
      "metadata": {
        "colab": {
          "base_uri": "https://localhost:8080/"
        },
        "id": "JXxI-LNz9Gzn",
        "outputId": "d08d1780-9c77-4a11-d2f6-d22ffac9f0f2"
      },
      "execution_count": null,
      "outputs": [
        {
          "output_type": "stream",
          "name": "stdout",
          "text": [
            "[1 1] [0 1 0]\n"
          ]
        }
      ]
    },
    {
      "cell_type": "code",
      "source": [
        "# Dictionary of all masks and their equivalent formulae\n",
        "# P.S. I modified them to account for that I skipped the FEC mask part above\n",
        "# If you will do it, do not XOR the mask if you wish to use this MASKS table\n",
        "MASKS = {\n",
        "    \"000\": lambda i, j: (i * j) % 2 + (i * j) % 3 == 0,\n",
        "    \"001\": lambda i, j: (i // 2 + j // 3) % 2 == 0,\n",
        "    \"010\": lambda i, j: ((i + j) % 2 + (i * j) % 3) % 2 == 0,\n",
        "    \"011\": lambda i, j: ((i * j) % 2 + (i * j) % 3) % 2 == 0,\n",
        "    \"100\": lambda i, j: i % 2 == 0,\n",
        "    \"101\": lambda i, j: (i + j) % 2 == 0,\n",
        "    \"110\": lambda i, j: (i + j) % 3 == 0,\n",
        "    \"111\": lambda i, j: j % 3 == 0,\n",
        "}\n",
        "# Enum for the different directions of reading blocks in the QR code\n",
        "# The number indicates how many bytes are in this block\n",
        "UP8, UP4, DOWN8, DOWN4, CW8, CCW8 = range(6)"
      ],
      "metadata": {
        "id": "tOg5rotUArgS"
      },
      "execution_count": null,
      "outputs": []
    },
    {
      "cell_type": "code",
      "source": [
        "\n",
        "def apply_mask_general(data_start_i, data_start_j, data, mask, direction):\n",
        "    print(f\"Applying mask with start indices: {data_start_i}, {data_start_j}, direction: {direction}\")\n",
        "    result = []\n",
        "    row_offsets = []\n",
        "    col_offsets = []\n",
        "    mask_str = ''.join([str(c) for c in mask])\n",
        "    if (direction in [UP8, UP4]):\n",
        "        row_offsets = [0,  0, -1, -1, -2, -2, -3, -3]\n",
        "        col_offsets = [0, -1,  0, -1,  0, -1,  0, -1]\n",
        "    if (direction in [DOWN8, DOWN4]):\n",
        "        row_offsets = [0,  0,  1,  1,  2,  2,  3,  3]\n",
        "        col_offsets = [0, -1,  0, -1,  0, -1,  0, -1]\n",
        "    if (direction == CW8):\n",
        "        row_offsets = [0,  0,  1,  1,  1,  1,  0,  0]\n",
        "        col_offsets = [0, -1,  0, -1, -2, -3, -2, -3]\n",
        "    if (direction == CCW8):\n",
        "        row_offsets = [0,  0, -1, -1, -1, -1,  0,  0]\n",
        "        col_offsets = [0, -1,  0, -1, -2, -3, -2, -3]\n",
        "    for i, j in zip(row_offsets, col_offsets):\n",
        "        cell_bit = bool(data[data_start_i+i, data_start_j+j])\n",
        "        mask_bit = MASKS[mask_str](data_start_i+i, data_start_j+j)\n",
        "        print(f\"Cell bit: {cell_bit}, Mask bit: {mask_bit}, Mask: {mask_str}\")\n",
        "        # Modules corresponding to the dark areas of the mask are inverted.\n",
        "        result.append(int(not cell_bit if mask_bit else cell_bit))\n",
        "    print(f\"Result: {result}\")\n",
        "    return result[:4] if direction in [UP4, DOWN4] else result\n"
      ],
      "metadata": {
        "id": "4u45Q9I_-Q0m"
      },
      "execution_count": null,
      "outputs": []
    },
    {
      "cell_type": "code",
      "source": [
        "enc_bits = apply_mask_general(21-1, 21-1, img3_21x21_grid_inv, mask, UP8)[:4]\n",
        "print(enc_bits)\n",
        "# 0001\tNumeric encoding (10 bits per 3 digits)\n",
        "# 0010\tAlphanumeric encoding (11 bits per 2 characters)\n",
        "# 0100\tByte encoding (8 bits per character)\n",
        "# 1000\tKanji encoding (13 bits per character)\n",
        "# ..."
      ],
      "metadata": {
        "colab": {
          "base_uri": "https://localhost:8080/"
        },
        "id": "xSpP11F4AuRt",
        "outputId": "9e123dfa-2311-4ae7-cb3f-5c0ea19b744f"
      },
      "execution_count": null,
      "outputs": [
        {
          "output_type": "stream",
          "name": "stdout",
          "text": [
            "Applying mask with start indices: 20, 20, direction: 0\n",
            "Cell bit: False, Mask bit: False, Mask: 010\n",
            "Cell bit: True, Mask bit: False, Mask: 010\n",
            "Cell bit: False, Mask bit: False, Mask: 010\n",
            "Cell bit: False, Mask bit: False, Mask: 010\n",
            "Cell bit: True, Mask bit: True, Mask: 010\n",
            "Cell bit: False, Mask bit: False, Mask: 010\n",
            "Cell bit: True, Mask bit: True, Mask: 010\n",
            "Cell bit: True, Mask bit: True, Mask: 010\n",
            "Result: [0, 1, 0, 0, 0, 0, 0, 0]\n",
            "[0, 1, 0, 0]\n"
          ]
        }
      ]
    },
    {
      "cell_type": "code",
      "source": [
        "len_bits = apply_mask_general(21-3, 21-1, img3_21x21_grid_inv, mask, UP8)\n",
        "len_int = int(''.join([str(bit) for bit in len_bits]), 2)\n",
        "print(f'{len_bits} = {len_int} data symbols, each consisting of 8 bits')"
      ],
      "metadata": {
        "colab": {
          "base_uri": "https://localhost:8080/"
        },
        "id": "qeyesPDLCGUx",
        "outputId": "4112091c-5ac8-43ee-9556-e8cfdd01bfdb"
      },
      "execution_count": null,
      "outputs": [
        {
          "output_type": "stream",
          "name": "stdout",
          "text": [
            "Applying mask with start indices: 18, 20, direction: 0\n",
            "Cell bit: True, Mask bit: True, Mask: 010\n",
            "Cell bit: False, Mask bit: False, Mask: 010\n",
            "Cell bit: True, Mask bit: True, Mask: 010\n",
            "Cell bit: True, Mask bit: True, Mask: 010\n",
            "Cell bit: False, Mask bit: True, Mask: 010\n",
            "Cell bit: False, Mask bit: True, Mask: 010\n",
            "Cell bit: False, Mask bit: False, Mask: 010\n",
            "Cell bit: True, Mask bit: True, Mask: 010\n",
            "Result: [0, 0, 0, 0, 1, 1, 0, 0]\n",
            "[0, 0, 0, 0, 1, 1, 0, 0] = 12 data symbols, each consisting of 8 bits\n"
          ]
        }
      ]
    },
    {
      "cell_type": "code",
      "source": [
        "block_starting_indices = [\n",
        "    [21-7,  21-1,  UP8],\n",
        "    [21-11, 21-1,  CCW8],\n",
        "    [21-10, 21-3,  DOWN8],\n",
        "    [21-6,  21-3,  DOWN8],\n",
        "    [21-2,  21-3,  CW8],\n",
        "    [21-3,  21-5,  UP8],\n",
        "    [21-7,  21-5,  UP8],\n",
        "    [21-11, 21-5,  CCW8],\n",
        "    [21-10, 21-7,  DOWN8],\n",
        "    [21-6,  21-7,  DOWN8],\n",
        "    [21-2,  21-7,  CW8],\n",
        "    [21-3,  21-9,  UP8],\n",
        "    [21-7,  21-9,  UP8],\n",
        "    [21-11, 21-9,  UP8],\n",
        "    [21-16, 21-9,  UP8],\n",
        "    [21-20, 21-9,  CCW8],\n",
        "    [21-19, 21-11, DOWN8],\n",
        "    [21-14, 21-11, DOWN4],  # Special 4-byte block, reserved for END (if exists!)\n",
        "    [21-12, 21-11, DOWN8],\n",
        "    [21-8,  21-11, DOWN8],\n",
        "    [21-4,  21-11, DOWN8],\n",
        "    [21-9,  21-13, UP8],\n",
        "    [21-12, 21-16, DOWN8],\n",
        "    [21-9,  21-18, UP8],\n",
        "    [21-12, 21-20, DOWN8],\n",
        "]"
      ],
      "metadata": {
        "id": "4ge-sjnxA9Eh"
      },
      "execution_count": null,
      "outputs": []
    },
    {
      "cell_type": "code",
      "source": [
        "message_bits = []\n",
        "message_bits.extend(enc_bits)\n",
        "message_bits.extend(len_bits)\n",
        "print(f\"Initial message bits: {message_bits}\")\n",
        "# Let me re-format this for better readability :)\n",
        "# First, let's read the data bytes, starting from the very first byte after enc and len\n",
        "byte_index = 0\n",
        "for _ in range(len_int):\n",
        "    start_i, start_j, dir = block_starting_indices[byte_index]\n",
        "    print(f\"Start indices: {start_i}, {start_j}, direction: {dir}\")\n",
        "    bits = apply_mask_general(start_i, start_j, img3_21x21_grid_inv, mask, dir)\n",
        "    message_bits.extend(bits)\n",
        "    bit_string = ''.join([str(bit) for bit in bits])\n",
        "    alpha_char = chr(int(bit_string, 2))\n",
        "    print(f'Bit string: {bit_string} (={int(bit_string, 2):03d}) = {alpha_char}')\n",
        "    byte_index += 1\n",
        "print(f\"Final message bits: {message_bits}\")\n"
      ],
      "metadata": {
        "colab": {
          "base_uri": "https://localhost:8080/"
        },
        "id": "ef0EJbuXTUQV",
        "outputId": "e80f0caf-72b8-436a-82d6-7f9115c501fe"
      },
      "execution_count": null,
      "outputs": [
        {
          "output_type": "stream",
          "name": "stdout",
          "text": [
            "Initial message bits: [0, 1, 0, 0, 0, 0, 0, 0, 1, 1, 0, 0]\n",
            "Start indices: 14, 20, direction: 0\n",
            "Applying mask with start indices: 14, 20, direction: 0\n",
            "Cell bit: False, Mask bit: False, Mask: 010\n",
            "Cell bit: False, Mask bit: False, Mask: 010\n",
            "Cell bit: True, Mask bit: False, Mask: 010\n",
            "Cell bit: True, Mask bit: False, Mask: 010\n",
            "Cell bit: True, Mask bit: True, Mask: 010\n",
            "Cell bit: False, Mask bit: False, Mask: 010\n",
            "Cell bit: True, Mask bit: True, Mask: 010\n",
            "Cell bit: True, Mask bit: True, Mask: 010\n",
            "Result: [0, 0, 1, 1, 0, 0, 0, 0]\n",
            "Bit string: 00110000 (=048) = 0\n",
            "Start indices: 10, 20, direction: 5\n",
            "Applying mask with start indices: 10, 20, direction: 5\n",
            "Cell bit: True, Mask bit: True, Mask: 010\n",
            "Cell bit: True, Mask bit: True, Mask: 010\n",
            "Cell bit: True, Mask bit: False, Mask: 010\n",
            "Cell bit: False, Mask bit: True, Mask: 010\n",
            "Cell bit: False, Mask bit: False, Mask: 010\n",
            "Cell bit: True, Mask bit: True, Mask: 010\n",
            "Cell bit: True, Mask bit: True, Mask: 010\n",
            "Cell bit: True, Mask bit: False, Mask: 010\n",
            "Result: [0, 0, 1, 1, 0, 0, 0, 1]\n",
            "Bit string: 00110001 (=049) = 1\n",
            "Start indices: 11, 18, direction: 2\n",
            "Applying mask with start indices: 11, 18, direction: 2\n",
            "Cell bit: False, Mask bit: False, Mask: 010\n",
            "Cell bit: False, Mask bit: False, Mask: 010\n",
            "Cell bit: False, Mask bit: True, Mask: 010\n",
            "Cell bit: False, Mask bit: False, Mask: 010\n",
            "Cell bit: True, Mask bit: False, Mask: 010\n",
            "Cell bit: False, Mask bit: True, Mask: 010\n",
            "Cell bit: True, Mask bit: True, Mask: 010\n",
            "Cell bit: False, Mask bit: True, Mask: 010\n",
            "Result: [0, 0, 1, 0, 1, 1, 0, 1]\n",
            "Bit string: 00101101 (=045) = -\n",
            "Start indices: 15, 18, direction: 2\n",
            "Applying mask with start indices: 15, 18, direction: 2\n",
            "Cell bit: False, Mask bit: False, Mask: 010\n",
            "Cell bit: False, Mask bit: True, Mask: 010\n",
            "Cell bit: True, Mask bit: True, Mask: 010\n",
            "Cell bit: False, Mask bit: False, Mask: 010\n",
            "Cell bit: False, Mask bit: False, Mask: 010\n",
            "Cell bit: True, Mask bit: False, Mask: 010\n",
            "Cell bit: False, Mask bit: True, Mask: 010\n",
            "Cell bit: True, Mask bit: False, Mask: 010\n",
            "Result: [0, 1, 0, 0, 0, 1, 1, 1]\n",
            "Bit string: 01000111 (=071) = G\n",
            "Start indices: 19, 18, direction: 4\n",
            "Applying mask with start indices: 19, 18, direction: 4\n",
            "Cell bit: False, Mask bit: False, Mask: 010\n",
            "Cell bit: False, Mask bit: True, Mask: 010\n",
            "Cell bit: False, Mask bit: True, Mask: 010\n",
            "Cell bit: True, Mask bit: True, Mask: 010\n",
            "Cell bit: False, Mask bit: True, Mask: 010\n",
            "Cell bit: True, Mask bit: False, Mask: 010\n",
            "Cell bit: False, Mask bit: True, Mask: 010\n",
            "Cell bit: False, Mask bit: True, Mask: 010\n",
            "Result: [0, 1, 1, 0, 1, 1, 1, 1]\n",
            "Bit string: 01101111 (=111) = o\n",
            "Start indices: 18, 16, direction: 0\n",
            "Applying mask with start indices: 18, 16, direction: 0\n",
            "Cell bit: True, Mask bit: True, Mask: 010\n",
            "Cell bit: True, Mask bit: False, Mask: 010\n",
            "Cell bit: True, Mask bit: False, Mask: 010\n",
            "Cell bit: True, Mask bit: True, Mask: 010\n",
            "Cell bit: True, Mask bit: False, Mask: 010\n",
            "Cell bit: True, Mask bit: False, Mask: 010\n",
            "Cell bit: True, Mask bit: False, Mask: 010\n",
            "Cell bit: False, Mask bit: True, Mask: 010\n",
            "Result: [0, 1, 1, 0, 1, 1, 1, 1]\n",
            "Bit string: 01101111 (=111) = o\n",
            "Start indices: 14, 16, direction: 0\n",
            "Applying mask with start indices: 14, 16, direction: 0\n",
            "Cell bit: True, Mask bit: True, Mask: 010\n",
            "Cell bit: True, Mask bit: False, Mask: 010\n",
            "Cell bit: False, Mask bit: True, Mask: 010\n",
            "Cell bit: True, Mask bit: True, Mask: 010\n",
            "Cell bit: True, Mask bit: True, Mask: 010\n",
            "Cell bit: True, Mask bit: False, Mask: 010\n",
            "Cell bit: False, Mask bit: False, Mask: 010\n",
            "Cell bit: True, Mask bit: True, Mask: 010\n",
            "Result: [0, 1, 1, 0, 0, 1, 0, 0]\n",
            "Bit string: 01100100 (=100) = d\n",
            "Start indices: 10, 16, direction: 5\n",
            "Applying mask with start indices: 10, 16, direction: 5\n",
            "Cell bit: False, Mask bit: False, Mask: 010\n",
            "Cell bit: False, Mask bit: False, Mask: 010\n",
            "Cell bit: True, Mask bit: False, Mask: 010\n",
            "Cell bit: True, Mask bit: True, Mask: 010\n",
            "Cell bit: False, Mask bit: False, Mask: 010\n",
            "Cell bit: True, Mask bit: True, Mask: 010\n",
            "Cell bit: True, Mask bit: True, Mask: 010\n",
            "Cell bit: True, Mask bit: True, Mask: 010\n",
            "Result: [0, 0, 1, 0, 0, 0, 0, 0]\n",
            "Bit string: 00100000 (=032) =  \n",
            "Start indices: 11, 14, direction: 2\n",
            "Applying mask with start indices: 11, 14, direction: 2\n",
            "Cell bit: True, Mask bit: True, Mask: 010\n",
            "Cell bit: False, Mask bit: True, Mask: 010\n",
            "Cell bit: False, Mask bit: True, Mask: 010\n",
            "Cell bit: False, Mask bit: False, Mask: 010\n",
            "Cell bit: True, Mask bit: False, Mask: 010\n",
            "Cell bit: False, Mask bit: False, Mask: 010\n",
            "Cell bit: True, Mask bit: False, Mask: 010\n",
            "Cell bit: False, Mask bit: False, Mask: 010\n",
            "Result: [0, 1, 1, 0, 1, 0, 1, 0]\n",
            "Bit string: 01101010 (=106) = j\n",
            "Start indices: 15, 14, direction: 2\n",
            "Applying mask with start indices: 15, 14, direction: 2\n",
            "Cell bit: False, Mask bit: False, Mask: 010\n",
            "Cell bit: False, Mask bit: True, Mask: 010\n",
            "Cell bit: False, Mask bit: True, Mask: 010\n",
            "Cell bit: True, Mask bit: True, Mask: 010\n",
            "Cell bit: False, Mask bit: True, Mask: 010\n",
            "Cell bit: False, Mask bit: True, Mask: 010\n",
            "Cell bit: False, Mask bit: True, Mask: 010\n",
            "Cell bit: True, Mask bit: False, Mask: 010\n",
            "Result: [0, 1, 1, 0, 1, 1, 1, 1]\n",
            "Bit string: 01101111 (=111) = o\n",
            "Start indices: 19, 14, direction: 4\n",
            "Applying mask with start indices: 19, 14, direction: 4\n",
            "Cell bit: False, Mask bit: False, Mask: 010\n",
            "Cell bit: True, Mask bit: False, Mask: 010\n",
            "Cell bit: True, Mask bit: False, Mask: 010\n",
            "Cell bit: False, Mask bit: False, Mask: 010\n",
            "Cell bit: True, Mask bit: True, Mask: 010\n",
            "Cell bit: True, Mask bit: True, Mask: 010\n",
            "Cell bit: True, Mask bit: False, Mask: 010\n",
            "Cell bit: True, Mask bit: True, Mask: 010\n",
            "Result: [0, 1, 1, 0, 0, 0, 1, 0]\n",
            "Bit string: 01100010 (=098) = b\n",
            "Start indices: 18, 12, direction: 0\n",
            "Applying mask with start indices: 18, 12, direction: 0\n",
            "Cell bit: True, Mask bit: True, Mask: 010\n",
            "Cell bit: False, Mask bit: False, Mask: 010\n",
            "Cell bit: True, Mask bit: False, Mask: 010\n",
            "Cell bit: False, Mask bit: False, Mask: 010\n",
            "Cell bit: True, Mask bit: True, Mask: 010\n",
            "Cell bit: False, Mask bit: False, Mask: 010\n",
            "Cell bit: False, Mask bit: False, Mask: 010\n",
            "Cell bit: False, Mask bit: True, Mask: 010\n",
            "Result: [0, 0, 1, 0, 0, 0, 0, 1]\n",
            "Bit string: 00100001 (=033) = !\n",
            "Final message bits: [0, 1, 0, 0, 0, 0, 0, 0, 1, 1, 0, 0, 0, 0, 1, 1, 0, 0, 0, 0, 0, 0, 1, 1, 0, 0, 0, 1, 0, 0, 1, 0, 1, 1, 0, 1, 0, 1, 0, 0, 0, 1, 1, 1, 0, 1, 1, 0, 1, 1, 1, 1, 0, 1, 1, 0, 1, 1, 1, 1, 0, 1, 1, 0, 0, 1, 0, 0, 0, 0, 1, 0, 0, 0, 0, 0, 0, 1, 1, 0, 1, 0, 1, 0, 0, 1, 1, 0, 1, 1, 1, 1, 0, 1, 1, 0, 0, 0, 1, 0, 0, 0, 1, 0, 0, 0, 0, 1]\n"
          ]
        }
      ]
    },
    {
      "cell_type": "code",
      "source": [
        "# After finishing all the characters, the next 4 bits are expected to be '0000'\n",
        "start_i, start_j, dir = block_starting_indices[byte_index]\n",
        "print(f\"Start indices: {start_i}, {start_j}, direction: {dir}\")\n",
        "bits = apply_mask_general(start_i, start_j, img3_21x21_grid_inv, mask, dir)\n",
        "message_bits.extend(bits)\n",
        "print(f\"Bits: {bits}\")\n",
        "byte_index += 1\n",
        "print(f\"Byte index: {byte_index}\")\n"
      ],
      "metadata": {
        "colab": {
          "base_uri": "https://localhost:8080/"
        },
        "id": "cLQxR9XTbRSw",
        "outputId": "232b9dea-9f8a-48f0-f4d0-1883480b85f1"
      },
      "execution_count": null,
      "outputs": [
        {
          "output_type": "stream",
          "name": "stdout",
          "text": [
            "Start indices: 14, 12, direction: 0\n",
            "Applying mask with start indices: 14, 12, direction: 0\n",
            "Cell bit: True, Mask bit: True, Mask: 010\n",
            "Cell bit: True, Mask bit: True, Mask: 010\n",
            "Cell bit: False, Mask bit: False, Mask: 010\n",
            "Cell bit: True, Mask bit: True, Mask: 010\n",
            "Cell bit: False, Mask bit: True, Mask: 010\n",
            "Cell bit: True, Mask bit: False, Mask: 010\n",
            "Cell bit: True, Mask bit: False, Mask: 010\n",
            "Cell bit: False, Mask bit: False, Mask: 010\n",
            "Result: [0, 0, 0, 0, 1, 1, 1, 0]\n",
            "Bits: [0, 0, 0, 0, 1, 1, 1, 0]\n",
            "Byte index: 13\n"
          ]
        }
      ]
    },
    {
      "cell_type": "code",
      "source": [
        "# Let's see what the bytes that follow look like\n",
        "# There supposedly remain 25-2=23 bytes to be read\n",
        "for _ in range(23):\n",
        "    start_i, start_j, dir = block_starting_indices[byte_index]\n",
        "    print(f\"Start indices: {start_i}, {start_j}, direction: {dir}\")\n",
        "    bits = apply_mask_general(start_i, start_j, img3_21x21_grid_inv, mask, dir)\n",
        "    message_bits.extend(bits)\n",
        "    bit_string = ''.join([str(bit) for bit in bits])\n",
        "    alpha_char = chr(int(bit_string, 2))\n",
        "    print(f'Bit string: {bit_string} (={int(bit_string, 2):03d}) = {alpha_char}')\n",
        "    byte_index += 1\n",
        "    print(f\"Byte index: {byte_index}\")\n"
      ],
      "metadata": {
        "colab": {
          "base_uri": "https://localhost:8080/",
          "height": 218
        },
        "id": "ysBoak29b3t7",
        "outputId": "0c90516a-a1e4-4227-9659-351dd810604f"
      },
      "execution_count": null,
      "outputs": [
        {
          "output_type": "error",
          "ename": "IndexError",
          "evalue": "list index out of range",
          "traceback": [
            "\u001b[0;31m---------------------------------------------------------------------------\u001b[0m",
            "\u001b[0;31mIndexError\u001b[0m                                Traceback (most recent call last)",
            "\u001b[0;32m<ipython-input-39-d1853027d781>\u001b[0m in \u001b[0;36m<cell line: 3>\u001b[0;34m()\u001b[0m\n\u001b[1;32m      2\u001b[0m \u001b[0;31m# There supposedly remain 25-2=23 bytes to be read\u001b[0m\u001b[0;34m\u001b[0m\u001b[0;34m\u001b[0m\u001b[0m\n\u001b[1;32m      3\u001b[0m \u001b[0;32mfor\u001b[0m \u001b[0m_\u001b[0m \u001b[0;32min\u001b[0m \u001b[0mrange\u001b[0m\u001b[0;34m(\u001b[0m\u001b[0;36m23\u001b[0m\u001b[0;34m)\u001b[0m\u001b[0;34m:\u001b[0m\u001b[0;34m\u001b[0m\u001b[0;34m\u001b[0m\u001b[0m\n\u001b[0;32m----> 4\u001b[0;31m     \u001b[0mstart_i\u001b[0m\u001b[0;34m,\u001b[0m \u001b[0mstart_j\u001b[0m\u001b[0;34m,\u001b[0m \u001b[0mdir\u001b[0m \u001b[0;34m=\u001b[0m \u001b[0mblock_starting_indices\u001b[0m\u001b[0;34m[\u001b[0m\u001b[0mbyte_index\u001b[0m\u001b[0;34m]\u001b[0m\u001b[0;34m\u001b[0m\u001b[0;34m\u001b[0m\u001b[0m\n\u001b[0m\u001b[1;32m      5\u001b[0m     \u001b[0mprint\u001b[0m\u001b[0;34m(\u001b[0m\u001b[0;34mf\"Start indices: {start_i}, {start_j}, direction: {dir}\"\u001b[0m\u001b[0;34m)\u001b[0m\u001b[0;34m\u001b[0m\u001b[0;34m\u001b[0m\u001b[0m\n\u001b[1;32m      6\u001b[0m     \u001b[0mbits\u001b[0m \u001b[0;34m=\u001b[0m \u001b[0mapply_mask_general\u001b[0m\u001b[0;34m(\u001b[0m\u001b[0mstart_i\u001b[0m\u001b[0;34m,\u001b[0m \u001b[0mstart_j\u001b[0m\u001b[0;34m,\u001b[0m \u001b[0mimg3_21x21_grid_inv\u001b[0m\u001b[0;34m,\u001b[0m \u001b[0mmask\u001b[0m\u001b[0;34m,\u001b[0m \u001b[0mdir\u001b[0m\u001b[0;34m)\u001b[0m\u001b[0;34m\u001b[0m\u001b[0;34m\u001b[0m\u001b[0m\n",
            "\u001b[0;31mIndexError\u001b[0m: list index out of range"
          ]
        }
      ]
    },
    {
      "cell_type": "code",
      "source": [
        "# For every 8 bits in the extracted message, convert to a byte\n",
        "message_bytes = [int(\"\".join(map(str, message_bits[i:i+8])), 2) for i in range(0, len(message_bits), 8)]\n",
        "print(f\"Message bytes: {message_bytes}\")\n",
        "\n",
        "# Create the Reed-Solomon Codec for 7 ECC symbols (again, this is L)\n",
        "rsc = rs.RSCodec(nsym=7)\n",
        "\n",
        "# Decode the bytes with the 7-ECC RS Codec\n",
        "message_decoded = rsc.decode(message_bytes)\n",
        "print(f\"Decoded message: {message_decoded}\")\n",
        "\n",
        "rsc.maxerrata(verbose=True)\n",
        "\n",
        "# In order to extract the actual data, need to convert back to bits\n",
        "# Then take as many bytes as indicated by the message length indicator\n",
        "# That is AFTER removing the first 12 bytes (of enc and len)\n",
        "data_bits = bin(int.from_bytes(message_decoded[0], byteorder='big'))[13:13+len_int*8]\n",
        "print(f\"Data bits: {data_bits}\")\n",
        "\n",
        "# Now convert back to bytes and print it lol\n",
        "data_bytes = int(data_bits, 2).to_bytes((len(data_bits)+7)//8, 'big')\n",
        "print(f'Data in message = \"{data_bytes.decode(encoding=\"iso-8859-1\")}\"')\n",
        "print(f'Data should be... \"a\"')\n"
      ],
      "metadata": {
        "colab": {
          "base_uri": "https://localhost:8080/"
        },
        "id": "lrmKjx29dTEn",
        "outputId": "657885a0-03fd-4d18-e9e8-77644cc50973"
      },
      "execution_count": null,
      "outputs": [
        {
          "output_type": "stream",
          "name": "stdout",
          "text": [
            "Message bytes: [64, 195, 3, 18, 212, 118, 246, 246, 66, 6, 166, 246, 34, 16, 236, 17, 236, 17, 236, 67, 39, 95, 59, 243, 145, 152, 152]\n",
            "Decoded message: (bytearray(b'@\\xc3\\x03\\x12\\xd4v\\xf6\\xf6B\\x06\\xa6\\xf6\"\\x10\\xec\\x11\\xec\\x11\\xecC'), bytearray(b'@\\xc3\\x03\\x12\\xd4v\\xf6\\xf6B\\x06\\xa6\\xf6\"\\x10\\xec\\x11\\xec\\x11\\xecC\\'_;\\xf3\\x91\\x98\\x00'), bytearray(b'\\x1a'))\n",
            "This codec can correct up to 3 errors and 7 erasures independently\n",
            "Data bits: 001100000011000100101101010001110110111101101111011001000010000001101010011011110110001000100001\n",
            "Data in message = \"01-Good job!\"\n",
            "Data should be... \"a\"\n"
          ]
        }
      ]
    }
  ]
}