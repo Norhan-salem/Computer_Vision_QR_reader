{
 "cells": [
  {
   "cell_type": "markdown",
   "metadata": {
    "id": "9TTdTivNUBlp"
   },
   "source": [
    "\n",
    "1.   Reed-solomon ec for test cases 7, 10, 13, 15\n",
    "2.   Differentiate between v1 and v3 without depending on module size\n",
    "3.   Identify that test case 2, 6, 14 are warped and straighten them into a square\n",
    "4.   Decode v3 for test case 15, 16\n",
    "5.   mighty finger has alphanumeric encoding type don't know if i should invest time in alterring to fit it\n",
    "\n",
    "\n",
    "\n",
    "\n"
   ]
  },
  {
   "cell_type": "code",
   "execution_count": 38,
   "metadata": {
    "ExecuteTime": {
     "end_time": "2024-05-05T16:33:35.506368100Z",
     "start_time": "2024-05-05T16:33:35.492369500Z"
    },
    "collapsed": false
   },
   "outputs": [],
   "source": [
    "import cv2\n",
    "import numpy as np\n",
    "import matplotlib.pyplot as plt\n",
    "import math\n",
    "import reedsolo as rs\n",
    "import os"
   ]
  },
  {
   "cell_type": "code",
   "execution_count": 88,
   "metadata": {
    "ExecuteTime": {
     "end_time": "2024-05-05T16:33:36.389372Z",
     "start_time": "2024-05-05T16:33:36.195373500Z"
    },
    "collapsed": false
   },
   "outputs": [
    {
     "data": {
      "text/plain": [
       "<matplotlib.image.AxesImage at 0x15c28b495d0>"
      ]
     },
     "execution_count": 88,
     "metadata": {},
     "output_type": "execute_result"
    },
    {
     "data": {
      "image/png": "[encoded data removed]",
      "text/plain": [
       "<Figure size 500x500 with 1 Axes>"
      ]
     },
     "metadata": {},
     "output_type": "display_data"
    }
   ],
   "source": [
    "# Define the image file path\n",
    "image_file_path = \"preprocessed_images/output_19.png\"\n",
    "\n",
    "# Check if the image file exists\n",
    "if not os.path.isfile(image_file_path):\n",
    "    raise FileNotFoundError(f\"The image file {image_file_path} does not exist.\")\n",
    "\n",
    "# Read the image file\n",
    "try:\n",
    "    img = cv2.imread(image_file_path, cv2.IMREAD_GRAYSCALE)\n",
    "except Exception as e:\n",
    "    raise IOError(f\"Unable to read the image file {image_file_path}. Error: {str(e)}\")\n",
    "\n",
    "# Apply a binary threshold to the image\n",
    "_, img = cv2.threshold(img, 127, 255, cv2.THRESH_BINARY)\n",
    "\n",
    "# Display the image\n",
    "fig = plt.figure(figsize=(5, 5))\n",
    "plt.xticks([], [])\n",
    "plt.yticks([], [])\n",
    "plt.title('Example QR code')\n",
    "plt.imshow(img, cmap='gray')"
   ]
  },
  {
   "cell_type": "code",
   "execution_count": 89,
   "metadata": {},
   "outputs": [],
   "source": [
    "quiet_zone_ratio_map = {\n",
    "    \"preprocessed_images/output_1.png\": 0.05,\n",
    "    \"preprocessed_images/output_2.png\": 0.01,\n",
    "    \"preprocessed_images/output_3.png\": 0.05,\n",
    "    \"preprocessed_images/output_4.png\": 0.05,\n",
    "    \"preprocessed_images/output_5.png\": 0.02,\n",
    "    \"preprocessed_images/output_6.png\": 0.02,\n",
    "    \"preprocessed_images/output_7.png\": 0.05,\n",
    "    \"preprocessed_images/output_8.png\": 0.05,\n",
    "    \"preprocessed_images/output_9.png\": 0.053,\n",
    "    \"preprocessed_images/output_10.png\": 0.01,\n",
    "    \"preprocessed_images/output_11.png\": 0.05,\n",
    "    \"preprocessed_images/output_12.png\": 0.05,\n",
    "    \"preprocessed_images/output_13.png\": 0.05,\n",
    "    \"preprocessed_images/output_14.png\": 0.015,\n",
    "    \"preprocessed_images/output_15.png\": 0.015,\n",
    "    \"preprocessed_images/output_16.png\": 0.03,\n",
    "    \"preprocessed_images/output_17.png\": 0.05,\n",
    "    \"preprocessed_images/output_18.png\": 0.05,\n",
    "    \"preprocessed_images/output_19.png\": 0.05,\n",
    "}"
   ]
  },
  {
   "cell_type": "code",
   "execution_count": 90,
   "metadata": {},
   "outputs": [
    {
     "data": {
      "image/png": "[encoded data removed]",
      "text/plain": [
       "<Figure size 500x500 with 1 Axes>"
      ]
     },
     "metadata": {},
     "output_type": "display_data"
    }
   ],
   "source": [
    "# Apply a binary threshold to segment the QR code\n",
    "_, thresh = cv2.threshold(img, 0, 255, cv2.THRESH_BINARY + cv2.THRESH_OTSU)\n",
    "\n",
    "# Detect all contours in the thresholded image\n",
    "contours, _ = cv2.findContours(thresh, cv2.RETR_TREE, cv2.CHAIN_APPROX_SIMPLE)\n",
    "\n",
    "# Assume the largest contour represents the QR code\n",
    "largest_contour = max(contours, key=cv2.contourArea)\n",
    "\n",
    "# Get the bounding rectangle of the largest contour\n",
    "x, y, w, h = cv2.boundingRect(largest_contour)\n",
    "\n",
    "# Manually exclude the quiet zone by reducing the dimensions\n",
    "# Here, we assume the quiet zone is a certain percentage of the overall size\n",
    "quiet_zone_ratio = 0.05  # Adjust based on the estimated quiet zone size\n",
    "new_x = int(x + quiet_zone_ratio * w)\n",
    "new_y = int(y + quiet_zone_ratio * h)\n",
    "new_w = int(w * (1 - 2 * quiet_zone_ratio))\n",
    "new_h = int(h * (1 - 2 * quiet_zone_ratio))\n",
    "\n",
    "# Crop the QR code region to remove the quiet zone\n",
    "qr_no_quiet_zone = img[new_y:new_y+new_h, new_x:new_x+new_w]\n",
    "\n",
    "# Plot the cropped QR code with a red border\n",
    "fig = plt.figure(figsize=(5, 5))\n",
    "plt.xticks([], [])\n",
    "plt.yticks([], [])\n",
    "plt.title('QR code without quiet zone', y=1.15, color='red')\n",
    "plt.imshow(qr_no_quiet_zone, cmap='gray')\n",
    "plt.gca().spines['top'].set_color('red')\n",
    "plt.gca().spines['right'].set_color('red')\n",
    "plt.gca().spines['bottom'].set_color('red')\n",
    "plt.gca().spines['left'].set_color('red')\n",
    "plt.gca().spines['top'].set_linewidth(2)\n",
    "plt.gca().spines['right'].set_linewidth(2)\n",
    "plt.gca().spines['bottom'].set_linewidth(2)\n",
    "plt.gca().spines['left'].set_linewidth(2)\n",
    "plt.show()\n"
   ]
  },
  {
   "cell_type": "markdown",
   "metadata": {
    "collapsed": false
   },
   "source": [
    "### QR Code Cropping Algorithm\n",
    "\n",
    "\n",
    "This code follows the edges of a QR code within an image and crops it, leaving the quiet zone out:\n",
    "\n",
    "\n",
    "1. **Finding Boundaries**:\n",
    "\n",
    "- It cycles through the rows and columns of the picture to locate the first and last rows/columns with non-whitespace pixels that denote the beginning and the end of the QR code.\n",
    "\n",
    "\n",
    "2. **Aligning Rows and Columns**: \n",
    "\n",
    "- It makes the start and end rows/columns to be aligned by taking the maximum of their values.\n",
    "\n",
    "\n",
    "3. **Ensuring Divisibility by 21**: \n",
    "\n",
    "- It ensures that the difference of start and end rows/columns is a multiple of 21, since each QR code module is usually of 21 pixels.\n",
    "\n",
    "\n",
    "4. **Cropping**:\n",
    "\n",
    "- It outputs crop region coordinates.\n"
   ]
  },
  {
   "cell_type": "code",
   "execution_count": 12,
   "metadata": {
    "collapsed": false
   },
   "outputs": [
    {
     "name": "stdout",
     "output_type": "stream",
     "text": [
      "0 1008 0 1008\n"
     ]
    }
   ],
   "source": [
    "# gotta find a new way to get the qr without the quiet zone\n",
    "start_row = -1\n",
    "start_col = -1\n",
    "end_row = -1\n",
    "end_col = -1\n",
    "\n",
    "for row_index, row in enumerate(img):\n",
    "    for pixel in row:\n",
    "        if pixel != 255:\n",
    "            start_row = row_index\n",
    "            break\n",
    "    if start_row != -1:\n",
    "        break\n",
    "\n",
    "for row_index, row in enumerate(img[::-1]):\n",
    "    for pixel in row:\n",
    "        if pixel != 255:\n",
    "            end_row = img.shape[0] - row_index\n",
    "            break\n",
    "    if end_row != -1:\n",
    "        break\n",
    "\n",
    "for col_index, col in enumerate(cv2.transpose(img)):\n",
    "    for pixel in col:\n",
    "        if pixel != 255:\n",
    "            start_col = col_index\n",
    "            break\n",
    "    if start_col != -1:\n",
    "        break\n",
    "\n",
    "for col_index, col in enumerate(cv2.transpose(img)[::-1]):\n",
    "    for pixel in col:\n",
    "        if pixel != 255:\n",
    "            end_col = img.shape[1] - col_index\n",
    "            break\n",
    "    if end_col != -1:\n",
    "        break\n",
    "# Align the start and end rows and columns\n",
    "start_row, start_col = max(start_row, start_col), max(start_row, start_col)\n",
    "end_row, end_col = max(end_row, end_col), max(end_row, end_col)\n",
    "\n",
    "# Ensure the difference between the start and end is divisible by 21\n",
    "diff_row = end_row - start_row\n",
    "diff_col = end_col - start_col\n",
    "\n",
    "if diff_row % 21 != 0:\n",
    "    end_row -= diff_row % 21\n",
    "if diff_col % 21 != 0:\n",
    "    end_col -= diff_col % 21\n",
    "\n",
    "\n",
    "print(start_row, end_row, start_col, end_col)\n",
    "# 44 968 44 968"
   ]
  },
  {
   "cell_type": "code",
   "execution_count": 13,
   "metadata": {
    "collapsed": false
   },
   "outputs": [
    {
     "data": {
      "image/png": "[encoded data removed]",
      "text/plain": [
       "<Figure size 500x500 with 1 Axes>"
      ]
     },
     "metadata": {},
     "output_type": "display_data"
    }
   ],
   "source": [
    "qr_no_quiet_zone = img[start_row: end_row, start_col: end_col]\n",
    "fig = plt.figure(figsize=(5, 5));\n",
    "plt.xticks([], []);\n",
    "plt.yticks([], []);\n",
    "fig.get_axes()[0].spines[:].set_color('red');\n",
    "fig.get_axes()[0].spines[:].set_linewidth(40);\n",
    "fig.get_axes()[0].spines[:].set_position((\"outward\", 20))\n",
    "plt.title('QR code without quiet zone', y = 1.15, color='red');\n",
    "plt.imshow(qr_no_quiet_zone, cmap='gray');"
   ]
  },
  {
   "cell_type": "markdown",
   "metadata": {
    "collapsed": false
   },
   "source": [
    "### QR Code Grid Cell Partitioning\n",
    "\n",
    "This code divides the QR code region (excluding the quiet zone) into a grid of smaller cells:\n",
    "\n",
    "1. **Grid Cell Calculation**:\n",
    "   - `grid_cells_num` is set to 21, determining the number of cells along each dimension.\n",
    "   - `grid_cell_size` is calculated based on the QR code region dimensions and the desired number of cells.\n",
    "\n",
    "2. **Reshaping into Grid Cells**:\n",
    "   - The QR code region is reshaped into a grid of cells.\n",
    "   - Each cell's dimensions are determined by `grid_cell_size`, and the grid size is determined by `grid_cells_num`.\n"
   ]
  },
  {
   "cell_type": "code",
   "execution_count": null,
   "metadata": {
    "collapsed": false
   },
   "outputs": [],
   "source": [
    "\n",
    "grid_cells_num = 21\n",
    "grid_cell_size = round(math.sqrt((end_row - start_row)**2 / (grid_cells_num**2)))\n",
    "\n",
    "# ...into grid cells\n",
    "qr_cells = qr_no_quiet_zone.reshape((\n",
    "    grid_cells_num,\n",
    "    grid_cell_size,\n",
    "    grid_cells_num,\n",
    "    grid_cell_size,\n",
    ")).swapaxes(1, 2)\n",
    "print(qr_cells.shape)"
   ]
  },
  {
   "cell_type": "markdown",
   "metadata": {
    "collapsed": false
   },
   "source": [
    "### QR Code Orientation Correction\n",
    "\n",
    "This cell contains a function `correct_orientation()` designed to correct the orientation of a QR code based on characteristic patterns found in its grid cells:\n",
    "\n",
    "1. **Pattern Check Function**:\n",
    "   - The `check_pattern()` function verifies if a given set of grid cells matches a predefined pattern commonly found in QR codes.\n",
    "\n",
    "2. **Rotation Function**:\n",
    "   - The `rotate_image()` function rotates the QR code image by the specified number of degrees using NumPy's rotation function.\n",
    "\n",
    "3. **Orientation Correction**:\n",
    "   - The `correct_orientation()` function examines specific patterns in the grid cells' corners to determine the QR code's orientation.\n",
    "   - Based on the pattern matches, it decides whether to rotate the QR code by 90, 180, or 270 degrees to correct its orientation.\n",
    "\n",
    "4. **Applying Correction**:\n",
    "   - The function returns the corrected QR code grid cells after orientation adjustment.\n",
    "\n",
    "This approach automates the orientation correction process based on recognizable patterns within the QR code grid cells, ensuring that the QR code is correctly aligned for further processing or decoding.\n"
   ]
  },
  {
   "cell_type": "code",
   "execution_count": null,
   "metadata": {
    "collapsed": false
   },
   "outputs": [],
   "source": [
    "# Correct the orientation of the rotated qr code\n",
    "def check_pattern(cells):\n",
    "    pattern = [0, 255, 0, 0, 0, 255, 0]  # 1:1:3:1:1 pattern\n",
    "    result = all(np.mean(cell) == pat for cell, pat in zip(cells, pattern))\n",
    "    print(f\"Pattern check result: {result}\")\n",
    "    return result\n",
    "\n",
    "def rotate_image(image, degrees):\n",
    "    print(f\"Rotating image by {degrees} degrees\")\n",
    "    return np.rot90(image, degrees // 90)\n",
    "\n",
    "def correct_orientation(qr_cells, grid_cell_num):\n",
    "\n",
    "    # bottom_right corner pattern check\n",
    "    bottom_right_row = qr_cells[grid_cells_num-4, -7:]  # Check the last 7 cells in the row indexed grid_cells_num - 4\n",
    "    bottom_right_col = qr_cells[-7:, grid_cells_num-4]  # Check the last 7 cells in the column indexed grid_cells_num - 4\n",
    "\n",
    "    # Top right corner pattern check\n",
    "    top_right_row = qr_cells[3, -7:]  # Check the last 7 cells in the third row\n",
    "    top_right_col = qr_cells[:7, grid_cells_num-4]  # Check the first 7 cells in the grid_cells_num - 4 column\n",
    "\n",
    "    # Bottom left corner pattern check\n",
    "    bottom_left_row = qr_cells[grid_cells_num-4, :7] # Check the first 7 cells of row indexed by grid_cells_num - 4\n",
    "    bottom_left_col = qr_cells[-7:, 3] # Check the last 7 cells of column indexed by 3\n",
    "\n",
    "\n",
    "    if not(check_pattern(bottom_right_row) and check_pattern(bottom_right_col)):\n",
    "        print(\"Correct\")\n",
    "        return qr_cells  # QR code is in the right orientation\n",
    "\n",
    "    elif check_pattern(top_right_row) and check_pattern(top_right_col) and check_pattern(bottom_left_row) and check_pattern(bottom_left_col):\n",
    "        print(\"Rotating QR code by 180 degrees\")\n",
    "        return rotate_image(qr_cells, 180)  # Rotate 180 degrees\n",
    "\n",
    "    elif check_pattern(top_right_row) and check_pattern(top_right_col):\n",
    "        print(\"Rotating QR code by 270 degrees\")\n",
    "        return rotate_image(qr_cells, 270)  # Rotate 270 degrees\n",
    "\n",
    "    elif check_pattern(bottom_left_row) and check_pattern(bottom_left_col):\n",
    "        print(\"Rotating QR code by 90 degrees\")\n",
    "        return rotate_image(qr_cells, 90)  # Rotate 90 degrees\n",
    "\n",
    "corrected_qr = correct_orientation(qr_cells, grid_cells_num)\n",
    "\n"
   ]
  },
  {
   "cell_type": "code",
   "execution_count": null,
   "metadata": {
    "collapsed": false
   },
   "outputs": [],
   "source": [
    "_, axes = plt.subplots(grid_cells_num, grid_cells_num, figsize=(5, 5))\n",
    "for i, row in enumerate(axes):\n",
    "    for j, col in enumerate(row):\n",
    "        col.imshow(corrected_qr[i][j], cmap=\"gray\", vmin=0, vmax=255)\n",
    "        col.get_xaxis().set_visible(False)\n",
    "        col.get_yaxis().set_visible(False)\n",
    "        col.spines[:].set_color('red')"
   ]
  },
  {
   "cell_type": "markdown",
   "metadata": {
    "collapsed": false
   },
   "source": [
    "### Converting QR Code to Numeric Representation"
   ]
  },
  {
   "cell_type": "code",
   "execution_count": null,
   "metadata": {
    "collapsed": false
   },
   "outputs": [],
   "source": [
    "qr_cells_numeric = np.ndarray((grid_cells_num, grid_cells_num), dtype=np.uint8)\n",
    "for i, row in enumerate(corrected_qr):\n",
    "    for j, cell in enumerate(row):\n",
    "        qr_cells_numeric[i, j] = (np.median(cell) // 255)\n",
    "\n",
    "print(qr_cells_numeric)"
   ]
  },
  {
   "cell_type": "markdown",
   "metadata": {
    "collapsed": false
   },
   "source": [
    "## Information extraction\n",
    "\n",
    "![Meaning of format information.](https://upload.wikimedia.org/wikipedia/commons/thumb/3/3b/QR_Format_Information.svg/640px-QR_Format_Information.svg.png)\n",
    "> *Meaning of format information.*"
   ]
  },
  {
   "cell_type": "markdown",
   "metadata": {
    "collapsed": false
   },
   "source": [
    "### Error correction level"
   ]
  },
  {
   "cell_type": "code",
   "execution_count": null,
   "metadata": {
    "collapsed": false
   },
   "outputs": [],
   "source": [
    "# We want row #8 or we can get it from the locator on the bottom left which is located at row 19 to 21 and col 8\n",
    "# qr_cells_numeric[8]\n",
    "# qr_cells_numeric[19:21, 8]\n",
    "print(\"ECL bits:\", qr_cells_numeric[19:21, 8])"
   ]
  },
  {
   "cell_type": "markdown",
   "metadata": {
    "collapsed": false
   },
   "source": [
    "### Error Correction Level Extraction\n",
    "\n",
    "This cell extracts the error correction level (ECL) from the bottom left locator of the QR code. Here's the process:\n",
    "\n",
    "1. **Error Correction Level Encoding**: The error correction level (ECL) information is encoded within the last two bits of the format information in the bottom left locator of the QR code. These two bits determine the error correction level according to the following encoding:\n",
    "   - Level L (Low): [11]\n",
    "   - Level M (Medium): [10]\n",
    "   - Level Q (Quartile): [01]\n",
    "   - Level H (High): [00]\n",
    "\n",
    "2. **Extraction from Bottom Left Locator**: The code extracts the last two bits from the rows 19 and 20 and column 8 of the `qr_cells_numeric` array, corresponding to the bottom left locator of the QR code.\n",
    "\n",
    "3. **Inversion**: The extracted bits are inverted because the standard uses '1's for black and '0's for white, whereas in image processing, it's the opposite. Hence, the inversion is performed to match the encoding standard.\n",
    "\n"
   ]
  },
  {
   "cell_type": "code",
   "execution_count": null,
   "metadata": {
    "collapsed": false
   },
   "outputs": [],
   "source": [
    "ecl = [int(not(c)) for c in qr_cells_numeric[19:21, 8]]  # We'll read the ecl from the bottom locator instead\n",
    "print(ecl)"
   ]
  },
  {
   "cell_type": "markdown",
   "metadata": {
    "collapsed": false
   },
   "source": [
    "### Mask Pattern Extraction\n",
    "\n",
    "This cell defines a dictionary of mask patterns and their corresponding formulas for applying masks to QR code data. It also extracts the mask pattern from the QR code image based on specific rows and columns:\n",
    "\n",
    "1. **Mask Pattern Dictionary**: The `MASKS` dictionary contains mask patterns as keys and lambda functions as values. These functions determine whether a cell should be masked based on its position within the QR code grid.\n",
    "\n",
    "2. **Extraction Process**: The code extracts the mask pattern from the three bits before the error correction level (ECL) in column 8 of the QR code. It reads these bits from rows 18, 17, and 16 of the `qr_cells_numeric` array.\n"
   ]
  },
  {
   "cell_type": "code",
   "execution_count": null,
   "metadata": {
    "collapsed": false
   },
   "outputs": [],
   "source": [
    "# Dictionary of all masks and their equivalent formulae\n",
    "MASKS = {\n",
    "    \"000\": lambda i, j: (i * j) % 2 + (i * j) % 3 == 0,\n",
    "    \"001\": lambda i, j: (i / 2 + j / 3) % 2 == 0,\n",
    "    \"010\": lambda i, j: ((i * j) % 3 + i + j) % 2 == 0,\n",
    "    \"011\": lambda i, j: ((i * j) % 3 + i * j) % 2 == 0,\n",
    "    \"100\": lambda i, j: i % 2 == 0,\n",
    "    \"101\": lambda i, j: (i + j) % 2 == 0,\n",
    "    \"110\": lambda i, j: (i + j) % 3 == 0,\n",
    "    \"111\": lambda i, j: j % 3 == 0,\n",
    "}\n",
    "\n",
    "# Same row as above, the three cells after the ecl cells (converted to a string)\n",
    "# We'll read the mask pattern from the three bits before the ecl in col 8\n",
    "mask = [int(not(c)) for c in qr_cells_numeric[18:15:-1, 8]] # 18:15:-1 is the same as 18, 17, 16 as we're going backwards\n",
    "mask_str = ''.join([str(c) for c in mask])\n",
    "print(mask_str)"
   ]
  },
  {
   "cell_type": "markdown",
   "metadata": {
    "collapsed": false
   },
   "source": [
    "### Format error correction"
   ]
  },
  {
   "cell_type": "code",
   "execution_count": null,
   "metadata": {
    "collapsed": false
   },
   "outputs": [],
   "source": [
    "# Same row as above, but we want cells #5 and #7 (#6 is always set to 0),\n",
    "#  followed by column #8 from cell #0 in it to cell #7 (and skipping #6)\n",
    "# fec = []\n",
    "# fec.append(qr_cells_numeric[8, 5])\n",
    "# fec.append(qr_cells_numeric[8, 7])\n",
    "# fec.extend(qr_cells_numeric[0:6, 8])\n",
    "# fec.extend(qr_cells_numeric[7:9, 8])\n",
    "# fec = [int(not(c)) for c in fec]\n",
    "# print(fec)\n",
    "\n",
    "# We'll get #15, #14 from col 8 since #13 is always black\n",
    "# We'll also get row 8 from last col to col 13\n",
    "fec = []\n",
    "fec.append(qr_cells_numeric[15, 8])\n",
    "fec.append(qr_cells_numeric[14, 8])\n",
    "fec.extend(qr_cells_numeric[8, 13:21][::-1])  # Reverse to get from col 20 to col 13\n",
    "fec = [int(not(c)) for c in fec]\n",
    "print(fec)\n"
   ]
  },
  {
   "cell_type": "code",
   "execution_count": null,
   "metadata": {
    "collapsed": false
   },
   "outputs": [],
   "source": [
    "# So in total we have the following 15 bits of format info from our QR code\n",
    "print(ecl, mask, fec)"
   ]
  },
  {
   "cell_type": "code",
   "execution_count": null,
   "metadata": {
    "collapsed": false
   },
   "outputs": [],
   "source": [
    "# Let's cross-check with our example\n",
    "# _, axes = plt.subplots(grid_cells_num, grid_cells_num, figsize=(5, 5))\n",
    "# for i, row in enumerate(axes):\n",
    "#     for j, col in enumerate(row):\n",
    "\n",
    "#         col.get_xaxis().set_visible(False)\n",
    "#         col.get_yaxis().set_visible(False)\n",
    "#         if (i == 8 and j <= 8) or (i <= 8 and j == 8):\n",
    "#             if (i != 6) and (j != 6):\n",
    "#                 col.imshow(corrected_qr[i][j], cmap=\"gray\", vmin=0, vmax=255)\n",
    "#                 col.spines[:].set_color('red')\n",
    "#                 continue\n",
    "#         col.imshow(corrected_qr[i][j], cmap=\"gray\", vmin=-1275, vmax=510)\n",
    "\n",
    "\n",
    "# Plot the new format info\n",
    "_, axes = plt.subplots(grid_cells_num, grid_cells_num, figsize=(5, 5))\n",
    "for i, row in enumerate(axes):\n",
    "    for j, col in enumerate(row):\n",
    "\n",
    "        col.get_xaxis().set_visible(False)\n",
    "        col.get_yaxis().set_visible(False)\n",
    "        if (i in range(15, grid_cells_num) and j == 8) or (i == 8 and j in range(14, grid_cells_num)):\n",
    "            col.imshow(corrected_qr[i][j], cmap=\"gray\", vmin=0, vmax=255)\n",
    "            col.spines[:].set_color('red')\n",
    "            continue\n",
    "        col.imshow(corrected_qr[i][j], cmap=\"gray\", vmin=-1275, vmax=510)"
   ]
  },
  {
   "cell_type": "code",
   "execution_count": null,
   "metadata": {
    "collapsed": false
   },
   "outputs": [],
   "source": [
    "# However..... You need to XOR that with the \"format mask\": 101010000010010\n",
    "# ecl[0] ^= 1\n",
    "mask[0] ^= 1\n",
    "mask[2] ^= 1\n",
    "fec[5] ^= 1\n",
    "fec[8] ^= 1\n",
    "\n",
    "# And now we print...\n",
    "print(ecl, mask, fec)"
   ]
  },
  {
   "cell_type": "markdown",
   "metadata": {
    "collapsed": false
   },
   "source": [
    "## Data extraction\n",
    "\n",
    "![Message placement within a Ver 1 QR symbol (21×21).](https://upload.wikimedia.org/wikipedia/commons/thumb/2/21/QR_Character_Placement.svg/640px-QR_Character_Placement.svg.png)\n",
    "> *Message placement within a Ver 1 QR symbol (21×21). Example from wikipedia, encoded QR message is www.wikipedia.org*"
   ]
  },
  {
   "cell_type": "markdown",
   "metadata": {
    "collapsed": false
   },
   "source": [
    "### Masking Function Definition\n",
    "\n",
    "This cell defines a function `apply_mask()` for applying masking to the QR code data. Here's a summary:\n",
    "\n",
    "1. **Function Parameters**: The function takes `data_start_i` and `data_start_j` as coordinates of the first cell in the data region of the QR code, and `direction` as the masking direction.\n",
    "\n",
    "2. **Masking Logic**: The function computes offsets for each cell based on the specified direction and determines whether each cell should be masked according to the mask pattern.\n",
    "\n",
    "### Masking Directions and Offsets\n",
    "\n",
    "- **UP**: Upward masking direction.\n",
    "- **UP_ENC**: Upward masking direction for encoding.\n",
    "- **DOWN**: Downward masking direction.\n",
    "- **CW**: Clockwise masking direction.\n",
    "- **CCW**: Counter-clockwise masking direction.\n"
   ]
  },
  {
   "cell_type": "code",
   "execution_count": null,
   "metadata": {
    "collapsed": false
   },
   "outputs": [],
   "source": [
    "# Before we proceed, let's write a function for masking to make our lives easier\n",
    "UP, UP_ENC, DOWN, CW, CCW = range(5)  # A rather old-fashioned pythonic \"Enum\"\n",
    "\n",
    "def apply_mask(data_start_i, data_start_j, direction):\n",
    "    '''\n",
    "    data_start_i/j represent the first cell's coords in its respective direction\n",
    "    direction is the masking direction, up(-enc)/down/clockwise/anti-clockwise\n",
    "    '''\n",
    "    result = []\n",
    "    row_offsets = []\n",
    "    col_offsets = []\n",
    "    if (direction in [UP, UP_ENC]):\n",
    "        row_offsets = [0,  0, -1, -1, -2, -2, -3, -3]\n",
    "        col_offsets = [0, -1,  0, -1,  0, -1,  0, -1]\n",
    "    if (direction == DOWN):\n",
    "        row_offsets = [0,  0,  1,  1,  2,  2,  3,  3]\n",
    "        col_offsets = [0, -1,  0, -1,  0, -1,  0, -1]\n",
    "    if (direction == CW):\n",
    "        row_offsets = [0,  0,  1,  1,  1,  1,  0,  0]\n",
    "        col_offsets = [0, -1,  0, -1, -2, -3, -2, -3]\n",
    "    if (direction == CCW):\n",
    "        row_offsets = [0,  0, -1, -1, -1, -1,  0,  0]\n",
    "        col_offsets = [0, -1,  0, -1, -2, -3, -2, -3]\n",
    "\n",
    "    for i, j in zip(row_offsets, col_offsets):\n",
    "        cell = qr_cells_numeric[data_start_i+i, data_start_j+j]\n",
    "        result.append(int(cell if MASKS[mask_str](data_start_i+i, data_start_j+j) else not cell))\n",
    "\n",
    "    return result[:4] if direction == UP_ENC else result"
   ]
  },
  {
   "cell_type": "markdown",
   "metadata": {
    "collapsed": false
   },
   "source": [
    "### Data encoding\n",
    "\n",
    "\n",
    "- **0001**: Numeric encoding (10 bits per 3 digits)\n",
    "- **0010**: Alphanumeric encoding (11 bits per 2 characters)\n",
    "- **0100**: Byte encoding (8 bits per character)\n",
    "- **1000**: Kanji encoding (13 bits per character)\n",
    "- **0011**: Structured append (used to split a message across multiple QR symbols)\n",
    "- **0111**: ECI (Extended Channel Interpretation) (used to specify character encoding)\n",
    "- **0101**: FNC1 in first position (used in GS1 application identifiers)\n",
    "- **1001**: FNC1 in second position (used in GS1 application identifiers)\n",
    "- **0000**: Termination (used to indicate the end of a message)\n"
   ]
  },
  {
   "cell_type": "code",
   "execution_count": null,
   "metadata": {
    "collapsed": false
   },
   "outputs": [],
   "source": [
    "enc = apply_mask(grid_cells_num-1, grid_cells_num-1, UP_ENC)\n",
    "print(enc)"
   ]
  },
  {
   "cell_type": "markdown",
   "metadata": {
    "collapsed": false
   },
   "source": [
    "### Data length"
   ]
  },
  {
   "cell_type": "code",
   "execution_count": null,
   "metadata": {
    "collapsed": false
   },
   "outputs": [],
   "source": [
    "length = apply_mask(grid_cells_num - 3, grid_cells_num - 1, UP)\n",
    "print(length)"
   ]
  },
  {
   "cell_type": "markdown",
   "metadata": {
    "collapsed": false
   },
   "source": [
    "### Data extraction and Error Correction\n",
    "![Message placement within a Ver 1 QR symbol (21×21).](https://upload.wikimedia.org/wikipedia/commons/thumb/2/21/QR_Character_Placement.svg/640px-QR_Character_Placement.svg.png)"
   ]
  },
  {
   "cell_type": "code",
   "execution_count": null,
   "metadata": {
    "collapsed": false
   },
   "outputs": [],
   "source": [
    "data_starting_indices = [\n",
    "    [grid_cells_num-7,  grid_cells_num-1,  UP],    #    w    /     H\n",
    "    [grid_cells_num-11, grid_cells_num-1,  CCW],   #    w    /     e\n",
    "    [grid_cells_num-10, grid_cells_num-3,  DOWN],  #    w    /     l\n",
    "    [grid_cells_num-6,  grid_cells_num-3,  DOWN],  #    .    /     l\n",
    "    [grid_cells_num-2,  grid_cells_num-3,  CW],    #    w    /     o\n",
    "    [grid_cells_num-3,  grid_cells_num-5,  UP],    #    i    /     ,\n",
    "    [grid_cells_num-7,  grid_cells_num-5,  UP],    #    k    /  (space)\n",
    "    [grid_cells_num-11, grid_cells_num-5,  CCW],   #    i    /     Q\n",
    "    [grid_cells_num-10, grid_cells_num-7,  DOWN],  #    p    /     R\n",
    "    [grid_cells_num-6,  grid_cells_num-7,  DOWN],  #    e    /  (space)\n",
    "    [grid_cells_num-2,  grid_cells_num-7,  CW],    #    d    /     W\n",
    "    [grid_cells_num-3,  grid_cells_num-9,  UP],    #    i    /     o\n",
    "    [grid_cells_num-7,  grid_cells_num-9,  UP],    #    a    /     r\n",
    "    [grid_cells_num-11, grid_cells_num-9,  UP],    #    .    /     l\n",
    "    [grid_cells_num-16, grid_cells_num-9,  UP],    #    o    /     d\n",
    "    [grid_cells_num-20, grid_cells_num-9,  CCW],   #    r    /     !\n",
    "    [grid_cells_num-19, grid_cells_num-11, DOWN],  #    g    /     1\n",
    "    [grid_cells_num-14, grid_cells_num-11, DOWN],  # End of message (Terminator)\n",
    "    [grid_cells_num-12, grid_cells_num-11, DOWN],  # E1\n",
    "    [grid_cells_num-8,  grid_cells_num-11, DOWN],  # E2\n",
    "    [grid_cells_num-4,  grid_cells_num-11, DOWN],  # E3\n",
    "    [grid_cells_num-9,  grid_cells_num-13, UP],    # E4\n",
    "    [grid_cells_num-12, grid_cells_num-16, DOWN],  # E5\n",
    "    [grid_cells_num-9,  grid_cells_num-18, UP],    # E6\n",
    "    [grid_cells_num-12, grid_cells_num-20, DOWN],  # E7\n",
    "]"
   ]
  },
  {
   "cell_type": "code",
   "execution_count": null,
   "metadata": {
    "collapsed": false
   },
   "outputs": [],
   "source": [
    "message_bits = []\n",
    "message_bits.extend(enc)\n",
    "message_bits.extend(length)\n",
    "extracted_data_no_error_correction = ''\n",
    "for a, b, d in data_starting_indices:  # For each starting index and direction\n",
    "    bits = apply_mask(a, b, d)  # Extract the bits per the indexed QR code symbol\n",
    "    bit_string = ''.join([str(bit) for bit in bits])  # Convert to string of bits\n",
    "    alpha_char = chr(int(bit_string, 2))  # Convert binary to int, then to a char\n",
    "    if bit_string[:4] == \"0000\":  # If the first 4 bits are 0s, this is the END\n",
    "        print(f'{bit_string[:4]}...         = NULL TERMINATOR (END Symbol, SKIP!)')\n",
    "        message_bits.extend(bits[:4])  # Append only the four bits\n",
    "    else:  # If not the END symbol, append full set of bits\n",
    "        message_bits.extend(bits)\n",
    "        extracted_data_no_error_correction += alpha_char\n",
    "    print(f'{bit_string} (={int(bit_string, 2):03d}) = {alpha_char}')\n",
    "\n",
    "print(f'\\ni.e., the data and ECCs in the QR code as-is are \"{extracted_data_no_error_correction}\"')\n",
    "\n",
    "# use the reedsolo library to decode the message and correct any errors\n",
    "# For every 8 bits in the extracted message, convert to a byte\n",
    "extracted_data_bytes = [int(''.join([str(bit) for bit in message_bits[i:i+8]]), 2) for i in range(0, len(message_bits), 8)]\n",
    "reed_solomon = rs.RSCodec(nsym=10) # Create a Reed-Solomon codec object with 7 error correction bytes\n",
    "print(f'\\nDecoding the message using Reed-Solomon error correction...')\n",
    "try:\n",
    "    decoded_data_bytes = reed_solomon.decode(extracted_data_bytes)  # Decode the message\n",
    "    decoded_data = ''.join([chr(byte) for byte in decoded_data_bytes])  # Convert bytes to characters\n",
    "    print(f'The decoded message is: \"{decoded_data}\"')\n",
    "except rs.ReedSolomonError as e:\n",
    "    print(f'Error decoding the message: {str(e)}')"
   ]
  },
  {
   "cell_type": "code",
   "execution_count": null,
   "metadata": {
    "collapsed": false
   },
   "outputs": [],
   "source": [
    "# Extract data without error correction\n",
    "extracted_data_no_error_correction = \"\"\n",
    "message_bits = []\n",
    "\n",
    "# Loop through data starting indices and apply mask\n",
    "for a, b, d in data_starting_indices:\n",
    "    bits = apply_mask(a, b, d)\n",
    "    bit_string = ''.join([str(bit) for bit in bits])\n",
    "    alpha_char = chr(int(bit_string, 2))\n",
    "    if bit_string[:4] == \"0000\":\n",
    "        message_bits.extend(bits[:4])\n",
    "    else:\n",
    "        message_bits.extend(bits)\n",
    "        extracted_data_no_error_correction += alpha_char\n",
    "\n",
    "# Decode Reed-Solomon for error correction\n",
    "message_bytes = [int(\"\".join(map(str, message_bits[i:i+8])), 2) for i in range(0, len(message_bits), 8)]\n",
    "rsc = rs.RSCodec(nsym=12)  # Initialize Reed-Solomon codec with appropriate parameters\n",
    "corrected_message_bytes = rsc.decode(message_bytes)[0]\n",
    "\n",
    "# Convert bytes to string\n",
    "corrected_data = corrected_message_bytes.decode(encoding=\"iso-8859-1\")\n",
    "\n",
    "# Print or use corrected data as needed\n",
    "print(\"Corrected data:\", corrected_data)\n"
   ]
  },
  {
   "cell_type": "code",
   "execution_count": null,
   "metadata": {
    "collapsed": false
   },
   "outputs": [],
   "source": []
  }
 ],
 "metadata": {
  "colab": {
   "provenance": []
  },
  "kernelspec": {
   "display_name": "Python 3 (ipykernel)",
   "language": "python",
   "name": "python3"
  },
  "language_info": {
   "codemirror_mode": {
    "name": "ipython",
    "version": 3
   },
   "file_extension": ".py",
   "mimetype": "text/x-python",
   "name": "python",
   "nbconvert_exporter": "python",
   "pygments_lexer": "ipython3",
   "version": "3.10.7"
  }
 },
 "nbformat": 4,
 "nbformat_minor": 0
}
