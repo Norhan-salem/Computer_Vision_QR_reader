{
  "cells": [
    {
      "cell_type": "markdown",
      "metadata": {
        "id": "9TTdTivNUBlp"
      },
      "source": [
        "\n",
        "1.   Reed-solomon ec for test cases 7, 10, 13, 15\n",
        "4.   Decode v3 for test case 15, v4 for 16\n",
        "\n",
        "\n",
        "\n",
        "\n",
        "\n"
      ]
    },
    {
      "cell_type": "code",
      "execution_count": 2,
      "metadata": {
        "ExecuteTime": {
          "end_time": "2024-05-05T19:40:52.328660800Z",
          "start_time": "2024-05-05T19:40:52.239954500Z"
        },
        "colab": {
          "base_uri": "https://localhost:8080/"
        },
        "id": "fxUgLK_uYEoH",
        "outputId": "d39fc799-337d-4ed7-c712-ca284cd1fc51"
      },
      "outputs": [
        {
          "output_type": "stream",
          "name": "stdout",
          "text": [
            "Requirement already satisfied: reedsolo in /usr/local/lib/python3.10/dist-packages (1.7.0)\n"
          ]
        }
      ],
      "source": [
        "import cv2\n",
        "import numpy as np\n",
        "import matplotlib.pyplot as plt\n",
        "import math\n",
        "!pip install --upgrade reedsolo\n",
        "import reedsolo as rs"
      ]
    },
    {
      "cell_type": "code",
      "execution_count": 3,
      "metadata": {
        "ExecuteTime": {
          "end_time": "2024-05-05T19:40:52.457019700Z",
          "start_time": "2024-05-05T19:40:52.271695100Z"
        },
        "id": "wJRFMieZ70gv"
      },
      "outputs": [],
      "source": [
        "def check_pattern(cells):\n",
        "    \"\"\"\n",
        "    Check if the mean value of each cell in cells is within a tolerance of the corresponding value in the pattern.\n",
        "    \"\"\"\n",
        "    pattern = [0, 255, 0, 0, 0, 255, 0]  # 1:1:3:1:1 pattern\n",
        "    tolerance = 100\n",
        "    results = [abs(int(np.mean(cell)) - pat) <= tolerance for cell, pat in zip(cells, pattern)]\n",
        "    return all(results)\n",
        "\n",
        "def rotate_image(image, degrees):\n",
        "    return np.rot90(image, degrees // 90)\n",
        "\n",
        "def check_valid_format(og, qr_cells, grid_cells_num, grid_cell_size):\n",
        "    qr_cells_numeric = np.ndarray((grid_cells_num, grid_cells_num), dtype=np.uint8)\n",
        "    for i, row in enumerate(qr_cells):\n",
        "        for j, cell in enumerate(row):\n",
        "            qr_cells_numeric[i, j] = (np.median(cell) // 255)\n",
        "    ecl = [int(not(c)) for c in qr_cells_numeric[19:21, 8]]\n",
        "    mask = [int(not(c)) for c in qr_cells_numeric[18:15:-1, 8]]\n",
        "    fec = np.concatenate(([qr_cells_numeric[15, 8]], [qr_cells_numeric[14, 8]], qr_cells_numeric[8, 13:21][::-1]))  # Reverse to get from col 20 to col 13\n",
        "    fec = [int(not(c)) for c in fec]\n",
        "\n",
        "    ecl_check = [int(not(c)) for c in qr_cells_numeric[8, :2]]\n",
        "    mask_check = [int(not(c)) for c in qr_cells_numeric[8, 2:5]]\n",
        "    fec_check = np.concatenate(([qr_cells_numeric[8, 5]], [qr_cells_numeric[8, 7]], qr_cells_numeric[7:9,8][::-1], qr_cells_numeric[0:6,8][::-1]))\n",
        "    fec_check = [int(not(c)) for c in fec_check]\n",
        "\n",
        "    print(ecl + mask + fec == ecl_check + mask_check + fec_check)\n",
        "    if not (ecl + mask + fec == ecl_check + mask_check + fec_check):\n",
        "        revert = rotate_image(qr_cells, 270)\n",
        "        return cv2.flip(og, 1).reshape((grid_cells_num,\n",
        "    grid_cell_size,\n",
        "    grid_cells_num,\n",
        "    grid_cell_size)).swapaxes(1, 2)\n",
        "    else:\n",
        "        return qr_cells\n",
        "\n",
        "def correct_orientation(og, qr_cells, grid_cells_num, grid_cell_size):\n",
        "    \"\"\"\n",
        "    Correct the orientation of the QR code by checking the patterns in the corners and rotating if necessary.\n",
        "    \"\"\"\n",
        "    # Check patterns in the corners\n",
        "    bottom_right = qr_cells[grid_cells_num - 4, -7:], qr_cells[-7:, grid_cells_num-4]\n",
        "    top_right = qr_cells[3, -7:], qr_cells[:7, grid_cells_num-4]\n",
        "    bottom_left = qr_cells[grid_cells_num-4, :7], qr_cells[-7:, 3]\n",
        "\n",
        "\n",
        "    # If the bottom right corner does not match the pattern, the QR code is in the correct orientation\n",
        "    if not any(map(check_pattern, bottom_right)):\n",
        "        return qr_cells\n",
        "\n",
        "    # If all corners match the pattern, rotate 180 degrees\n",
        "    if all(map(check_pattern, top_right + bottom_left)):\n",
        "        return rotate_image(qr_cells, 180)\n",
        "\n",
        "    # If the top right and bottom right corners match the pattern, rotate 270 degrees\n",
        "    if all(map(check_pattern, top_right + bottom_right)):\n",
        "        rotated = rotate_image(qr_cells, 90)\n",
        "        return check_valid_format(og, rotated, grid_cells_num, grid_cell_size)\n",
        "\n",
        "\n",
        "    # If the bottom left and bottom right corners match the pattern, rotate 90 degrees\n",
        "    if all(map(check_pattern, bottom_left + bottom_right)):\n",
        "        return rotate_image(qr_cells, 270)"
      ]
    },
    {
      "cell_type": "code",
      "execution_count": 4,
      "metadata": {
        "ExecuteTime": {
          "end_time": "2024-05-05T19:40:52.458020Z",
          "start_time": "2024-05-05T19:40:52.283659Z"
        },
        "colab": {
          "base_uri": "https://localhost:8080/",
          "height": 444
        },
        "id": "BCBUacpyaC-L",
        "outputId": "261c5dd1-2997-4674-9943-d6a8813b1bc9"
      },
      "outputs": [
        {
          "output_type": "display_data",
          "data": {
            "text/plain": [
              "<Figure size 500x500 with 1 Axes>"
            ],
            "image/png": "[encoded data removed]"
          },
          "metadata": {}
        }
      ],
      "source": [
        "img = cv2.imread(\"/content/QR_1_Hello.png\", cv2.IMREAD_GRAYSCALE)\n",
        "_, img = cv2.threshold(img, 100, 255, cv2.THRESH_BINARY)\n",
        "fig = plt.figure(figsize=(5, 5));\n",
        "plt.xticks([], []);\n",
        "plt.yticks([], []);\n",
        "plt.title('Example QR code')\n",
        "plt.imshow(img, cmap='gray');"
      ]
    },
    {
      "cell_type": "code",
      "execution_count": 5,
      "metadata": {
        "ExecuteTime": {
          "end_time": "2024-05-05T19:40:52.595210100Z",
          "start_time": "2024-05-05T19:40:52.412984Z"
        },
        "colab": {
          "base_uri": "https://localhost:8080/"
        },
        "id": "jJmNodoCIdVB",
        "outputId": "1573aca0-6d94-47e2-a45d-727904d81d85"
      },
      "outputs": [
        {
          "output_type": "stream",
          "name": "stdout",
          "text": [
            "44 44 44 44\n"
          ]
        }
      ],
      "source": [
        "grid_cells_num = 21\n",
        "grid_cell_size = 50\n",
        "\n",
        "# gotta find a new way to get the qr without the quiet zone\n",
        "start_row = -1\n",
        "start_col = -1\n",
        "end_row = -1\n",
        "end_col = -1\n",
        "\n",
        "for row_index, row in enumerate(img):\n",
        "    for pixel in row:\n",
        "        if pixel != 255:\n",
        "            start_row = row_index\n",
        "            break\n",
        "    if start_row != -1:\n",
        "        break\n",
        "\n",
        "for row_index, row in enumerate(img[::-1]):\n",
        "    for pixel in row:\n",
        "        if pixel != 255:\n",
        "            end_row = img.shape[0] - row_index\n",
        "            break\n",
        "    if end_row != -1:\n",
        "        break\n",
        "\n",
        "for col_index, col in enumerate(cv2.transpose(img)):\n",
        "    for pixel in col:\n",
        "        if pixel != 255:\n",
        "            start_col = col_index\n",
        "            break\n",
        "    if start_col != -1:\n",
        "        break\n",
        "\n",
        "\n",
        "for col_index, col in enumerate(cv2.transpose(img)[::-1]):\n",
        "    for pixel in col:\n",
        "        if pixel != 255:\n",
        "            end_col = img.shape[1] - col_index\n",
        "            break\n",
        "    if end_col != -1:\n",
        "        break\n",
        "\n",
        "\n",
        "top_border = min(start_row, max(start_col, img.shape[1] - end_col))\n",
        "bottom_border = min(img.shape[0] - end_row, max(start_col, img.shape[1] - end_col))\n",
        "left_border = min(start_col, max(start_row, img.shape[0] - end_row))\n",
        "right_border = min(img.shape[1] - end_col, max(start_row, img.shape[0] - end_row))\n",
        "\n",
        "print(top_border, bottom_border, left_border, right_border)"
      ]
    },
    {
      "cell_type": "code",
      "execution_count": 6,
      "metadata": {
        "ExecuteTime": {
          "end_time": "2024-05-05T19:40:52.638821100Z",
          "start_time": "2024-05-05T19:40:52.595210100Z"
        },
        "id": "tuIclWxj8SFf"
      },
      "outputs": [],
      "source": [
        "qr_no_quiet_zone = img[top_border:img.shape[0] - bottom_border, left_border: img.shape[1] - right_border]\n",
        "qr_no_quiet_zone = cv2.resize(qr_no_quiet_zone, (grid_cells_num * grid_cell_size, grid_cells_num * grid_cell_size), interpolation=cv2.INTER_AREA)"
      ]
    },
    {
      "cell_type": "code",
      "execution_count": 7,
      "metadata": {
        "ExecuteTime": {
          "end_time": "2024-05-05T19:40:52.653628200Z",
          "start_time": "2024-05-05T19:40:52.611087600Z"
        },
        "colab": {
          "base_uri": "https://localhost:8080/"
        },
        "id": "xaYxuP80Pk8m",
        "outputId": "a6cc3aed-19a1-4104-9965-b069d92de539"
      },
      "outputs": [
        {
          "output_type": "stream",
          "name": "stdout",
          "text": [
            "(21, 21, 50, 50)\n"
          ]
        }
      ],
      "source": [
        "# ...into grid cells\n",
        "qr_cells = qr_no_quiet_zone.reshape((\n",
        "    grid_cells_num,\n",
        "    grid_cell_size,\n",
        "    grid_cells_num,\n",
        "    grid_cell_size,\n",
        ")).swapaxes(1, 2)\n",
        "print(qr_cells.shape)"
      ]
    },
    {
      "cell_type": "code",
      "execution_count": 8,
      "metadata": {
        "ExecuteTime": {
          "end_time": "2024-05-05T19:40:52.654636900Z",
          "start_time": "2024-05-05T19:40:52.627075800Z"
        },
        "id": "rdnk5RhsPOug"
      },
      "outputs": [],
      "source": [
        "corrected_qr = correct_orientation(qr_no_quiet_zone, qr_cells, grid_cells_num, grid_cell_size)"
      ]
    },
    {
      "cell_type": "code",
      "execution_count": 9,
      "metadata": {
        "ExecuteTime": {
          "end_time": "2024-05-05T19:40:52.716817600Z",
          "start_time": "2024-05-05T19:40:52.642704100Z"
        },
        "colab": {
          "base_uri": "https://localhost:8080/"
        },
        "id": "6yyfDhQHW8Jz",
        "outputId": "a0dc7c7a-fbb3-4d69-d429-65e6ac61410f"
      },
      "outputs": [
        {
          "output_type": "stream",
          "name": "stdout",
          "text": [
            "[[0 0 0 0 0 0 0 1 0 0 1 1 1 1 0 0 0 0 0 0 0]\n",
            " [0 1 1 1 1 1 0 1 1 0 1 0 1 1 0 1 1 1 1 1 0]\n",
            " [0 1 0 0 0 1 0 1 0 1 0 1 1 1 0 1 0 0 0 1 0]\n",
            " [0 1 0 0 0 1 0 1 0 1 0 0 0 1 0 1 0 0 0 1 0]\n",
            " [0 1 0 0 0 1 0 1 0 1 1 0 0 1 0 1 0 0 0 1 0]\n",
            " [0 1 1 1 1 1 0 1 1 0 0 0 1 1 1 1 1 1 1 1 0]\n",
            " [0 0 0 0 0 0 0 1 0 1 0 1 0 1 1 1 0 0 0 0 0]\n",
            " [1 1 1 1 1 1 1 1 1 1 1 0 1 1 1 1 1 1 1 1 1]\n",
            " [0 0 0 0 1 1 0 1 0 1 0 0 1 1 1 1 1 0 0 1 0]\n",
            " [1 0 1 1 1 1 1 0 0 1 1 1 1 1 1 1 1 0 0 1 0]\n",
            " [0 0 0 1 0 1 0 1 1 0 1 1 1 0 0 0 1 1 1 0 0]\n",
            " [1 1 0 0 1 1 1 1 1 0 1 1 0 1 1 1 0 0 1 0 1]\n",
            " [0 1 1 1 0 1 0 1 0 1 0 1 0 0 1 0 1 1 1 1 0]\n",
            " [1 1 1 1 1 1 1 1 0 0 0 1 0 1 0 1 0 1 0 1 0]\n",
            " [0 0 0 0 0 0 0 1 1 1 1 0 1 0 0 1 0 1 1 1 1]\n",
            " [0 1 1 1 1 1 0 1 1 0 1 0 1 1 1 0 1 0 0 0 1]\n",
            " [0 1 0 0 0 1 0 1 1 1 1 1 0 1 1 0 0 0 0 1 0]\n",
            " [0 1 0 0 0 1 0 1 0 0 1 1 0 0 1 1 1 0 0 1 1]\n",
            " [0 1 0 0 0 1 0 1 0 1 0 0 0 1 1 0 1 1 0 1 1]\n",
            " [0 1 1 1 1 1 0 1 0 1 0 1 0 0 0 0 0 1 1 1 0]\n",
            " [0 0 0 0 0 0 0 1 0 0 0 0 1 1 1 0 1 1 0 1 1]]\n"
          ]
        }
      ],
      "source": [
        "qr_cells_numeric = np.ndarray((grid_cells_num, grid_cells_num), dtype=np.uint8)\n",
        "for i, row in enumerate(corrected_qr):\n",
        "    for j, cell in enumerate(row):\n",
        "        qr_cells_numeric[i, j] = (np.median(cell) // 255)\n",
        "\n",
        "print(qr_cells_numeric)"
      ]
    },
    {
      "cell_type": "markdown",
      "metadata": {
        "id": "8smktSlIaOQo"
      },
      "source": [
        "## Information extraction\n",
        "\n",
        "![Meaning of format information.](https://upload.wikimedia.org/wikipedia/commons/thumb/3/3b/QR_Format_Information.svg/640px-QR_Format_Information.svg.png)\n",
        "> *Meaning of format information.*"
      ]
    },
    {
      "cell_type": "markdown",
      "metadata": {
        "id": "2aqZ9Ym6eXcp"
      },
      "source": [
        "### Error correction level"
      ]
    },
    {
      "cell_type": "code",
      "execution_count": 10,
      "metadata": {
        "ExecuteTime": {
          "end_time": "2024-05-05T19:40:52.719960700Z",
          "start_time": "2024-05-05T19:40:52.672947Z"
        },
        "colab": {
          "base_uri": "https://localhost:8080/"
        },
        "id": "3OQ3XYkQeW93",
        "outputId": "54d2bf3f-6437-4063-f867-8a37fad8c616"
      },
      "outputs": [
        {
          "output_type": "execute_result",
          "data": {
            "text/plain": [
              "array([0, 0], dtype=uint8)"
            ]
          },
          "metadata": {},
          "execution_count": 10
        }
      ],
      "source": [
        "# We want row #8\n",
        "# qr_cells_numeric[8]\n",
        "qr_cells_numeric[19:21, 8]"
      ]
    },
    {
      "cell_type": "code",
      "execution_count": 11,
      "metadata": {
        "ExecuteTime": {
          "end_time": "2024-05-05T19:40:52.719960700Z",
          "start_time": "2024-05-05T19:40:52.689479400Z"
        },
        "colab": {
          "base_uri": "https://localhost:8080/"
        },
        "id": "DftQienjiFdh",
        "outputId": "d6c9d157-875b-4c15-dbec-784b39399776"
      },
      "outputs": [
        {
          "output_type": "stream",
          "name": "stdout",
          "text": [
            "[1, 1]\n"
          ]
        }
      ],
      "source": [
        "# The last two bits determine the error correction level\n",
        "# Level L (Low)         [11]\t7%  of data bytes can be restored.\n",
        "# Level M (Medium)      [10]\t15% of data bytes can be restored.\n",
        "# Level Q (Quartile)    [01]\t25% of data bytes can be restored.\n",
        "# Level H (High)        [00]\t30% of data bytes can be restored.\n",
        "ecl = [int(not(c)) for c in qr_cells_numeric[19:21, 8]]  # We'll read the ecl from the bottom locator instead\n",
        "# Why \"not\"? Because the standard uses '1's for black and '0's for white\n",
        "#\n",
        "# \"A dark module is a binary one and a light module is a binary zero.\"\n",
        "#  - ISO/IEC 18004:2000(E)\n",
        "#\n",
        "# In image processing, we use them the other way.. Hence the inversion\n",
        "print(ecl)\n"
      ]
    },
    {
      "cell_type": "markdown",
      "metadata": {
        "id": "pHqp3VFJg4GK"
      },
      "source": [
        "### Mask pattern"
      ]
    },
    {
      "cell_type": "code",
      "execution_count": 12,
      "metadata": {
        "ExecuteTime": {
          "end_time": "2024-05-05T19:40:52.736959300Z",
          "start_time": "2024-05-05T19:40:52.705472800Z"
        },
        "colab": {
          "base_uri": "https://localhost:8080/"
        },
        "id": "Km07iIWxg-gI",
        "outputId": "423fced8-1322-4ccf-ad85-b874cb7310db"
      },
      "outputs": [
        {
          "output_type": "stream",
          "name": "stdout",
          "text": [
            "110\n"
          ]
        }
      ],
      "source": [
        "# Dictionary of all masks and their equivalent formulae\n",
        "MASKS = {\n",
        "    \"000\": lambda i, j: (i * j) % 2 + (i * j) % 3 == 0,\n",
        "    \"001\": lambda i, j: (i / 2 + j / 3) % 2 == 0,\n",
        "    \"010\": lambda i, j: ((i * j) % 3 + i + j) % 2 == 0,\n",
        "    \"011\": lambda i, j: ((i * j) % 3 + i * j) % 2 == 0,\n",
        "    \"100\": lambda i, j: i % 2 == 0,\n",
        "    \"101\": lambda i, j: (i + j) % 2 == 0,\n",
        "    \"110\": lambda i, j: (i + j) % 3 == 0,\n",
        "    \"111\": lambda i, j: j % 3 == 0,\n",
        "}\n",
        "\n",
        "# Same row as above, the three cells after the ecl cells (converted to a string)\n",
        "# We'll read the mask pattern from the three bits before the ecl in col 8\n",
        "mask = [int(not(c)) for c in qr_cells_numeric[18:15:-1, 8]]\n",
        "mask_str = ''.join([str(c) for c in mask])\n",
        "print(mask_str)"
      ]
    },
    {
      "cell_type": "markdown",
      "metadata": {
        "id": "BJWaqVBYg7Gz"
      },
      "source": [
        "### Format error correction"
      ]
    },
    {
      "cell_type": "code",
      "execution_count": 13,
      "metadata": {
        "ExecuteTime": {
          "end_time": "2024-05-05T19:40:52.739965100Z",
          "start_time": "2024-05-05T19:40:52.721959600Z"
        },
        "colab": {
          "base_uri": "https://localhost:8080/"
        },
        "id": "d1uHpA5oXXeN",
        "outputId": "14c46759-fcb9-49eb-a905-edc906fce824"
      },
      "outputs": [
        {
          "output_type": "stream",
          "name": "stdout",
          "text": [
            "[0, 0, 1, 0, 1, 1, 0, 0, 0, 0]\n"
          ]
        }
      ],
      "source": [
        "# We'll get #15, #14 from col 8 since #13 is always black\n",
        "# We'll also get row 8 from last col to col 13\n",
        "fec = []\n",
        "fec.append(qr_cells_numeric[15, 8])\n",
        "fec.append(qr_cells_numeric[14, 8])\n",
        "fec.extend(qr_cells_numeric[8, 13:21][::-1])  # Reverse to get from col 20 to col 13\n",
        "fec = [int(not(c)) for c in fec]\n",
        "print(fec)\n"
      ]
    },
    {
      "cell_type": "code",
      "execution_count": 22,
      "metadata": {
        "ExecuteTime": {
          "end_time": "2024-05-05T19:40:52.813406500Z",
          "start_time": "2024-05-05T19:40:52.736959300Z"
        },
        "colab": {
          "base_uri": "https://localhost:8080/"
        },
        "id": "WMKYiQA-qzbq",
        "outputId": "0d41c75a-60ea-4f9f-9c28-69cc45d01b34"
      },
      "outputs": [
        {
          "output_type": "stream",
          "name": "stdout",
          "text": [
            "[0, 1] [0, 1, 1] [0, 0, 1, 0, 1, 0, 0, 0, 1, 0]\n",
            "[0, 1, 0, 1, 1, 0, 0, 1, 0, 1, 0, 0, 0, 1, 0]\n"
          ]
        }
      ],
      "source": [
        "# So in total we have the following 15 bits of format info from our QR code\n",
        "print(ecl, mask, fec)\n",
        "\n",
        "# Added all the formatting info to one list\n",
        "format_info = [ecl, mask, fec]\n",
        "format_info = [bit for sub_format in format_info for bit in sub_format]\n",
        "print(format_info)"
      ]
    },
    {
      "cell_type": "markdown",
      "source": [
        "FOEMAT INFORMATION LOOKUP TABLE"
      ],
      "metadata": {
        "id": "vX4nTy-aR2yK"
      }
    },
    {
      "cell_type": "code",
      "source": [
        "def calculate_hamming_distance(seq1, seq2):\n",
        "    return sum(bit1 != bit2 for bit1, bit2 in zip(seq1, seq2))\n",
        "\n",
        "def is_format_info_valid(format_info):\n",
        "    valid_format_sequence = [\n",
        "      [1,0,1,0,1,0,0,0,0,0,1,0,0,1,0], # 00 000\n",
        "      [1,0,1,0,0,0,1,0,0,1,0,0,1,0,1], # 00 001\n",
        "      [1,0,1,1,1,1,0,0,1,1,1,1,1,0,0], # 00 010\n",
        "      [1,0,1,1,0,1,1,0,1,0,0,1,0,1,1], # 00 011\n",
        "      [1,0,0,0,1,0,1,1,1,1,1,1,0,1,1], # 00 100\n",
        "      [1,0,0,0,0,0,0,1,1,0,0,1,1,1,0], # 00 101\n",
        "      [1,0,0,1,1,1,1,1,0,0,1,0,1,1,1], # 00 110\n",
        "      [1,0,0,1,0,1,0,1,0,1,0,0,0,0,0], # 00 111\n",
        "\n",
        "      [1,1,1,0,1,1,1,1,1,0,0,0,1,0,0], # 01 000\n",
        "      [1,1,1,0,0,1,0,1,1,1,1,0,0,1,1], # 01 001\n",
        "      [1,1,1,1,1,0,1,1,0,1,0,1,0,1,0], # 01 010\n",
        "      [1,1,1,1,0,0,0,1,0,0,1,1,1,0,1], # 01 011\n",
        "      [1,1,0,0,1,1,0,0,0,1,0,1,1,1,1], # 01 100\n",
        "      [1,1,0,0,0,1,1,0,0,0,1,1,0,0,0], # 01 101\n",
        "      [1,1,0,1,1,0,0,0,1,0,0,0,0,0,1], # 01 110\n",
        "      [1,1,0,1,0,0,1,0,1,1,1,0,1,1,0], # 01 111\n",
        "\n",
        "      [0,0,1,0,1,1,0,1,0,0,0,1,0,0,1], # 10 000\n",
        "      [0,0,1,0,0,1,1,1,0,1,1,1,1,1,0], # 10 001\n",
        "      [0,0,1,1,1,0,0,1,1,1,0,0,1,1,1], # 10 010\n",
        "      [0,0,1,1,0,0,1,1,1,0,1,0,0,0,0], # 10 011\n",
        "      [0,0,0,0,1,1,1,0,1,1,0,0,0,1,0], # 10 100\n",
        "      [0,0,0,0,0,1,0,0,1,0,1,0,1,0,1], # 10 101\n",
        "      [0,0,0,1,1,0,1,0,0,0,0,1,1,0,0], # 10 110\n",
        "      [0,0,0,1,0,0,0,0,0,1,1,1,0,1,1], # 10 111\n",
        "\n",
        "      [0,1,1,0,1,0,1,0,1,0,1,1,1,1,1], # 11 000\n",
        "      [0,1,1,0,0,0,0,0,1,1,0,1,0,0,0], # 11 001\n",
        "      [0,1,1,1,1,1,1,0,0,1,1,0,0,0,1], # 11 010\n",
        "      [0,1,1,1,0,1,0,0,0,0,0,0,1,1,0], # 11 011\n",
        "      [0,1,0,0,1,0,0,1,0,1,1,0,1,0,0], # 11 100\n",
        "      [0,1,0,0,0,0,1,1,0,0,0,0,0,1,1], # 11 101\n",
        "      [0,1,0,1,1,1,0,1,1,0,1,1,0,1,0], # 11 110\n",
        "      [0,1,0,1,0,1,1,1,1,1,0,1,1,0,1]  # 11 111\n",
        "    ]\n",
        "\n",
        "    # Initialize min_distance with a large number and min_seq with None\n",
        "    min_distance = float('inf')\n",
        "    min_seq = None\n",
        "\n",
        "    for seq in valid_format_sequence:\n",
        "        # Calculate the hamming distance between format_info and seq\n",
        "        distance = calculate_hamming_distance(format_info, seq)\n",
        "\n",
        "        # If the distance is 0, then we have found an exact match\n",
        "        if distance == 0:\n",
        "            return seq\n",
        "\n",
        "        # If the distance is less than min_distance, update min_distance and min_seq\n",
        "        if distance < min_distance:\n",
        "            min_distance = distance\n",
        "            min_seq = seq\n",
        "\n",
        "    # If no exact match was found, return the sequence with the minimum hamming distance\n",
        "    format_info = min_seq\n",
        "    return format_info\n"
      ],
      "metadata": {
        "id": "bhXL2FOLQYtY"
      },
      "execution_count": 24,
      "outputs": []
    },
    {
      "cell_type": "code",
      "source": [
        "print(is_format_info_valid(format_info))"
      ],
      "metadata": {
        "colab": {
          "base_uri": "https://localhost:8080/"
        },
        "id": "AlJ6trguk3GC",
        "outputId": "015268cb-9fe2-4d65-8e98-5ce88117801b"
      },
      "execution_count": 26,
      "outputs": [
        {
          "output_type": "stream",
          "name": "stdout",
          "text": [
            "[1, 1, 1, 0, 1, 1, 1, 1, 1, 0, 0, 0, 1, 0, 0]\n"
          ]
        }
      ]
    },
    {
      "cell_type": "code",
      "execution_count": 15,
      "metadata": {
        "ExecuteTime": {
          "end_time": "2024-05-05T19:40:52.815406200Z",
          "start_time": "2024-05-05T19:40:52.751345200Z"
        },
        "colab": {
          "base_uri": "https://localhost:8080/"
        },
        "id": "8iLNLbZwcLG6",
        "outputId": "663293d3-a291-436b-e1bf-77fa9f71beca"
      },
      "outputs": [
        {
          "output_type": "stream",
          "name": "stdout",
          "text": [
            "[0, 1] [0, 1, 1] [0, 0, 1, 0, 1, 0, 0, 0, 1, 0]\n"
          ]
        }
      ],
      "source": [
        "ecl = format_info[:2]\n",
        "mask = format_info[2:5]\n",
        "fec = format_info[5:]\n",
        "# However..... You need to XOR that with the \"format mask\": 101010000010010\n",
        "ecl[0] ^= 1\n",
        "mask[0] ^= 1\n",
        "mask[2] ^= 1\n",
        "fec[5] ^= 1\n",
        "fec[8] ^= 1\n",
        "\n",
        "# And now we print...\n",
        "print(ecl, mask, fec)"
      ]
    },
    {
      "cell_type": "code",
      "execution_count": 16,
      "metadata": {
        "ExecuteTime": {
          "end_time": "2024-05-05T19:40:52.815406200Z",
          "start_time": "2024-05-05T19:40:52.770349Z"
        },
        "id": "TYeu5EEF22r6"
      },
      "outputs": [],
      "source": [
        "# Before we proceed, let's write a function for masking to make our lives easier\n",
        "UP, UP_ENC, DOWN, CW, CCW = range(5)  # A rather old-fashioned pythonic \"Enum\"\n",
        "\n",
        "def apply_mask(data_start_i, data_start_j, direction):\n",
        "    '''\n",
        "    data_start_i/j represent the first cell's coords in its respective direction\n",
        "    direction is the masking direction, up(-enc)/down/clockwise/anti-clockwise\n",
        "    '''\n",
        "    result = []\n",
        "    row_offsets = []\n",
        "    col_offsets = []\n",
        "    if (direction in [UP, UP_ENC]):\n",
        "        row_offsets = [0,  0, -1, -1, -2, -2, -3, -3]\n",
        "        col_offsets = [0, -1,  0, -1,  0, -1,  0, -1]\n",
        "    if (direction == DOWN):\n",
        "        row_offsets = [0,  0,  1,  1,  2,  2,  3,  3]\n",
        "        col_offsets = [0, -1,  0, -1,  0, -1,  0, -1]\n",
        "    if (direction == CW):\n",
        "        row_offsets = [0,  0,  1,  1,  1,  1,  0,  0]\n",
        "        col_offsets = [0, -1,  0, -1, -2, -3, -2, -3]\n",
        "    if (direction == CCW):\n",
        "        row_offsets = [0,  0, -1, -1, -1, -1,  0,  0]\n",
        "        col_offsets = [0, -1,  0, -1, -2, -3, -2, -3]\n",
        "\n",
        "\n",
        "    for i, j in zip(row_offsets, col_offsets):\n",
        "        cell = qr_cells_numeric[data_start_i+i, data_start_j+j]\n",
        "        result.append(int(cell if MASKS[mask_str](data_start_i+i, data_start_j+j) else not cell))\n",
        "\n",
        "\n",
        "    return result[:4] if direction == UP_ENC else result\n",
        "\n",
        "\n",
        "\n"
      ]
    },
    {
      "cell_type": "markdown",
      "metadata": {
        "id": "_Es8SoZ02lct"
      },
      "source": [
        "### Data length"
      ]
    },
    {
      "cell_type": "code",
      "execution_count": 17,
      "metadata": {
        "ExecuteTime": {
          "end_time": "2024-05-05T19:40:52.816404900Z",
          "start_time": "2024-05-05T19:40:52.784039200Z"
        },
        "id": "Je0bFGI_JASd"
      },
      "outputs": [],
      "source": [
        "data_starting_indices = [\n",
        "    [grid_cells_num-1, grid_cells_num-1, UP_ENC],\n",
        "    [grid_cells_num-3, grid_cells_num-1, UP],\n",
        "    [grid_cells_num-7,  grid_cells_num-1,  UP],\n",
        "    [grid_cells_num-11, grid_cells_num-1,  CCW],\n",
        "    [grid_cells_num-10, grid_cells_num-3,  DOWN],\n",
        "    [grid_cells_num-6,  grid_cells_num-3,  DOWN],\n",
        "    [grid_cells_num-2,  grid_cells_num-3,  CW],\n",
        "    [grid_cells_num-3,  grid_cells_num-5,  UP],\n",
        "    [grid_cells_num-7,  grid_cells_num-5,  UP],\n",
        "    [grid_cells_num-11, grid_cells_num-5,  CCW],\n",
        "    [grid_cells_num-10, grid_cells_num-7,  DOWN],\n",
        "    [grid_cells_num-6,  grid_cells_num-7,  DOWN],\n",
        "    [grid_cells_num-2,  grid_cells_num-7,  CW],\n",
        "    [grid_cells_num-3,  grid_cells_num-9,  UP],\n",
        "    [grid_cells_num-7,  grid_cells_num-9,  UP],\n",
        "    [grid_cells_num-11, grid_cells_num-9,  UP],\n",
        "    [grid_cells_num-16, grid_cells_num-9,  UP],\n",
        "    [grid_cells_num-20, grid_cells_num-9,  CCW],\n",
        "    [grid_cells_num-19, grid_cells_num-11, DOWN],\n",
        "    [grid_cells_num-14, grid_cells_num-11, DOWN],  # End of message (Terminator)\n",
        "    [grid_cells_num-12, grid_cells_num-11, DOWN],  # E1\n",
        "    [grid_cells_num-8,  grid_cells_num-11, DOWN],  # E2\n",
        "    [grid_cells_num-4,  grid_cells_num-11, DOWN],  # E3\n",
        "    [grid_cells_num-9,  grid_cells_num-13, UP],    # E4\n",
        "    [grid_cells_num-12, grid_cells_num-16, DOWN],  # E5\n",
        "    [grid_cells_num-9,  grid_cells_num-18, UP],    # E6\n",
        "    [grid_cells_num-12, grid_cells_num-20, DOWN],  # E7\n",
        "]"
      ]
    },
    {
      "cell_type": "markdown",
      "metadata": {
        "id": "4PVM0yLFqvrG"
      },
      "source": [
        "Alphanumeric Mode Decoding"
      ]
    },
    {
      "cell_type": "code",
      "execution_count": 18,
      "metadata": {
        "ExecuteTime": {
          "end_time": "2024-05-05T19:40:52.858006400Z",
          "start_time": "2024-05-05T19:40:52.813406500Z"
        },
        "id": "-SGEkzSkEwqB"
      },
      "outputs": [],
      "source": [
        "ALPHANUMERIC_TABLE = {\n",
        "\n",
        "    0: '0', 1: '1', 2: '2', 3: '3', 4: '4',\n",
        "    5: '5', 6: '6', 7: '7', 8: '8', 9: '9',\n",
        "\n",
        "    10: 'A', 11: 'B', 12: 'C', 13: 'D', 14: 'E',\n",
        "    15: 'F', 16: 'G', 17: 'H', 18: 'I', 19: 'J',\n",
        "    20: 'K', 21: 'L', 22: 'M', 23: 'N', 24: 'O',\n",
        "    25: 'P', 26: 'Q', 27: 'R', 28: 'S', 29: 'T',\n",
        "    30: 'U', 31: 'V', 32: 'W', 33: 'X', 34: 'Y',\n",
        "    35: 'Z',\n",
        "\n",
        "    36: ' ', 37: '$', 38: '%', 39: '*',\n",
        "    40: '+', 41: '-', 42: '.', 43: '/', 44: ':'\n",
        "}\n",
        "\n",
        "def bin_to_alphanum(bits):\n",
        "\n",
        "    num = int(bits, 2)\n",
        "\n",
        "    # This part is similar to saying that 78 = 7 * 10 + 8\n",
        "    # Originally if we're encoding alpahnumeric characters for example TH (T:29, H:17)\n",
        "    # We would get the binary string by converting 29 * 45 + 17 to binary\n",
        "\n",
        "    first_num = num // 45\n",
        "    first_char = ALPHANUMERIC_TABLE[first_num]\n",
        "\n",
        "    second_num = num % 45\n",
        "    second_char = ALPHANUMERIC_TABLE[second_num]\n",
        "\n",
        "    return first_char + second_char\n",
        "\n",
        "def decode_alphanumeric_v1():\n",
        "    ans = ''\n",
        "    data_string = ''\n",
        "    for a, b, d in data_starting_indices:\n",
        "        bits = apply_mask(a, b, d)\n",
        "        # Convert list of bits to string and concatenate to data_string\n",
        "        data_string += ''.join([str(bit) for bit in bits])\n",
        "\n",
        "    print(f\"data_string: {data_string}\")\n",
        "\n",
        "    # Exclude the first 4 bits of the encoding type\n",
        "    data_string = data_string[4:]\n",
        "    print(f\"data_string_no_enc: {data_string}\")\n",
        "    # The length should be read in the next 9 bits\n",
        "    length = int(data_string[:9], 2)\n",
        "    #print(f\"length: {length}\")\n",
        "\n",
        "    data_string = data_string[9:]\n",
        "    print(f\"data_string_no_len: {data_string}\")\n",
        "\n",
        "    # Process the data 11 bits by 11 bits\n",
        "    while length > 1:\n",
        "        chars = bin_to_alphanum(data_string[:11])\n",
        "        ans += chars\n",
        "        print(f'{data_string[:11]} = {chars}')\n",
        "        data_string = data_string[11:]\n",
        "        length -= 2\n",
        "\n",
        "    # If the number of characters in the to be decoded string is odd, the last character is represented in 6 bits\n",
        "    if length == 1:\n",
        "        last_char = ALPHANUMERIC_TABLE[int(data_string[:6], 2)]\n",
        "        ans += last_char\n",
        "        print(f'{data_string[:6]} = {last_char}')\n",
        "\n",
        "    print(f'\\nDecoded string: {ans}')\n"
      ]
    },
    {
      "cell_type": "markdown",
      "metadata": {
        "id": "ugMlyRLEHX-V"
      },
      "source": [
        "### Data extraction"
      ]
    },
    {
      "cell_type": "code",
      "execution_count": 19,
      "metadata": {
        "ExecuteTime": {
          "end_time": "2024-05-05T19:40:52.889228900Z",
          "start_time": "2024-05-05T19:40:52.833850400Z"
        },
        "id": "2C9MtuNJHY0m"
      },
      "outputs": [],
      "source": [
        "def decode_byte_mode_v1():\n",
        "    lookup = {\n",
        "      '01': 7,\n",
        "      '00': 10,\n",
        "      '11': 13,\n",
        "      '10': 17\n",
        "    }\n",
        "    end_of_word = False\n",
        "    key = ''.join(map(str, ecl))\n",
        "    message_bits = []\n",
        "    enc = apply_mask(grid_cells_num-1, grid_cells_num-1, UP_ENC)\n",
        "    length = apply_mask(grid_cells_num-3, grid_cells_num-1, UP)\n",
        "    print(length, ecl)\n",
        "    message_bits.extend(enc)\n",
        "    message_bits.extend(length)\n",
        "    extracted_data_no_error_correction = ''\n",
        "    byte_stream = ''\n",
        "    for i, (a, b, d) in enumerate(data_starting_indices):  # For each starting index and direction\n",
        "        if i < 2:  # Skip the first two indices\n",
        "            continue\n",
        "        bits = apply_mask(a, b, d)  # Extract the bits per the indexed QR code symbol\n",
        "        bit_string = ''.join([str(bit) for bit in bits])  # Convert to string of bits\n",
        "        alpha_char = chr(int(bit_string, 2))  # Convert binary to int, then to a char\n",
        "        if not end_of_word and bit_string[:4] != \"0000\":\n",
        "            byte_stream += bit_string\n",
        "        alpha_char = chr(int(bit_string, 2))\n",
        "\n",
        "        if bit_string[:4] == \"0000\" and not end_of_word:  # If the first 4 bits are 0s, this is the END\n",
        "            print(f'{bit_string[:4]}...         = NULL TERMINATOR (END Symbol, SKIP!)')\n",
        "            message_bits.extend(bits[:4])  # Append only the four bits\n",
        "            byte = bytes([int(byte_stream[i:i+8], 2) for i in range(0, len(byte_stream), 8)])\n",
        "            end_of_word = True\n",
        "        else:\n",
        "            # If not the END symbol, append full set of bits\n",
        "            message_bits.extend(bits)\n",
        "            extracted_data_no_error_correction += alpha_char\n",
        "            print(f'{bit_string} (={int(bit_string, 2):03d}) = {alpha_char}')\n",
        "\n",
        "    int_length = int(''.join(map(str, length)),2)\n",
        "    try:\n",
        "        print(f'\\ni.e., the data in the QR code as-is are \"{byte.decode(\"utf-8\")}\"')\n",
        "    except:\n",
        "        print(f'\\ni.e., the data in the QR code as-is are \"{extracted_data_no_error_correction}\"')\n",
        "    print(f'the ECCs in the QR code \"{extracted_data_no_error_correction[int_length+1:]}\"')\n",
        "\n",
        "    # use the reedsolo library to decode the message and correct any errors\n",
        "    # For every 8 bits in the extracted message, convert to a byte\n",
        "    extracted_data_bytes = [int(\"\".join(map(str, message_bits[i:i+8])), 2) for i in range(0, len(message_bits), 8)]\n",
        "    reed_solomon = rs.RSCodec(lookup[key]) # Create a Reed-Solomon codec object with 7 error correction bytes\n",
        "    print(f'\\nDecoding the message using Reed-Solomon error correction...')\n",
        "    try:\n",
        "        decoded_data_bytes = reed_solomon.decode(extracted_data_bytes)  # Decode the message\n",
        "    #   decoded_data = ''.join([chr(byte) for byte in decoded_data_bytes])  # Convert bytes to characters\n",
        "        reed_solomon.maxerrata(verbose=True)\n",
        "        print(f'The decoded message is: \"{decoded_data_bytes[0].decode(encoding=\"iso-8859-1\")}\"')\n",
        "        data_bits = bin(int.from_bytes(decoded_data_bytes[0], byteorder='big'))[13:-4]\n",
        "        data_bytes = int(data_bits, 2).to_bytes((len(data_bits)+7)//8, 'big')\n",
        "        print(f'Data in message = \"{data_bytes.decode(encoding=\"utf-8\")}\"')\n",
        "    except rs.ReedSolomonError as e:\n",
        "        print(f'Error decoding the message: {str(e)}')\n",
        "        # Extract data without error correction"
      ]
    },
    {
      "cell_type": "code",
      "execution_count": 20,
      "metadata": {
        "ExecuteTime": {
          "end_time": "2024-05-05T19:40:52.906719800Z",
          "start_time": "2024-05-05T19:40:52.845270100Z"
        },
        "colab": {
          "base_uri": "https://localhost:8080/"
        },
        "id": "sMKnJyYHhHKl",
        "outputId": "8853f687-f4cf-4d00-b6b0-bd4ebb7def70"
      },
      "outputs": [
        {
          "output_type": "stream",
          "name": "stdout",
          "text": [
            "[0, 0, 0, 1, 0, 0, 0, 1] [0, 1]\n",
            "01001000 (=072) = H\n",
            "01100101 (=101) = e\n",
            "01101100 (=108) = l\n",
            "01101100 (=108) = l\n",
            "01101111 (=111) = o\n",
            "00101100 (=044) = ,\n",
            "00100000 (=032) =  \n",
            "01010001 (=081) = Q\n",
            "01010010 (=082) = R\n",
            "00100000 (=032) =  \n",
            "01010111 (=087) = W\n",
            "01101111 (=111) = o\n",
            "01110010 (=114) = r\n",
            "01100100 (=100) = d\n",
            "01100100 (=100) = d\n",
            "00100001 (=033) = !\n",
            "00110001 (=049) = 1\n",
            "0000...         = NULL TERMINATOR (END Symbol, SKIP!)\n",
            "01011111 (=095) = _\n",
            "11100000 (=224) = à\n",
            "11111001 (=249) = ù\n",
            "10011011 (=155) = \n",
            "00110101 (=053) = 5\n",
            "10110010 (=178) = ²\n",
            "11111000 (=248) = ø\n",
            "\n",
            "i.e., the data in the QR code as-is are \"Hello, QR Wordd!1\"\n",
            "the ECCs in the QR code \"àù5²ø\"\n",
            "\n",
            "Decoding the message using Reed-Solomon error correction...\n",
            "This codec can correct up to 3 errors and 7 erasures independently\n",
            "The decoded message is: \"A\u0014VÆÆòÂ\u0005\u0015\"\u0005v÷&ÆB\u0013\u0010\"\n",
            "Data in message = \"Hello, QR World!1\"\n"
          ]
        }
      ],
      "source": [
        "enc = apply_mask(grid_cells_num-1, grid_cells_num-1, UP_ENC)\n",
        "if enc == [0, 0, 1, 0]:\n",
        "  decode_alphanumeric_v1()\n",
        "else:\n",
        "  decode_byte_mode_v1()"
      ]
    }
  ],
  "metadata": {
    "colab": {
      "provenance": []
    },
    "kernelspec": {
      "display_name": "Python 3 (ipykernel)",
      "language": "python",
      "name": "python3"
    },
    "language_info": {
      "codemirror_mode": {
        "name": "ipython",
        "version": 3
      },
      "file_extension": ".py",
      "mimetype": "text/x-python",
      "name": "python",
      "nbconvert_exporter": "python",
      "pygments_lexer": "ipython3",
      "version": "3.11.3"
    }
  },
  "nbformat": 4,
  "nbformat_minor": 0
}