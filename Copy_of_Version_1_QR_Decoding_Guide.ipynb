{
  "cells": [
    {
      "cell_type": "markdown",
      "metadata": {
        "id": "9TTdTivNUBlp"
      },
      "source": [
        "\n",
        "1.   Reed-solomon ec for test cases 7, 10, 13, 15\n",
        "2.   Differentiate between v1 and v3 without depending on module size\n",
        "3.   Identify that test case 2, 6, 14 are warped and straighten them into a square\n",
        "4.   Decode v3 for test case 15, 16\n",
        "5.   mighty finger has alphanumeric encoding type don't know if i should invest time in alterring to fit it\n",
        "\n",
        "\n",
        "\n",
        "\n"
      ]
    },
    {
      "cell_type": "code",
      "execution_count": 306,
      "metadata": {
        "id": "fxUgLK_uYEoH"
      },
      "outputs": [],
      "source": [
        "import cv2\n",
        "import numpy as np\n",
        "import matplotlib.pyplot as plt\n",
        "import math"
      ]
    },
    {
      "cell_type": "code",
      "execution_count": 307,
      "metadata": {
        "colab": {
          "base_uri": "https://localhost:8080/",
          "height": 444
        },
        "id": "BCBUacpyaC-L",
        "outputId": "d80ff160-295a-4721-c205-09e20642e995"
      },
      "outputs": [
        {
          "data": {
            "image/png": "[encoded data removed]",
            "text/plain": [
              "<Figure size 500x500 with 1 Axes>"
            ]
          },
          "metadata": {},
          "output_type": "display_data"
        }
      ],
      "source": [
        "img = cv2.imread(\"./test_outputs/image14.jpg\", cv2.IMREAD_GRAYSCALE)\n",
        "_, img = cv2.threshold(img, 100, 255, cv2.THRESH_BINARY)\n",
        "fig = plt.figure(figsize=(5, 5));\n",
        "plt.xticks([], []);\n",
        "plt.yticks([], []);\n",
        "plt.title('Example QR code')\n",
        "plt.imshow(img, cmap='gray');"
      ]
    },
    {
      "cell_type": "code",
      "execution_count": 308,
      "metadata": {
        "colab": {
          "base_uri": "https://localhost:8080/",
          "height": 428
        },
        "id": "0qtoUSNbD2h0",
        "outputId": "62b4461d-2062-4929-f78a-e4b670da721c"
      },
      "outputs": [
        {
          "data": {
            "image/png": "[encoded data removed]",
            "text/plain": [
              "<Figure size 640x480 with 1 Axes>"
            ]
          },
          "metadata": {},
          "output_type": "display_data"
        }
      ],
      "source": [
        "# Correct the orientation of the qr code if it's titled\n",
        "edges = cv2.Canny(img, 50, 150, apertureSize=3)\n",
        "lines = cv2.HoughLines(edges, 1, np.pi / 180, 200)\n",
        "angle = 0\n",
        "\n",
        "if lines is not None:\n",
        "    for line in lines:\n",
        "        for rho, theta in line:\n",
        "            if np.pi / 4 < theta < 3 * np.pi / 4: # 45 -> 135\n",
        "                angle = np.rad2deg(theta - np.pi / 2)\n",
        "                (h, w) = img.shape[:2]\n",
        "                center = (w // 2, h // 2)\n",
        "                M = cv2.getRotationMatrix2D(center, angle, 1.0)\n",
        "                img = cv2.warpAffine(img, M, (w, h), flags=cv2.INTER_CUBIC, borderMode=cv2.BORDER_REPLICATE)\n",
        "\n",
        "plt.xticks([], []);\n",
        "plt.yticks([], []);\n",
        "plt.title('whatever')\n",
        "plt.imshow(img, cmap='gray');"
      ]
    },
    {
      "cell_type": "code",
      "execution_count": 309,
      "metadata": {
        "colab": {
          "base_uri": "https://localhost:8080/"
        },
        "id": "jJmNodoCIdVB",
        "outputId": "0965f47c-9118-4c07-a264-8ff82aee90f0"
      },
      "outputs": [
        {
          "name": "stdout",
          "output_type": "stream",
          "text": [
            "291 900 291 900\n"
          ]
        }
      ],
      "source": [
        "# gotta find a new way to get the qr without the quiet zone\n",
        "start_row = -1\n",
        "start_col = -1\n",
        "end_row = -1\n",
        "end_col = -1\n",
        "\n",
        "for row_index, row in enumerate(img):\n",
        "    for pixel in row:\n",
        "        if pixel != 255:\n",
        "            start_row = row_index\n",
        "            break\n",
        "    if start_row != -1:\n",
        "        break\n",
        "\n",
        "for row_index, row in enumerate(img[::-1]):\n",
        "    for pixel in row:\n",
        "        if pixel != 255:\n",
        "            end_row = img.shape[0] - row_index\n",
        "            break\n",
        "    if end_row != -1:\n",
        "        break\n",
        "\n",
        "for col_index, col in enumerate(cv2.transpose(img)):\n",
        "    for pixel in col:\n",
        "        if pixel != 255:\n",
        "            start_col = col_index\n",
        "            break\n",
        "    if start_col != -1:\n",
        "        break\n",
        "\n",
        "for col_index, col in enumerate(cv2.transpose(img)[::-1]):\n",
        "    for pixel in col:\n",
        "        if pixel != 255:\n",
        "            end_col = img.shape[1] - col_index\n",
        "            break\n",
        "    if end_col != -1:\n",
        "        break\n",
        "\n",
        "# Align the start and end rows and columns\n",
        "start_row, start_col = max(start_row, start_col), max(start_row, start_col)\n",
        "end_row, end_col = max(end_row, end_col), max(end_row, end_col)\n",
        "\n",
        "# Ensure the difference between the start and end is divisible by 21\n",
        "diff_row = end_row - start_row\n",
        "diff_col = end_col - start_col\n",
        "\n",
        "if diff_row % 21 != 0:\n",
        "    end_row -= diff_row % 21\n",
        "if diff_col % 21 != 0:\n",
        "    end_col -= diff_col % 21\n",
        "\n",
        "\n",
        "print(start_row, end_row, start_col, end_col)\n",
        "# 44 968 44 968"
      ]
    },
    {
      "cell_type": "code",
      "execution_count": 310,
      "metadata": {
        "colab": {
          "base_uri": "https://localhost:8080/",
          "height": 529
        },
        "id": "tuIclWxj8SFf",
        "outputId": "061edd69-2a12-4e05-9674-af96a328e0cb"
      },
      "outputs": [
        {
          "data": {
            "image/png": "[encoded data removed]",
            "text/plain": [
              "<Figure size 500x500 with 1 Axes>"
            ]
          },
          "metadata": {},
          "output_type": "display_data"
        }
      ],
      "source": [
        "qr_no_quiet_zone = img[start_row: end_row, start_col: end_col]\n",
        "fig = plt.figure(figsize=(5, 5));\n",
        "plt.xticks([], []);\n",
        "plt.yticks([], []);\n",
        "fig.get_axes()[0].spines[:].set_color('red');\n",
        "fig.get_axes()[0].spines[:].set_linewidth(40);\n",
        "fig.get_axes()[0].spines[:].set_position((\"outward\", 20))\n",
        "plt.title('QR code without quiet zone', y = 1.15, color='red');\n",
        "plt.imshow(qr_no_quiet_zone, cmap='gray');"
      ]
    },
    {
      "cell_type": "code",
      "execution_count": 311,
      "metadata": {
        "colab": {
          "base_uri": "https://localhost:8080/"
        },
        "id": "xaYxuP80Pk8m",
        "outputId": "a1d32355-a3b7-4a88-f981-13da8bef6fa7"
      },
      "outputs": [
        {
          "name": "stdout",
          "output_type": "stream",
          "text": [
            "(21, 21, 29, 29)\n"
          ]
        }
      ],
      "source": [
        "grid_cells_num = 21\n",
        "grid_cell_size = round(math.sqrt((end_row - start_row)**2 / (grid_cells_num**2)))\n",
        "\n",
        "# ...into grid cells\n",
        "qr_cells = qr_no_quiet_zone.reshape((\n",
        "    grid_cells_num,\n",
        "    grid_cell_size,\n",
        "    grid_cells_num,\n",
        "    grid_cell_size,\n",
        ")).swapaxes(1, 2)\n",
        "print(qr_cells.shape)"
      ]
    },
    {
      "cell_type": "code",
      "execution_count": 312,
      "metadata": {
        "colab": {
          "base_uri": "https://localhost:8080/"
        },
        "id": "rdnk5RhsPOug",
        "outputId": "d7501370-0cd5-40f0-ec3f-081151fe32a1"
      },
      "outputs": [
        {
          "name": "stdout",
          "output_type": "stream",
          "text": [
            "Pattern check result: False\n",
            "Correct\n"
          ]
        }
      ],
      "source": [
        "# Correct the orientation of the rotated qr code\n",
        "def check_pattern(cells):\n",
        "    pattern = [0, 255, 0, 0, 0, 255, 0]  # 1:1:3:1:1 pattern\n",
        "    result = all(np.mean(cell) == pat for cell, pat in zip(cells, pattern))\n",
        "    print(f\"Pattern check result: {result}\")\n",
        "    return result\n",
        "\n",
        "def rotate_image(image, degrees):\n",
        "    print(f\"Rotating image by {degrees} degrees\")\n",
        "    return np.rot90(image, degrees // 90)\n",
        "\n",
        "def correct_orientation(qr_cells, grid_cell_num):\n",
        "\n",
        "    # bottom_right corner pattern check\n",
        "    bottom_right_row = qr_cells[grid_cells_num-4, -7:]  # Check the last 7 cells in the row indexed grid_cells_num - 4\n",
        "    bottom_right_col = qr_cells[-7:, grid_cells_num-4]  # Check the last 7 cells in the column indexed grid_cells_num - 4\n",
        "\n",
        "    # Top right corner pattern check\n",
        "    top_right_row = qr_cells[3, -7:]  # Check the last 7 cells in the third row\n",
        "    top_right_col = qr_cells[:7, grid_cells_num-4]  # Check the first 7 cells in the grid_cells_num - 4 column\n",
        "\n",
        "    # Bottom left corner pattern check\n",
        "    bottom_left_row = qr_cells[grid_cells_num-4, :7] # Check the first 7 cells of row indexed by grid_cells_num - 4\n",
        "    bottom_left_col = qr_cells[-7:, 3] # Check the last 7 cells of column indexed by 3\n",
        "\n",
        "\n",
        "    if not(check_pattern(bottom_right_row) and check_pattern(bottom_right_col)):\n",
        "        print(\"Correct\")\n",
        "        return qr_cells  # QR code is in the right orientation\n",
        "\n",
        "    elif check_pattern(top_right_row) and check_pattern(top_right_col) and check_pattern(bottom_left_row) and check_pattern(bottom_left_col):\n",
        "        print(\"Rotating QR code by 180 degrees\")\n",
        "        return rotate_image(qr_cells, 180)  # Rotate 180 degrees\n",
        "\n",
        "    elif check_pattern(top_right_row) and check_pattern(top_right_col):\n",
        "        print(\"Rotating QR code by 270 degrees\")\n",
        "        return rotate_image(qr_cells, 270)  # Rotate 270 degrees\n",
        "\n",
        "    elif check_pattern(bottom_left_row) and check_pattern(bottom_left_col):\n",
        "        print(\"Rotating QR code by 90 degrees\")\n",
        "        return rotate_image(qr_cells, 90)  # Rotate 90 degrees\n",
        "\n",
        "corrected_qr = correct_orientation(qr_cells, grid_cells_num)\n",
        "\n"
      ]
    },
    {
      "cell_type": "code",
      "execution_count": 313,
      "metadata": {
        "colab": {
          "base_uri": "https://localhost:8080/",
          "height": 422
        },
        "id": "2-ZXn5NoRTTT",
        "outputId": "64344f96-1460-4c15-9daf-a6d75573f29f"
      },
      "outputs": [
        {
          "data": {
            "image/png": "[encoded data removed]",
            "text/plain": [
              "<Figure size 500x500 with 441 Axes>"
            ]
          },
          "metadata": {},
          "output_type": "display_data"
        }
      ],
      "source": [
        "_, axes = plt.subplots(grid_cells_num, grid_cells_num, figsize=(5, 5))\n",
        "for i, row in enumerate(axes):\n",
        "    for j, col in enumerate(row):\n",
        "        col.imshow(corrected_qr[i][j], cmap=\"gray\", vmin=0, vmax=255)\n",
        "        col.get_xaxis().set_visible(False)\n",
        "        col.get_yaxis().set_visible(False)\n",
        "        col.spines[:].set_color('red')"
      ]
    },
    {
      "cell_type": "code",
      "execution_count": 314,
      "metadata": {
        "colab": {
          "base_uri": "https://localhost:8080/"
        },
        "id": "6yyfDhQHW8Jz",
        "outputId": "f4e2d93e-70b5-422d-9da4-740d7c0df4b2"
      },
      "outputs": [
        {
          "name": "stdout",
          "output_type": "stream",
          "text": [
            "[[1 1 1 1 1 1 1 1 1 1 1 1 1 1 1 1 1 1 1 1 1]\n",
            " [1 1 1 1 1 1 1 1 1 1 1 1 1 1 1 1 1 1 1 1 1]\n",
            " [1 1 1 1 1 1 1 1 1 1 1 1 1 1 1 1 1 1 1 1 1]\n",
            " [1 1 1 1 1 1 1 1 1 1 1 1 1 1 1 1 1 1 1 1 1]\n",
            " [1 1 1 1 1 1 1 1 1 1 1 1 1 1 1 1 1 1 1 1 1]\n",
            " [1 1 1 1 1 1 1 1 1 1 1 1 1 1 1 1 1 1 1 1 1]\n",
            " [1 1 1 1 1 1 1 1 1 1 1 1 1 1 1 1 1 1 1 1 1]\n",
            " [1 1 1 1 1 1 1 1 1 1 1 1 1 1 1 1 1 1 1 1 1]\n",
            " [1 1 1 1 1 1 1 1 1 1 1 1 1 1 1 1 1 1 1 1 1]\n",
            " [1 1 1 1 1 1 1 1 1 1 1 1 1 1 1 1 1 1 1 1 1]\n",
            " [1 1 1 1 1 1 1 1 1 1 1 1 1 1 1 1 1 1 1 1 1]\n",
            " [1 1 1 1 1 1 1 1 1 1 1 1 1 1 1 1 1 1 1 1 1]\n",
            " [1 1 1 1 1 1 1 1 1 1 1 1 1 1 1 1 1 1 1 1 1]\n",
            " [1 1 1 1 1 1 1 1 1 1 1 1 1 1 1 1 1 1 1 1 1]\n",
            " [1 1 1 1 1 1 1 1 1 1 1 1 1 1 1 1 1 1 1 1 1]\n",
            " [1 1 1 1 1 1 1 1 1 1 1 1 1 1 1 1 1 1 1 1 1]\n",
            " [1 1 1 1 1 1 1 1 1 1 1 1 1 1 1 1 1 1 1 1 1]\n",
            " [1 1 1 1 1 1 1 1 1 1 1 1 1 1 1 1 1 1 1 1 1]\n",
            " [1 1 1 1 1 1 1 1 1 1 1 1 1 1 1 1 1 1 1 1 1]\n",
            " [1 1 1 1 1 1 1 1 1 1 1 1 1 1 1 1 1 1 1 1 1]\n",
            " [1 1 1 1 1 1 1 1 1 1 1 1 1 1 1 1 1 1 1 1 1]]\n"
          ]
        }
      ],
      "source": [
        "qr_cells_numeric = np.ndarray((grid_cells_num, grid_cells_num), dtype=np.uint8)\n",
        "for i, row in enumerate(corrected_qr):\n",
        "    for j, cell in enumerate(row):\n",
        "        qr_cells_numeric[i, j] = (np.median(cell) // 255)\n",
        "\n",
        "print(qr_cells_numeric)"
      ]
    },
    {
      "cell_type": "markdown",
      "metadata": {
        "id": "8smktSlIaOQo"
      },
      "source": [
        "## Information extraction\n",
        "\n",
        "![Meaning of format information.](https://upload.wikimedia.org/wikipedia/commons/thumb/3/3b/QR_Format_Information.svg/640px-QR_Format_Information.svg.png)\n",
        "> *Meaning of format information.*"
      ]
    },
    {
      "cell_type": "markdown",
      "metadata": {
        "id": "2aqZ9Ym6eXcp"
      },
      "source": [
        "### Error correction level"
      ]
    },
    {
      "cell_type": "code",
      "execution_count": 315,
      "metadata": {
        "colab": {
          "base_uri": "https://localhost:8080/"
        },
        "id": "3OQ3XYkQeW93",
        "outputId": "6d1caa40-b622-4f8a-ee03-58a94520c2f4"
      },
      "outputs": [
        {
          "data": {
            "text/plain": [
              "array([1, 1], dtype=uint8)"
            ]
          },
          "execution_count": 315,
          "metadata": {},
          "output_type": "execute_result"
        }
      ],
      "source": [
        "# We want row #8\n",
        "# qr_cells_numeric[8]\n",
        "qr_cells_numeric[19:21, 8]"
      ]
    },
    {
      "cell_type": "code",
      "execution_count": 316,
      "metadata": {
        "colab": {
          "base_uri": "https://localhost:8080/"
        },
        "id": "DftQienjiFdh",
        "outputId": "3e1adc35-499f-4da9-a0e0-89fd50e69442"
      },
      "outputs": [
        {
          "name": "stdout",
          "output_type": "stream",
          "text": [
            "[0, 0]\n"
          ]
        }
      ],
      "source": [
        "# The last two bits determine the error correction level\n",
        "# Level L (Low)         [11]\t7%  of data bytes can be restored.\n",
        "# Level M (Medium)      [10]\t15% of data bytes can be restored.\n",
        "# Level Q (Quartile)    [01]\t25% of data bytes can be restored.\n",
        "# Level H (High)        [00]\t30% of data bytes can be restored.\n",
        "ecl = [int(not(c)) for c in qr_cells_numeric[19:21, 8]]  # We'll read the ecl from the bottom locator instead\n",
        "# Why \"not\"? Because the standard uses '1's for black and '0's for white\n",
        "#\n",
        "# \"A dark module is a binary one and a light module is a binary zero.\"\n",
        "#  - ISO/IEC 18004:2000(E)\n",
        "#\n",
        "# In image processing, we use them the other way.. Hence the inversion\n",
        "print(ecl)\n"
      ]
    },
    {
      "cell_type": "markdown",
      "metadata": {
        "id": "pHqp3VFJg4GK"
      },
      "source": [
        "### Mask pattern"
      ]
    },
    {
      "cell_type": "code",
      "execution_count": 317,
      "metadata": {
        "colab": {
          "base_uri": "https://localhost:8080/"
        },
        "id": "Km07iIWxg-gI",
        "outputId": "a8987460-6171-4329-8f5d-a66725bc6636"
      },
      "outputs": [
        {
          "name": "stdout",
          "output_type": "stream",
          "text": [
            "000\n"
          ]
        }
      ],
      "source": [
        "# Dictionary of all masks and their equivalent formulae\n",
        "MASKS = {\n",
        "    \"000\": lambda i, j: (i * j) % 2 + (i * j) % 3 == 0,\n",
        "    \"001\": lambda i, j: (i / 2 + j / 3) % 2 == 0,\n",
        "    \"010\": lambda i, j: ((i * j) % 3 + i + j) % 2 == 0,\n",
        "    \"011\": lambda i, j: ((i * j) % 3 + i * j) % 2 == 0,\n",
        "    \"100\": lambda i, j: i % 2 == 0,\n",
        "    \"101\": lambda i, j: (i + j) % 2 == 0,\n",
        "    \"110\": lambda i, j: (i + j) % 3 == 0,\n",
        "    \"111\": lambda i, j: j % 3 == 0,\n",
        "}\n",
        "\n",
        "# Same row as above, the three cells after the ecl cells (converted to a string)\n",
        "# We'll read the mask pattern from the three bits before the ecl in col 8\n",
        "mask = [int(not(c)) for c in qr_cells_numeric[18:15:-1, 8]]\n",
        "mask_str = ''.join([str(c) for c in mask])\n",
        "print(mask_str)"
      ]
    },
    {
      "cell_type": "markdown",
      "metadata": {
        "id": "BJWaqVBYg7Gz"
      },
      "source": [
        "### Format error correction"
      ]
    },
    {
      "cell_type": "code",
      "execution_count": 318,
      "metadata": {
        "colab": {
          "base_uri": "https://localhost:8080/"
        },
        "id": "d1uHpA5oXXeN",
        "outputId": "7c3ee987-9ff6-4321-c659-93498dfb8834"
      },
      "outputs": [
        {
          "name": "stdout",
          "output_type": "stream",
          "text": [
            "[0, 0, 0, 0, 0, 0, 0, 0, 0, 0]\n"
          ]
        }
      ],
      "source": [
        "# Same row as above, but we want cells #5 and #7 (#6 is always set to 0),\n",
        "#  followed by column #8 from cell #0 in it to cell #7 (and skipping #6)\n",
        "# fec = []\n",
        "# fec.append(qr_cells_numeric[8, 5])\n",
        "# fec.append(qr_cells_numeric[8, 7])\n",
        "# fec.extend(qr_cells_numeric[0:6, 8])\n",
        "# fec.extend(qr_cells_numeric[7:9, 8])\n",
        "# fec = [int(not(c)) for c in fec]\n",
        "# print(fec)\n",
        "\n",
        "# We'll get #15, #14 from col 8 since #13 is always black\n",
        "# We'll also get row 8 from last col to col 13\n",
        "fec = []\n",
        "fec.append(qr_cells_numeric[15, 8])\n",
        "fec.append(qr_cells_numeric[14, 8])\n",
        "fec.extend(qr_cells_numeric[8, 13:21][::-1])  # Reverse to get from col 20 to col 13\n",
        "fec = [int(not(c)) for c in fec]\n",
        "print(fec)\n"
      ]
    },
    {
      "cell_type": "code",
      "execution_count": 319,
      "metadata": {
        "colab": {
          "base_uri": "https://localhost:8080/"
        },
        "id": "WMKYiQA-qzbq",
        "outputId": "c46984d9-00fd-4dbc-9a41-7c05a937473c"
      },
      "outputs": [
        {
          "name": "stdout",
          "output_type": "stream",
          "text": [
            "[0, 0] [0, 0, 0] [0, 0, 0, 0, 0, 0, 0, 0, 0, 0]\n"
          ]
        }
      ],
      "source": [
        "# So in total we have the following 15 bits of format info from our QR code\n",
        "print(ecl, mask, fec)"
      ]
    },
    {
      "cell_type": "code",
      "execution_count": 320,
      "metadata": {
        "colab": {
          "base_uri": "https://localhost:8080/",
          "height": 422
        },
        "id": "PQ0vjyjYbYij",
        "outputId": "5d260d41-1db9-4527-d235-ddc37ebe5ab8"
      },
      "outputs": [
        {
          "data": {
            "image/png": "[encoded data removed]",
            "text/plain": [
              "<Figure size 500x500 with 441 Axes>"
            ]
          },
          "metadata": {},
          "output_type": "display_data"
        }
      ],
      "source": [
        "# Let's cross-check with our example\n",
        "# _, axes = plt.subplots(grid_cells_num, grid_cells_num, figsize=(5, 5))\n",
        "# for i, row in enumerate(axes):\n",
        "#     for j, col in enumerate(row):\n",
        "\n",
        "#         col.get_xaxis().set_visible(False)\n",
        "#         col.get_yaxis().set_visible(False)\n",
        "#         if (i == 8 and j <= 8) or (i <= 8 and j == 8):\n",
        "#             if (i != 6) and (j != 6):\n",
        "#                 col.imshow(corrected_qr[i][j], cmap=\"gray\", vmin=0, vmax=255)\n",
        "#                 col.spines[:].set_color('red')\n",
        "#                 continue\n",
        "#         col.imshow(corrected_qr[i][j], cmap=\"gray\", vmin=-1275, vmax=510)\n",
        "\n",
        "\n",
        "# Plot the new format info\n",
        "_, axes = plt.subplots(grid_cells_num, grid_cells_num, figsize=(5, 5))\n",
        "for i, row in enumerate(axes):\n",
        "    for j, col in enumerate(row):\n",
        "\n",
        "        col.get_xaxis().set_visible(False)\n",
        "        col.get_yaxis().set_visible(False)\n",
        "        if (i in range(15, grid_cells_num) and j == 8) or (i == 8 and j in range(14, grid_cells_num)):\n",
        "            col.imshow(corrected_qr[i][j], cmap=\"gray\", vmin=0, vmax=255)\n",
        "            col.spines[:].set_color('red')\n",
        "            continue\n",
        "        col.imshow(corrected_qr[i][j], cmap=\"gray\", vmin=-1275, vmax=510)"
      ]
    },
    {
      "cell_type": "code",
      "execution_count": 321,
      "metadata": {
        "colab": {
          "base_uri": "https://localhost:8080/"
        },
        "id": "8iLNLbZwcLG6",
        "outputId": "8ec9ebf5-9f91-4597-f307-9ac3359a789d"
      },
      "outputs": [
        {
          "name": "stdout",
          "output_type": "stream",
          "text": [
            "[1, 0] [1, 0, 1] [0, 0, 0, 0, 0, 1, 0, 0, 1, 0]\n"
          ]
        }
      ],
      "source": [
        "# However..... You need to XOR that with the \"format mask\": 101010000010010\n",
        "ecl[0] ^= 1\n",
        "mask[0] ^= 1\n",
        "mask[2] ^= 1\n",
        "fec[5] ^= 1\n",
        "fec[8] ^= 1\n",
        "\n",
        "# And now we print...\n",
        "print(ecl, mask, fec)"
      ]
    },
    {
      "cell_type": "markdown",
      "metadata": {
        "id": "WMxszDsfhF_Q"
      },
      "source": [
        "## Data extraction\n",
        "\n",
        "![Message placement within a Ver 1 QR symbol (21×21).](https://upload.wikimedia.org/wikipedia/commons/thumb/2/21/QR_Character_Placement.svg/640px-QR_Character_Placement.svg.png)\n",
        "> *Message placement within a Ver 1 QR symbol (21×21). Example from wikipedia, encoded QR message is www.wikipedia.org*"
      ]
    },
    {
      "cell_type": "code",
      "execution_count": 322,
      "metadata": {
        "id": "TYeu5EEF22r6"
      },
      "outputs": [],
      "source": [
        "# Before we proceed, let's write a function for masking to make our lives easier\n",
        "UP, UP_ENC, DOWN, CW, CCW = range(5)  # A rather old-fashioned pythonic \"Enum\"\n",
        "\n",
        "def apply_mask(data_start_i, data_start_j, direction):\n",
        "    '''\n",
        "    data_start_i/j represent the first cell's coords in its respective direction\n",
        "    direction is the masking direction, up(-enc)/down/clockwise/anti-clockwise\n",
        "    '''\n",
        "    result = []\n",
        "    row_offsets = []\n",
        "    col_offsets = []\n",
        "    if (direction in [UP, UP_ENC]):\n",
        "        row_offsets = [0,  0, -1, -1, -2, -2, -3, -3]\n",
        "        col_offsets = [0, -1,  0, -1,  0, -1,  0, -1]\n",
        "    if (direction == DOWN):\n",
        "        row_offsets = [0,  0,  1,  1,  2,  2,  3,  3]\n",
        "        col_offsets = [0, -1,  0, -1,  0, -1,  0, -1]\n",
        "    if (direction == CW):\n",
        "        row_offsets = [0,  0,  1,  1,  1,  1,  0,  0]\n",
        "        col_offsets = [0, -1,  0, -1, -2, -3, -2, -3]\n",
        "    if (direction == CCW):\n",
        "        row_offsets = [0,  0, -1, -1, -1, -1,  0,  0]\n",
        "        col_offsets = [0, -1,  0, -1, -2, -3, -2, -3]\n",
        "\n",
        "    for i, j in zip(row_offsets, col_offsets):\n",
        "        cell = qr_cells_numeric[data_start_i+i, data_start_j+j]\n",
        "        result.append(int(cell if MASKS[mask_str](data_start_i+i, data_start_j+j) else not cell))\n",
        "\n",
        "    return result[:4] if direction == UP_ENC else result"
      ]
    },
    {
      "cell_type": "markdown",
      "metadata": {
        "id": "mHnX6w8Yvz9e"
      },
      "source": [
        "### Data encoding"
      ]
    },
    {
      "cell_type": "code",
      "execution_count": 323,
      "metadata": {
        "colab": {
          "base_uri": "https://localhost:8080/"
        },
        "id": "sMKnJyYHhHKl",
        "outputId": "ceed0b6a-4f1b-4ff6-92b2-b22e2dfaacb7"
      },
      "outputs": [
        {
          "name": "stdout",
          "output_type": "stream",
          "text": [
            "[0, 0, 0, 0]\n"
          ]
        }
      ],
      "source": [
        "enc = apply_mask(grid_cells_num-1, grid_cells_num-1, UP_ENC)\n",
        "print(enc)"
      ]
    },
    {
      "cell_type": "markdown",
      "metadata": {
        "id": "_Es8SoZ02lct"
      },
      "source": [
        "### Data length"
      ]
    },
    {
      "cell_type": "code",
      "execution_count": 324,
      "metadata": {
        "colab": {
          "base_uri": "https://localhost:8080/"
        },
        "id": "JZ5ml6N02kC3",
        "outputId": "3d28b530-1dc4-439b-8eb8-f92b6611b9a6"
      },
      "outputs": [
        {
          "name": "stdout",
          "output_type": "stream",
          "text": [
            "[1, 1, 0, 0, 0, 0, 1, 0]\n"
          ]
        }
      ],
      "source": [
        "len = apply_mask(grid_cells_num-3, grid_cells_num-1, UP)\n",
        "print(len)"
      ]
    },
    {
      "cell_type": "markdown",
      "metadata": {
        "id": "ugMlyRLEHX-V"
      },
      "source": [
        "### Data extraction"
      ]
    },
    {
      "cell_type": "code",
      "execution_count": 325,
      "metadata": {
        "colab": {
          "base_uri": "https://localhost:8080/"
        },
        "id": "2C9MtuNJHY0m",
        "outputId": "b96e9173-73da-4e16-de4c-192c97b09838"
      },
      "outputs": [
        {
          "name": "stdout",
          "output_type": "stream",
          "text": [
            "0000 = 0 (NULL TERMINATOR)\n",
            "\n",
            "Decoded string: \n"
          ]
        }
      ],
      "source": [
        "data_starting_indices = [\n",
        "    [grid_cells_num-7, grid_cells_num-1, UP],\n",
        "    [grid_cells_num-11, grid_cells_num-1, CCW],\n",
        "    [grid_cells_num-10, grid_cells_num-3, DOWN],\n",
        "    [grid_cells_num-6, grid_cells_num-3, DOWN],\n",
        "    [grid_cells_num-2, grid_cells_num-3, CW],\n",
        "    [grid_cells_num-3, grid_cells_num-5, UP],\n",
        "    [grid_cells_num-7, grid_cells_num-5, UP],\n",
        "    [grid_cells_num-11, grid_cells_num-5, CCW],\n",
        "    [grid_cells_num-10, grid_cells_num-7, DOWN],\n",
        "    [grid_cells_num-6, grid_cells_num-7, DOWN],\n",
        "    [grid_cells_num-2, grid_cells_num-7, CW],\n",
        "    [grid_cells_num-3, grid_cells_num-9, UP],\n",
        "    [grid_cells_num-7, grid_cells_num-9, UP],\n",
        "    [grid_cells_num-11, grid_cells_num-9, UP],\n",
        "    [grid_cells_num-16, grid_cells_num-9, UP],\n",
        "    [grid_cells_num-20, grid_cells_num-9, CCW],\n",
        "    [grid_cells_num-19, grid_cells_num-11, DOWN],\n",
        "    [grid_cells_num-14, grid_cells_num-11, DOWN],\n",
        "    [grid_cells_num-12, grid_cells_num-11, DOWN],\n",
        "    [grid_cells_num-8, grid_cells_num-11, DOWN], # this is E2\n",
        "    [grid_cells_num-4, grid_cells_num-11, DOWN], # e3\n",
        "    [grid_cells_num-12, grid_cells_num-13, UP], # e4\n",
        "    [grid_cells_num-12, grid_cells_num-16, DOWN], #e5\n",
        "    [grid_cells_num-12, grid_cells_num-18, UP], #e6\n",
        "    [grid_cells_num-12, grid_cells_num-20, DOWN] #e7\n",
        "\n",
        "\n",
        "]\n",
        "# array 3la b3dha\n",
        "# check 3la el enc\n",
        "# check 3la el length\n",
        "# 7wl mn bin le alpha\n",
        "ans = ''\n",
        "for a, b, d in data_starting_indices:\n",
        "    bits = apply_mask(a, b, d)\n",
        "    bit_string = ''.join([str(bit) for bit in bits])\n",
        "    if bit_string[:4] == \"0000\":\n",
        "        print(f'{bit_string[:4]} = 0 (NULL TERMINATOR)')\n",
        "        break\n",
        "    ans += chr(int(bit_string, 2)) # converts to binary to int, then to ASCII\n",
        "    print(f'{bit_string} = {ans[-1]}')\n",
        "\n",
        "print(f'\\nDecoded string: {ans}')"
      ]
    }
  ],
  "metadata": {
    "colab": {
      "provenance": []
    },
    "kernelspec": {
      "display_name": "Python 3",
      "name": "python3"
    },
    "language_info": {
      "codemirror_mode": {
        "name": "ipython",
        "version": 3
      },
      "file_extension": ".py",
      "mimetype": "text/x-python",
      "name": "python",
      "nbconvert_exporter": "python",
      "pygments_lexer": "ipython3",
      "version": "3.11.3"
    }
  },
  "nbformat": 4,
  "nbformat_minor": 0
}
