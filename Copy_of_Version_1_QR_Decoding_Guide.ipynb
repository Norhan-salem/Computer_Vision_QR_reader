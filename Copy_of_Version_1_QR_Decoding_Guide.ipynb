{
  "cells": [
    {
      "cell_type": "markdown",
      "metadata": {
        "id": "9TTdTivNUBlp"
      },
      "source": [
        "\n",
        "1.   Reed-solomon ec\n",
        "4.   Decode v3 for test case 15, v4 for 16\n",
        "\n",
        "\n",
        "\n",
        "\n",
        "\n"
      ]
    },
    {
      "cell_type": "code",
      "execution_count": null,
      "metadata": {
        "ExecuteTime": {
          "end_time": "2024-05-05T19:40:52.328660800Z",
          "start_time": "2024-05-05T19:40:52.239954500Z"
        },
        "id": "fxUgLK_uYEoH",
        "outputId": "32cb4a52-e1ba-4891-df48-b98f5d1d95e9",
        "colab": {
          "base_uri": "https://localhost:8080/"
        }
      },
      "outputs": [
        {
          "output_type": "stream",
          "name": "stdout",
          "text": [
            "Requirement already satisfied: reedsolo in /usr/local/lib/python3.10/dist-packages (1.7.0)\n"
          ]
        }
      ],
      "source": [
        "import cv2\n",
        "import numpy as np\n",
        "import matplotlib.pyplot as plt\n",
        "import math\n",
        "!pip install --upgrade reedsolo\n",
        "import reedsolo as rs"
      ]
    },
    {
      "cell_type": "code",
      "execution_count": null,
      "metadata": {
        "ExecuteTime": {
          "end_time": "2024-05-05T19:40:52.457019700Z",
          "start_time": "2024-05-05T19:40:52.271695100Z"
        },
        "id": "wJRFMieZ70gv"
      },
      "outputs": [],
      "source": [
        "def check_pattern(cells):\n",
        "    \"\"\"\n",
        "    Check if the mean value of each cell in cells is within a tolerance of the corresponding value in the pattern.\n",
        "    \"\"\"\n",
        "    pattern = [0, 255, 0, 0, 0, 255, 0]  # 1:1:3:1:1 pattern\n",
        "    tolerance = 100\n",
        "    results = [abs(int(np.mean(cell)) - pat) <= tolerance for cell, pat in zip(cells, pattern)]\n",
        "    return all(results)\n",
        "\n",
        "def rotate_image(image, degrees):\n",
        "    return np.rot90(image, degrees // 90)\n",
        "\n",
        "def check_valid_format(og, qr_cells, grid_cells_num, grid_cell_size):\n",
        "    qr_cells_numeric = np.ndarray((grid_cells_num, grid_cells_num), dtype=np.uint8)\n",
        "    for i, row in enumerate(qr_cells):\n",
        "        for j, cell in enumerate(row):\n",
        "            qr_cells_numeric[i, j] = (np.median(cell) // 255)\n",
        "    ecl = [int(not(c)) for c in qr_cells_numeric[grid_cells_num-2:grid_cells_num, 8]]\n",
        "    mask = [int(not(c)) for c in qr_cells_numeric[grid_cells_num-3:grid_cells_num-6:-1, 8]]\n",
        "    fec = np.concatenate(([qr_cells_numeric[grid_cells_num-6, 8]], [qr_cells_numeric[grid_cells_num-7, 8]], qr_cells_numeric[8, grid_cells_num-8:grid_cells_num][::-1]))  # Reverse to get from col 20 to col 13\n",
        "    fec = [int(not(c)) for c in fec]\n",
        "\n",
        "    ecl_check = [int(not(c)) for c in qr_cells_numeric[8, :2]]\n",
        "    mask_check = [int(not(c)) for c in qr_cells_numeric[8, 2:5]]\n",
        "    fec_check = np.concatenate(([qr_cells_numeric[8, 5]], [qr_cells_numeric[8, 7]], qr_cells_numeric[7:9,8][::-1], qr_cells_numeric[0:6,8][::-1]))\n",
        "    fec_check = [int(not(c)) for c in fec_check]\n",
        "\n",
        "    print(ecl + mask + fec == ecl_check + mask_check + fec_check)\n",
        "    if not (ecl + mask + fec == ecl_check + mask_check + fec_check):\n",
        "        revert = rotate_image(qr_cells, 270)\n",
        "        return cv2.flip(og, 1).reshape((grid_cells_num,\n",
        "    grid_cell_size,\n",
        "    grid_cells_num,\n",
        "    grid_cell_size)).swapaxes(1, 2)\n",
        "    else:\n",
        "        return qr_cells\n",
        "\n",
        "def correct_orientation(og, qr_cells, grid_cells_num, grid_cell_size):\n",
        "    \"\"\"\n",
        "    Correct the orientation of the QR code by checking the patterns in the corners and rotating if necessary.\n",
        "    \"\"\"\n",
        "    # Check patterns in the corners\n",
        "    bottom_right = qr_cells[grid_cells_num - 4, -7:], qr_cells[-7:, grid_cells_num-4]\n",
        "    top_right = qr_cells[3, -7:], qr_cells[:7, grid_cells_num-4]\n",
        "    bottom_left = qr_cells[grid_cells_num-4, :7], qr_cells[-7:, 3]\n",
        "\n",
        "\n",
        "    # If the bottom right corner does not match the pattern, the QR code is in the correct orientation\n",
        "    if not any(map(check_pattern, bottom_right)):\n",
        "        return qr_cells\n",
        "\n",
        "    # If all corners match the pattern, rotate 180 degrees\n",
        "    if all(map(check_pattern, top_right + bottom_left)):\n",
        "        return rotate_image(qr_cells, 180)\n",
        "\n",
        "    # If the top right and bottom right corners match the pattern, rotate 270 degrees\n",
        "    if all(map(check_pattern, top_right + bottom_right)):\n",
        "        rotated = rotate_image(qr_cells, 90)\n",
        "        return check_valid_format(og, rotated, grid_cells_num, grid_cell_size)\n",
        "\n",
        "\n",
        "    # If the bottom left and bottom right corners match the pattern, rotate 90 degrees\n",
        "    if all(map(check_pattern, bottom_left + bottom_right)):\n",
        "        return rotate_image(qr_cells, 270)"
      ]
    },
    {
      "cell_type": "code",
      "execution_count": null,
      "metadata": {
        "ExecuteTime": {
          "end_time": "2024-05-05T19:40:52.458020Z",
          "start_time": "2024-05-05T19:40:52.283659Z"
        },
        "colab": {
          "base_uri": "https://localhost:8080/",
          "height": 444
        },
        "id": "BCBUacpyaC-L",
        "outputId": "4b37034a-d3c0-4d20-b46a-da7aa2f98565"
      },
      "outputs": [
        {
          "output_type": "display_data",
          "data": {
            "text/plain": [
              "<Figure size 500x500 with 1 Axes>"
            ],
            "image/png": "[encoded data removed]"
          },
          "metadata": {}
        }
      ],
      "source": [
        "img = cv2.imread(\"/content/image16.jpg\", cv2.IMREAD_GRAYSCALE)\n",
        "_, img = cv2.threshold(img, 100, 255, cv2.THRESH_BINARY)\n",
        "fig = plt.figure(figsize=(5, 5));\n",
        "plt.xticks([], []);\n",
        "plt.yticks([], []);\n",
        "plt.title('Example QR code')\n",
        "plt.imshow(img, cmap='gray');"
      ]
    },
    {
      "cell_type": "code",
      "execution_count": null,
      "metadata": {
        "ExecuteTime": {
          "end_time": "2024-05-05T19:40:52.595210100Z",
          "start_time": "2024-05-05T19:40:52.412984Z"
        },
        "colab": {
          "base_uri": "https://localhost:8080/"
        },
        "id": "jJmNodoCIdVB",
        "outputId": "056b5545-8fe8-408f-b7b7-631e7ed04129"
      },
      "outputs": [
        {
          "output_type": "stream",
          "name": "stdout",
          "text": [
            "29 29 29 29\n"
          ]
        }
      ],
      "source": [
        "grid_cells_num = 33\n",
        "grid_cell_size = 50\n",
        "\n",
        "# gotta find a new way to get the qr without the quiet zone\n",
        "start_row = -1\n",
        "start_col = -1\n",
        "end_row = -1\n",
        "end_col = -1\n",
        "\n",
        "for row_index, row in enumerate(img):\n",
        "    for pixel in row:\n",
        "        if pixel != 255:\n",
        "            start_row = row_index\n",
        "            break\n",
        "    if start_row != -1:\n",
        "        break\n",
        "\n",
        "for row_index, row in enumerate(img[::-1]):\n",
        "    for pixel in row:\n",
        "        if pixel != 255:\n",
        "            end_row = img.shape[0] - row_index\n",
        "            break\n",
        "    if end_row != -1:\n",
        "        break\n",
        "\n",
        "for col_index, col in enumerate(cv2.transpose(img)):\n",
        "    for pixel in col:\n",
        "        if pixel != 255:\n",
        "            start_col = col_index\n",
        "            break\n",
        "    if start_col != -1:\n",
        "        break\n",
        "\n",
        "\n",
        "for col_index, col in enumerate(cv2.transpose(img)[::-1]):\n",
        "    for pixel in col:\n",
        "        if pixel != 255:\n",
        "            end_col = img.shape[1] - col_index\n",
        "            break\n",
        "    if end_col != -1:\n",
        "        break\n",
        "\n",
        "\n",
        "top_border = min(start_row, max(start_col, img.shape[1] - end_col))\n",
        "bottom_border = min(img.shape[0] - end_row, max(start_col, img.shape[1] - end_col))\n",
        "left_border = min(start_col, max(start_row, img.shape[0] - end_row))\n",
        "right_border = min(img.shape[1] - end_col, max(start_row, img.shape[0] - end_row))\n",
        "\n",
        "print(top_border, bottom_border, left_border, right_border)"
      ]
    },
    {
      "cell_type": "code",
      "execution_count": null,
      "metadata": {
        "ExecuteTime": {
          "end_time": "2024-05-05T19:40:52.638821100Z",
          "start_time": "2024-05-05T19:40:52.595210100Z"
        },
        "id": "tuIclWxj8SFf"
      },
      "outputs": [],
      "source": [
        "qr_no_quiet_zone = img[top_border:img.shape[0] - bottom_border, left_border: img.shape[1] - right_border]\n",
        "qr_no_quiet_zone = cv2.resize(qr_no_quiet_zone, (grid_cells_num * grid_cell_size, grid_cells_num * grid_cell_size), interpolation=cv2.INTER_AREA)"
      ]
    },
    {
      "cell_type": "code",
      "execution_count": null,
      "metadata": {
        "ExecuteTime": {
          "end_time": "2024-05-05T19:40:52.653628200Z",
          "start_time": "2024-05-05T19:40:52.611087600Z"
        },
        "colab": {
          "base_uri": "https://localhost:8080/"
        },
        "id": "xaYxuP80Pk8m",
        "outputId": "92c3bfd2-4216-4e54-95d2-ea10a1659fa5"
      },
      "outputs": [
        {
          "output_type": "stream",
          "name": "stdout",
          "text": [
            "(33, 33, 50, 50)\n"
          ]
        }
      ],
      "source": [
        "# ...into grid cells\n",
        "qr_cells = qr_no_quiet_zone.reshape((\n",
        "    grid_cells_num,\n",
        "    grid_cell_size,\n",
        "    grid_cells_num,\n",
        "    grid_cell_size,\n",
        ")).swapaxes(1, 2)\n",
        "print(qr_cells.shape)"
      ]
    },
    {
      "cell_type": "code",
      "execution_count": null,
      "metadata": {
        "ExecuteTime": {
          "end_time": "2024-05-05T19:40:52.654636900Z",
          "start_time": "2024-05-05T19:40:52.627075800Z"
        },
        "id": "rdnk5RhsPOug"
      },
      "outputs": [],
      "source": [
        "corrected_qr = correct_orientation(qr_no_quiet_zone, qr_cells, grid_cells_num, grid_cell_size)"
      ]
    },
    {
      "cell_type": "code",
      "execution_count": null,
      "metadata": {
        "ExecuteTime": {
          "end_time": "2024-05-05T19:40:52.716817600Z",
          "start_time": "2024-05-05T19:40:52.642704100Z"
        },
        "colab": {
          "base_uri": "https://localhost:8080/"
        },
        "id": "6yyfDhQHW8Jz",
        "outputId": "5272b5a6-a723-47b2-f02e-b70e953fed75"
      },
      "outputs": [
        {
          "output_type": "stream",
          "name": "stdout",
          "text": [
            "[[0 0 0 ... 0 0 0]\n",
            " [0 1 1 ... 1 1 0]\n",
            " [0 1 0 ... 0 1 0]\n",
            " ...\n",
            " [0 1 0 ... 0 0 0]\n",
            " [0 1 1 ... 1 0 1]\n",
            " [0 0 0 ... 1 0 0]]\n"
          ]
        }
      ],
      "source": [
        "qr_cells_numeric = np.ndarray((grid_cells_num, grid_cells_num), dtype=np.uint8)\n",
        "for i, row in enumerate(corrected_qr):\n",
        "    for j, cell in enumerate(row):\n",
        "        qr_cells_numeric[i, j] = (np.median(cell) // 255)\n",
        "\n",
        "# qr_cells_numeric = 1 - qr_cells_numeric\n",
        "print(qr_cells_numeric)"
      ]
    },
    {
      "cell_type": "markdown",
      "metadata": {
        "id": "8smktSlIaOQo"
      },
      "source": [
        "## Information extraction\n",
        "\n",
        "![Meaning of format information.](https://upload.wikimedia.org/wikipedia/commons/thumb/3/3b/QR_Format_Information.svg/640px-QR_Format_Information.svg.png)\n",
        "> *Meaning of format information.*"
      ]
    },
    {
      "cell_type": "markdown",
      "metadata": {
        "id": "2aqZ9Ym6eXcp"
      },
      "source": [
        "### Error correction level"
      ]
    },
    {
      "cell_type": "code",
      "execution_count": null,
      "metadata": {
        "ExecuteTime": {
          "end_time": "2024-05-05T19:40:52.719960700Z",
          "start_time": "2024-05-05T19:40:52.689479400Z"
        },
        "colab": {
          "base_uri": "https://localhost:8080/"
        },
        "id": "DftQienjiFdh",
        "outputId": "910fffc1-d96a-4fcd-ce6c-04d64b9fb145"
      },
      "outputs": [
        {
          "output_type": "stream",
          "name": "stdout",
          "text": [
            "[1, 1]\n"
          ]
        }
      ],
      "source": [
        "# Level L (Low)         [11]\t7%  of data bytes can be restored.\n",
        "# Level M (Medium)      [10]\t15% of data bytes can be restored.\n",
        "# Level Q (Quartile)    [01]\t25% of data bytes can be restored.\n",
        "# Level H (High)        [00]\t30% of data bytes can be restored.\n",
        "\n",
        "# I generalized the location to suit v3 and v4\n",
        "# We'll read the ecl from the bottom locator instead\n",
        "ecl = [int(not(c)) for c in qr_cells_numeric[grid_cells_num-2:grid_cells_num, 8]]\n",
        "print(ecl)\n"
      ]
    },
    {
      "cell_type": "markdown",
      "metadata": {
        "id": "pHqp3VFJg4GK"
      },
      "source": [
        "### Mask pattern"
      ]
    },
    {
      "cell_type": "code",
      "execution_count": null,
      "metadata": {
        "ExecuteTime": {
          "end_time": "2024-05-05T19:40:52.736959300Z",
          "start_time": "2024-05-05T19:40:52.705472800Z"
        },
        "colab": {
          "base_uri": "https://localhost:8080/"
        },
        "id": "Km07iIWxg-gI",
        "outputId": "805938a1-8640-4f6a-cd9a-bf5536690321"
      },
      "outputs": [
        {
          "output_type": "stream",
          "name": "stdout",
          "text": [
            "[0, 0, 1]\n"
          ]
        }
      ],
      "source": [
        "# Dictionary of all masks and their equivalent formulae\n",
        "# MASKS = {\n",
        "#     \"000\": lambda i, j: (i * j) % 2 + (i * j) % 3 == 0,\n",
        "#     \"001\": lambda i, j: (i / 2 + j / 3) % 2 == 0,\n",
        "#     \"010\": lambda i, j: ((i * j) % 3 + i + j) % 2 == 0,\n",
        "#     \"011\": lambda i, j: ((i * j) % 3 + i * j) % 2 == 0,\n",
        "#     \"100\": lambda i, j: i % 2 == 0,\n",
        "#     \"101\": lambda i, j: (i + j) % 2 == 0,\n",
        "#     \"110\": lambda i, j: (i + j) % 3 == 0,\n",
        "#     \"111\": lambda i, j: j % 3 == 0,\n",
        "# }\n",
        "\n",
        "MASKS = {\n",
        "    \"101\": lambda i, j: (i * j) % 2 + (i * j) % 3 == 0,\n",
        "    \"100\": lambda i, j: (i / 2 + j / 3) % 2 == 0,\n",
        "    \"111\": lambda i, j: ((i * j) % 3 + i + j) % 2 == 0,\n",
        "    \"110\": lambda i, j: ((i * j) % 3 + i * j) % 2 == 0,\n",
        "    \"001\": lambda i, j: i % 2 == 0,\n",
        "    \"000\": lambda i, j: (i + j) % 2 == 0,\n",
        "    \"011\": lambda i, j: (i + j) % 3 == 0,\n",
        "    \"010\": lambda i, j: j % 3 == 0,\n",
        "}\n",
        "\n",
        "# We'll read the mask pattern from the three bits before the ecl in col 8\n",
        "mask = [int(not(c)) for c in qr_cells_numeric[grid_cells_num-3:grid_cells_num-6:-1, 8]]\n",
        "print(mask)"
      ]
    },
    {
      "cell_type": "markdown",
      "metadata": {
        "id": "BJWaqVBYg7Gz"
      },
      "source": [
        "### Format error correction"
      ]
    },
    {
      "cell_type": "code",
      "execution_count": null,
      "metadata": {
        "ExecuteTime": {
          "end_time": "2024-05-05T19:40:52.739965100Z",
          "start_time": "2024-05-05T19:40:52.721959600Z"
        },
        "id": "d1uHpA5oXXeN",
        "colab": {
          "base_uri": "https://localhost:8080/"
        },
        "outputId": "93ac6319-2c72-4321-8d6d-eaabd0245ad9"
      },
      "outputs": [
        {
          "output_type": "stream",
          "name": "stdout",
          "text": [
            "[0, 0, 0, 0, 0, 1, 0, 0, 0, 1]\n"
          ]
        }
      ],
      "source": [
        "# We'll get #15, #14 from col 8 since #13 is always black\n",
        "# We'll also get row 8 from last col to col 13\n",
        "fec = []\n",
        "fec.append(qr_cells_numeric[grid_cells_num-6, 8])\n",
        "fec.append(qr_cells_numeric[grid_cells_num-7, 8])\n",
        "fec.extend(qr_cells_numeric[8, grid_cells_num-8:grid_cells_num][::-1])\n",
        "fec = [int(not(c)) for c in fec]\n",
        "print(fec)\n"
      ]
    },
    {
      "cell_type": "code",
      "execution_count": null,
      "metadata": {
        "ExecuteTime": {
          "end_time": "2024-05-05T19:40:52.813406500Z",
          "start_time": "2024-05-05T19:40:52.736959300Z"
        },
        "id": "WMKYiQA-qzbq",
        "colab": {
          "base_uri": "https://localhost:8080/"
        },
        "outputId": "eeebfc2b-3430-4090-c294-bf29ec6ddbea"
      },
      "outputs": [
        {
          "output_type": "stream",
          "name": "stdout",
          "text": [
            "[1, 1] [0, 0, 1] [0, 0, 0, 0, 0, 1, 0, 0, 0, 1]\n",
            "[1, 1, 0, 0, 1, 0, 0, 0, 0, 0, 1, 0, 0, 0, 1]\n"
          ]
        }
      ],
      "source": [
        "# So in total we have the following 15 bits of format info from our QR code\n",
        "print(ecl, mask, fec)\n",
        "\n",
        "# Added all the formatting info to one list\n",
        "format_info = [ecl, mask, fec]\n",
        "format_info = [bit for sub_format in format_info for bit in sub_format]\n",
        "print(format_info)"
      ]
    },
    {
      "cell_type": "markdown",
      "source": [
        "FOEMAT INFORMATION LOOKUP TABLE"
      ],
      "metadata": {
        "id": "vX4nTy-aR2yK"
      }
    },
    {
      "cell_type": "code",
      "source": [
        "def calculate_hamming_distance(seq1, seq2):\n",
        "    return sum(bit1 != bit2 for bit1, bit2 in zip(seq1, seq2))\n",
        "\n",
        "def is_format_info_valid(format_info):\n",
        "    valid_format_sequence = [\n",
        "      [1,0,1,0,1,0,0,0,0,0,1,0,0,1,0], # 00 000\n",
        "      [1,0,1,0,0,0,1,0,0,1,0,0,1,0,1], # 00 001\n",
        "      [1,0,1,1,1,1,0,0,1,1,1,1,1,0,0], # 00 010\n",
        "      [1,0,1,1,0,1,1,0,1,0,0,1,0,1,1], # 00 011\n",
        "      [1,0,0,0,1,0,1,1,1,1,1,1,0,1,1], # 00 100\n",
        "      [1,0,0,0,0,0,0,1,1,0,0,1,1,1,0], # 00 101\n",
        "      [1,0,0,1,1,1,1,1,0,0,1,0,1,1,1], # 00 110\n",
        "      [1,0,0,1,0,1,0,1,0,1,0,0,0,0,0], # 00 111\n",
        "\n",
        "      [1,1,1,0,1,1,1,1,1,0,0,0,1,0,0], # 01 000\n",
        "      [1,1,1,0,0,1,0,1,1,1,1,0,0,1,1], # 01 001\n",
        "      [1,1,1,1,1,0,1,1,0,1,0,1,0,1,0], # 01 010\n",
        "      [1,1,1,1,0,0,0,1,0,0,1,1,1,0,1], # 01 011\n",
        "      [1,1,0,0,1,1,0,0,0,1,0,1,1,1,1], # 01 100\n",
        "      [1,1,0,0,0,1,1,0,0,0,1,1,0,0,0], # 01 101\n",
        "      [1,1,0,1,1,0,0,0,1,0,0,0,0,0,1], # 01 110\n",
        "      [1,1,0,1,0,0,1,0,1,1,1,0,1,1,0], # 01 111\n",
        "\n",
        "      [0,0,1,0,1,1,0,1,0,0,0,1,0,0,1], # 10 000\n",
        "      [0,0,1,0,0,1,1,1,0,1,1,1,1,1,0], # 10 001\n",
        "      [0,0,1,1,1,0,0,1,1,1,0,0,1,1,1], # 10 010\n",
        "      [0,0,1,1,0,0,1,1,1,0,1,0,0,0,0], # 10 011\n",
        "      [0,0,0,0,1,1,1,0,1,1,0,0,0,1,0], # 10 100\n",
        "      [0,0,0,0,0,1,0,0,1,0,1,0,1,0,1], # 10 101\n",
        "      [0,0,0,1,1,0,1,0,0,0,0,1,1,0,0], # 10 110\n",
        "      [0,0,0,1,0,0,0,0,0,1,1,1,0,1,1], # 10 111\n",
        "\n",
        "      [0,1,1,0,1,0,1,0,1,0,1,1,1,1,1], # 11 000\n",
        "      [0,1,1,0,0,0,0,0,1,1,0,1,0,0,0], # 11 001\n",
        "      [0,1,1,1,1,1,1,0,0,1,1,0,0,0,1], # 11 010\n",
        "      [0,1,1,1,0,1,0,0,0,0,0,0,1,1,0], # 11 011\n",
        "      [0,1,0,0,1,0,0,1,0,1,1,0,1,0,0], # 11 100\n",
        "      [0,1,0,0,0,0,1,1,0,0,0,0,0,1,1], # 11 101\n",
        "      [0,1,0,1,1,1,0,1,1,0,1,1,0,1,0], # 11 110\n",
        "      [0,1,0,1,0,1,1,1,1,1,0,1,1,0,1]  # 11 111\n",
        "    ]\n",
        "\n",
        "    # Initialize min_distance with a large number and min_seq with None\n",
        "    min_distance = float('inf')\n",
        "    min_seq = None\n",
        "\n",
        "    for seq in valid_format_sequence:\n",
        "        # Calculate the hamming distance between format_info and seq\n",
        "        distance = calculate_hamming_distance(format_info, seq)\n",
        "\n",
        "        # If the distance is 0, then we have found an exact match\n",
        "        if distance == 0:\n",
        "            return seq\n",
        "\n",
        "        # If the distance is less than min_distance, update min_distance and min_seq\n",
        "        if distance < min_distance:\n",
        "            min_distance = distance\n",
        "            min_seq = seq\n",
        "\n",
        "    # If no exact match was found, return the sequence with the minimum hamming distance\n",
        "    format_info = min_seq\n",
        "    return format_info\n"
      ],
      "metadata": {
        "id": "bhXL2FOLQYtY"
      },
      "execution_count": null,
      "outputs": []
    },
    {
      "cell_type": "code",
      "source": [
        "print(is_format_info_valid(format_info))"
      ],
      "metadata": {
        "id": "AlJ6trguk3GC",
        "colab": {
          "base_uri": "https://localhost:8080/"
        },
        "outputId": "846deff4-467c-4148-804e-65af3e07a967"
      },
      "execution_count": null,
      "outputs": [
        {
          "output_type": "stream",
          "name": "stdout",
          "text": [
            "[1, 1, 0, 1, 1, 0, 0, 0, 1, 0, 0, 0, 0, 0, 1]\n"
          ]
        }
      ]
    },
    {
      "cell_type": "code",
      "execution_count": null,
      "metadata": {
        "ExecuteTime": {
          "end_time": "2024-05-05T19:40:52.815406200Z",
          "start_time": "2024-05-05T19:40:52.751345200Z"
        },
        "id": "8iLNLbZwcLG6",
        "colab": {
          "base_uri": "https://localhost:8080/"
        },
        "outputId": "28cd5771-8d81-460b-ae06-d31fa8c289e5"
      },
      "outputs": [
        {
          "output_type": "stream",
          "name": "stdout",
          "text": [
            "[0, 1] [1, 0, 0] [0, 0, 0, 0, 0, 0, 0, 0, 1, 1]\n"
          ]
        }
      ],
      "source": [
        "ecl = format_info[:2]\n",
        "mask = format_info[2:5]\n",
        "fec = format_info[5:]\n",
        "\n",
        "# However..... You need to XOR that with the \"format mask\": 101010000010010\n",
        "ecl[0] ^= 1\n",
        "mask[0] ^= 1\n",
        "mask[2] ^= 1\n",
        "fec[5] ^= 1\n",
        "fec[8] ^= 1\n",
        "\n",
        "# And now we print...\n",
        "print(ecl, mask, fec)\n",
        "mask_str = ''.join([str(c) for c in mask])"
      ]
    },
    {
      "cell_type": "code",
      "execution_count": null,
      "metadata": {
        "ExecuteTime": {
          "end_time": "2024-05-05T19:40:52.815406200Z",
          "start_time": "2024-05-05T19:40:52.770349Z"
        },
        "id": "TYeu5EEF22r6"
      },
      "outputs": [],
      "source": [
        "UP, UP_ENC, DOWN, CW, CCW, UP_IRR, DOWN_IRR, CCW_IRR, UP_CORNER, DOWN_CORNER, UP_SKIP_TIM, DOWN_SKIP_TIM,\\\n",
        "DOWN_SKIP_ALIGN, UP_ALIGN, CCW_SKIP_TIM, UP_SKIP_FORMAT  = range(16)\n",
        "def apply_mask(data_start_i, data_start_j, direction):\n",
        "    '''\n",
        "    data_start_i/j represent the first cell's coords in its respective direction\n",
        "    direction is the masking direction, up(-enc)/down/clockwise/anti-clockwise\n",
        "    '''\n",
        "    print(f\"Applying mask with start indices: {data_start_i}, {data_start_j}, direction: {direction}\")\n",
        "    result = []\n",
        "    row_offsets = []\n",
        "    col_offsets = []\n",
        "    if (direction in [UP, UP_ENC]):\n",
        "        row_offsets = [0,  0, -1, -1, -2, -2, -3, -3]\n",
        "        col_offsets = [0, -1,  0, -1,  0, -1,  0, -1]\n",
        "    if (direction == DOWN):\n",
        "        row_offsets = [0,  0,  1,  1,  2,  2,  3,  3]\n",
        "        col_offsets = [0, -1,  0, -1,  0, -1,  0, -1]\n",
        "    if (direction == CW):\n",
        "        row_offsets = [0,  0,  1,  1,  1,  1,  0,  0]\n",
        "        col_offsets = [0, -1,  0, -1, -2, -3, -2, -3]\n",
        "    if (direction == CCW):\n",
        "        row_offsets = [0,  0, -1, -1, -1, -1,  0,  0]\n",
        "        col_offsets = [0, -1,  0, -1, -2, -3, -2, -3]\n",
        "    #----------------New Directions------------------\n",
        "    if (direction == UP_IRR):\n",
        "        row_offsets = [0, -1, -1, -2, -2, -3, -3, -4]\n",
        "        col_offsets = [0,  1,  0,  1,  0,  1,  0,  1]\n",
        "    if (direction == DOWN_IRR):\n",
        "        row_offsets = [0,  1,  1,  2,  2,  3,  3,  4]\n",
        "        col_offsets = [0,  1,  0,  1,  0,  1,  0,  1]\n",
        "    if (direction == CCW_IRR):\n",
        "        row_offsets = [0,  0, -1, -1, -2, -2, -2, -2]\n",
        "        col_offsets = [0, -1,  0, -1,  0, -1, -2, -3]\n",
        "    if (direction == UP_CORNER):\n",
        "        row_offsets = [0, -1, -1, -2, -3, -3, -3, -3]\n",
        "        col_offsets = [0,  1,  0,  1,  0,  1,  0, -1]\n",
        "    if (direction == DOWN_CORNER):\n",
        "        row_offsets = [0,  1,  1,  2,  2,  3,  3,  3]\n",
        "        col_offsets = [0,  1, -1,  1, -1,  1,  0, -1]\n",
        "    if (direction == UP_SKIP_TIM):\n",
        "        row_offsets = [0, -1, -1, -3, -3, -4, -4, -5]\n",
        "        col_offsets = [0,  1,  0,  1,  0,  1,  0,  1]\n",
        "    if (direction == DOWN_SKIP_TIM):\n",
        "        row_offsets = [0,  1,  1,  2,  2,  4,  4,  5]\n",
        "        col_offsets = [0,  1,  0,  1,  0,  1,  0,  1]\n",
        "    if (direction == DOWN_SKIP_ALIGN):\n",
        "        row_offsets = [0,  0,  1,  1,  6,  6,  7,  7]\n",
        "        col_offsets = [0, -1,  0, -1,  0, -1,  0, -1]\n",
        "    if (direction == UP_ALIGN):\n",
        "        row_offsets = [0,  0, -1, -1, -2, -3, -4, -5]\n",
        "        col_offsets = [0, -1,  0, -1, -1, -1, -1, -1]\n",
        "    if (direction == CCW_SKIP_TIM):\n",
        "        row_offsets = [0, -1, -1, -2, -2, -3, -3, -3]\n",
        "        col_offsets = [0,  1,  0,  1,  0,  1,  0, -2]\n",
        "    if (direction == UP_SKIP_FORMAT):\n",
        "        row_offsets = [0,  1,  1,  2,  2,  3,  3,  -5]\n",
        "        col_offsets = [0,  1,  0,  1,  0,  1,  0,  -1]\n",
        "\n",
        "    for i, j in zip(row_offsets, col_offsets):\n",
        "        cell = qr_cells_numeric[data_start_i+i, data_start_j+j]\n",
        "        result.append(int(cell if MASKS[mask_str](data_start_i+i, data_start_j+j) else not cell))\n",
        "        print(f\"Cell bit: {cell}, Mask_bit: {MASKS[mask_str](data_start_i+i, data_start_j+j)}, Mask: {mask_str}\")\n",
        "    print(f\"Result: {result}\")\n",
        "    return result[:4] if direction == UP_ENC else result\n",
        "\n"
      ]
    },
    {
      "cell_type": "markdown",
      "metadata": {
        "id": "_Es8SoZ02lct"
      },
      "source": [
        "### Data length"
      ]
    },
    {
      "cell_type": "code",
      "execution_count": null,
      "metadata": {
        "ExecuteTime": {
          "end_time": "2024-05-05T19:40:52.816404900Z",
          "start_time": "2024-05-05T19:40:52.784039200Z"
        },
        "id": "Je0bFGI_JASd"
      },
      "outputs": [],
      "source": [
        "v1_data_starting_indices = [\n",
        "    [grid_cells_num-1, grid_cells_num-1, UP_ENC],\n",
        "    [grid_cells_num-3, grid_cells_num-1, UP],\n",
        "    [grid_cells_num-7,  grid_cells_num-1,  UP],\n",
        "    [grid_cells_num-11, grid_cells_num-1,  CCW],\n",
        "    [grid_cells_num-10, grid_cells_num-3,  DOWN],\n",
        "    [grid_cells_num-6,  grid_cells_num-3,  DOWN],\n",
        "    [grid_cells_num-2,  grid_cells_num-3,  CW],\n",
        "    [grid_cells_num-3,  grid_cells_num-5,  UP],\n",
        "    [grid_cells_num-7,  grid_cells_num-5,  UP],\n",
        "    [grid_cells_num-11, grid_cells_num-5,  CCW],\n",
        "    [grid_cells_num-10, grid_cells_num-7,  DOWN],\n",
        "    [grid_cells_num-6,  grid_cells_num-7,  DOWN],\n",
        "    [grid_cells_num-2,  grid_cells_num-7,  CW],\n",
        "    [grid_cells_num-3,  grid_cells_num-9,  UP],\n",
        "    [grid_cells_num-7,  grid_cells_num-9,  UP],\n",
        "    [grid_cells_num-11, grid_cells_num-9,  UP],\n",
        "    [grid_cells_num-16, grid_cells_num-9,  UP],\n",
        "    [grid_cells_num-20, grid_cells_num-9,  CCW],\n",
        "    [grid_cells_num-19, grid_cells_num-11, DOWN],\n",
        "    [grid_cells_num-14, grid_cells_num-11, DOWN],  # End of message (Terminator)\n",
        "    [grid_cells_num-12, grid_cells_num-11, DOWN],  # E1\n",
        "    [grid_cells_num-8,  grid_cells_num-11, DOWN],  # E2\n",
        "    [grid_cells_num-4,  grid_cells_num-11, DOWN],  # E3\n",
        "    [grid_cells_num-9,  grid_cells_num-13, UP],    # E4\n",
        "    [grid_cells_num-12, grid_cells_num-16, DOWN],  # E5\n",
        "    [grid_cells_num-9,  grid_cells_num-18, UP],    # E6\n",
        "    [grid_cells_num-12, grid_cells_num-20, DOWN],  # E7\n",
        "]\n",
        "\n",
        "v3_data_starting_indices = []\n",
        "v4_data_starting_indices = []"
      ]
    },
    {
      "cell_type": "markdown",
      "metadata": {
        "id": "4PVM0yLFqvrG"
      },
      "source": [
        "Alphanumeric Mode Decoding"
      ]
    },
    {
      "cell_type": "code",
      "execution_count": null,
      "metadata": {
        "ExecuteTime": {
          "end_time": "2024-05-05T19:40:52.858006400Z",
          "start_time": "2024-05-05T19:40:52.813406500Z"
        },
        "id": "-SGEkzSkEwqB"
      },
      "outputs": [],
      "source": [
        "ALPHANUMERIC_TABLE = {\n",
        "\n",
        "    0: '0', 1: '1', 2: '2', 3: '3', 4: '4',\n",
        "    5: '5', 6: '6', 7: '7', 8: '8', 9: '9',\n",
        "\n",
        "    10: 'A', 11: 'B', 12: 'C', 13: 'D', 14: 'E',\n",
        "    15: 'F', 16: 'G', 17: 'H', 18: 'I', 19: 'J',\n",
        "    20: 'K', 21: 'L', 22: 'M', 23: 'N', 24: 'O',\n",
        "    25: 'P', 26: 'Q', 27: 'R', 28: 'S', 29: 'T',\n",
        "    30: 'U', 31: 'V', 32: 'W', 33: 'X', 34: 'Y',\n",
        "    35: 'Z',\n",
        "\n",
        "    36: ' ', 37: '$', 38: '%', 39: '*',\n",
        "    40: '+', 41: '-', 42: '.', 43: '/', 44: ':'\n",
        "}\n",
        "\n",
        "def bin_to_alphanum(bits):\n",
        "\n",
        "    num = int(bits, 2)\n",
        "\n",
        "    # This part is similar to saying that 78 = 7 * 10 + 8\n",
        "    # Originally if we're encoding alpahnumeric characters for example TH (T:29, H:17)\n",
        "    # We would get the binary string by converting 29 * 45 + 17 to binary\n",
        "\n",
        "    first_num = num // 45\n",
        "    first_char = ALPHANUMERIC_TABLE[first_num]\n",
        "\n",
        "    second_num = num % 45\n",
        "    second_char = ALPHANUMERIC_TABLE[second_num]\n",
        "\n",
        "    return first_char + second_char\n",
        "\n",
        "def decode_alphanumeric_v1():\n",
        "    ans = ''\n",
        "    data_string = ''\n",
        "    for a, b, d in v1_data_starting_indices:\n",
        "        bits = apply_mask(a, b, d)\n",
        "        # Convert list of bits to string and concatenate to data_string\n",
        "        data_string += ''.join([str(bit) for bit in bits])\n",
        "\n",
        "    print(f\"data_string: {data_string}\")\n",
        "\n",
        "    # Exclude the first 4 bits of the encoding type\n",
        "    data_string = data_string[4:]\n",
        "    print(f\"data_string_no_enc: {data_string}\")\n",
        "    # The length should be read in the next 9 bits\n",
        "    length = int(data_string[:9], 2)\n",
        "    #print(f\"length: {length}\")\n",
        "\n",
        "    data_string = data_string[9:]\n",
        "    print(f\"data_string_no_len: {data_string}\")\n",
        "\n",
        "    # Process the data 11 bits by 11 bits\n",
        "    while length > 1:\n",
        "        chars = bin_to_alphanum(data_string[:11])\n",
        "        ans += chars\n",
        "        print(f'{data_string[:11]} = {chars}')\n",
        "        data_string = data_string[11:]\n",
        "        length -= 2\n",
        "\n",
        "    # If the number of characters in the to be decoded string is odd, the last character is represented in 6 bits\n",
        "    if length == 1:\n",
        "        last_char = ALPHANUMERIC_TABLE[int(data_string[:6], 2)]\n",
        "        ans += last_char\n",
        "        print(f'{data_string[:6]} = {last_char}')\n",
        "\n",
        "    print(f'\\nDecoded string: {ans}')\n"
      ]
    },
    {
      "cell_type": "markdown",
      "metadata": {
        "id": "ugMlyRLEHX-V"
      },
      "source": [
        "### Data extraction"
      ]
    },
    {
      "cell_type": "code",
      "execution_count": null,
      "metadata": {
        "ExecuteTime": {
          "end_time": "2024-05-05T19:40:52.889228900Z",
          "start_time": "2024-05-05T19:40:52.833850400Z"
        },
        "id": "2C9MtuNJHY0m"
      },
      "outputs": [],
      "source": [
        "def decode_byte_mode_v1():\n",
        "    print(\"Starting decode_byte_mode_v1 function...\")\n",
        "    ecl_lookup = {\n",
        "      '01': 7,\n",
        "      '00': 10,\n",
        "      '11': 13,\n",
        "      '10': 17\n",
        "    }\n",
        "    end_of_word = False\n",
        "    key = ''.join(map(str, ecl))\n",
        "    print(f\"Key: {key}\")\n",
        "    message_bits = []\n",
        "    enc = apply_mask(grid_cells_num-1, grid_cells_num-1, UP_ENC)\n",
        "    length = apply_mask(grid_cells_num-3, grid_cells_num-1, UP)\n",
        "    print(f\"Length: {length}, ECL: {ecl}\")\n",
        "    message_bits.extend(enc)\n",
        "    message_bits.extend(length)\n",
        "    extracted_data_no_error_correction = ''\n",
        "    byte_stream = ''\n",
        "    for i, (a, b, d) in enumerate(v1_data_starting_indices):  # For each starting index and direction\n",
        "        if i < 2:  # Skip the first two indices enc, len\n",
        "            continue\n",
        "        print(f\"Processing index: {i}, Starting indices: {a}, {b}, Direction: {d}\")\n",
        "        bits = apply_mask(a, b, d)  # Extract the bits per the indexed QR code symbol\n",
        "        bit_string = ''.join([str(bit) for bit in bits])  # Convert to string of bits\n",
        "        alpha_char = chr(int(bit_string, 2))  # Convert binary to int, then to a char\n",
        "        if not end_of_word and bit_string[:4] != \"0000\":\n",
        "            byte_stream += bit_string\n",
        "        alpha_char = chr(int(bit_string, 2))\n",
        "\n",
        "        if bit_string[:4] == \"0000\" and not end_of_word:  # If the first 4 bits are 0s, this is the END\n",
        "            print(f'{bit_string[:4]}...         = NULL TERMINATOR (END Symbol, SKIP!)')\n",
        "            message_bits.extend(bits[:4])  # Append only the four bits\n",
        "            byte = bytes([int(byte_stream[i:i+8], 2) for i in range(0, len(byte_stream), 8)])\n",
        "            end_of_word = True\n",
        "        else:\n",
        "            # If not the END symbol, append full set of bits\n",
        "            message_bits.extend(bits)\n",
        "            extracted_data_no_error_correction += alpha_char\n",
        "            print(f'{bit_string} (={int(bit_string, 2):03d}) = {alpha_char}')\n",
        "\n",
        "    int_length = int(''.join(map(str, length)),2)\n",
        "    try:\n",
        "        print(f'\\ni.e., the data in the QR code as-is are \"{byte.decode(\"utf-8\")}\"')\n",
        "    except:\n",
        "        print(f'\\ni.e., the data in the QR code as-is are \"{extracted_data_no_error_correction}\"')\n",
        "    print(f'the ECCs in the QR code \"{extracted_data_no_error_correction[int_length+1:]}\"')\n",
        "\n",
        "    # use the reedsolo library to decode the message and correct any errors\n",
        "    # For every 8 bits in the extracted message, convert to a byte\n",
        "    extracted_data_bytes = [int(\"\".join(map(str, message_bits[i:i+8])), 2) for i in range(0, len(message_bits), 8)]\n",
        "    reed_solomon = rs.RSCodec(ecl_lookup[key]) # Create a Reed-Solomon codec object with 7 error correction bytes\n",
        "    print(f'\\nDecoding the message using Reed-Solomon error correction...')\n",
        "    try:\n",
        "        decoded_data_bytes = reed_solomon.decode(extracted_data_bytes)  # Decode the message\n",
        "        reed_solomon.maxerrata(verbose=True)\n",
        "        print(f'The decoded message is: \"{decoded_data_bytes[0].decode(encoding=\"iso-8859-1\")}\"')\n",
        "        data_bits = bin(int.from_bytes(decoded_data_bytes[0], byteorder='big'))[13:-4]\n",
        "        data_bytes = int(data_bits, 2).to_bytes((len(data_bits)+7)//8, 'big')\n",
        "        print(f'Data in message = \"{data_bytes.decode(encoding=\"utf-8\")}\"')\n",
        "    except rs.ReedSolomonError as e:\n",
        "        print(f'Error decoding the message: {str(e)}')\n",
        "        # Extract data without error correction\n"
      ]
    },
    {
      "cell_type": "code",
      "source": [
        "enc = apply_mask(grid_cells_num-1, grid_cells_num-1, UP_ENC)"
      ],
      "metadata": {
        "colab": {
          "base_uri": "https://localhost:8080/"
        },
        "id": "15l1txYCwsgZ",
        "outputId": "9444a79d-cc5e-4cac-d98b-7e1ab5e82f62"
      },
      "execution_count": null,
      "outputs": [
        {
          "output_type": "stream",
          "name": "stdout",
          "text": [
            "Applying mask with start indices: 32, 32, direction: 1\n",
            "Cell bit: 0, Mask_bit: False, Mask: 100\n",
            "Cell bit: 0, Mask_bit: False, Mask: 100\n",
            "Cell bit: 1, Mask_bit: False, Mask: 100\n",
            "Cell bit: 0, Mask_bit: False, Mask: 100\n",
            "Cell bit: 0, Mask_bit: False, Mask: 100\n",
            "Cell bit: 0, Mask_bit: False, Mask: 100\n",
            "Cell bit: 1, Mask_bit: False, Mask: 100\n",
            "Cell bit: 0, Mask_bit: False, Mask: 100\n",
            "Result: [1, 1, 0, 1, 1, 1, 0, 1]\n"
          ]
        }
      ]
    },
    {
      "cell_type": "code",
      "execution_count": null,
      "metadata": {
        "ExecuteTime": {
          "end_time": "2024-05-05T19:40:52.906719800Z",
          "start_time": "2024-05-05T19:40:52.845270100Z"
        },
        "id": "sMKnJyYHhHKl",
        "colab": {
          "base_uri": "https://localhost:8080/"
        },
        "outputId": "a72ceac0-7f39-4766-dd0f-0bcd35eb5712"
      },
      "outputs": [
        {
          "output_type": "stream",
          "name": "stdout",
          "text": [
            "Starting decode_byte_mode_v1 function...\n",
            "Key: 01\n",
            "Applying mask with start indices: 32, 32, direction: 1\n",
            "Cell bit: 0, Mask_bit: False, Mask: 100\n",
            "Cell bit: 0, Mask_bit: False, Mask: 100\n",
            "Cell bit: 1, Mask_bit: False, Mask: 100\n",
            "Cell bit: 0, Mask_bit: False, Mask: 100\n",
            "Cell bit: 0, Mask_bit: False, Mask: 100\n",
            "Cell bit: 0, Mask_bit: False, Mask: 100\n",
            "Cell bit: 1, Mask_bit: False, Mask: 100\n",
            "Cell bit: 0, Mask_bit: False, Mask: 100\n",
            "Result: [1, 1, 0, 1, 1, 1, 0, 1]\n",
            "Applying mask with start indices: 30, 32, direction: 0\n",
            "Cell bit: 0, Mask_bit: False, Mask: 100\n",
            "Cell bit: 0, Mask_bit: False, Mask: 100\n",
            "Cell bit: 1, Mask_bit: False, Mask: 100\n",
            "Cell bit: 0, Mask_bit: False, Mask: 100\n",
            "Cell bit: 0, Mask_bit: False, Mask: 100\n",
            "Cell bit: 1, Mask_bit: False, Mask: 100\n",
            "Cell bit: 1, Mask_bit: False, Mask: 100\n",
            "Cell bit: 1, Mask_bit: False, Mask: 100\n",
            "Result: [1, 1, 0, 1, 1, 0, 0, 0]\n",
            "Length: [1, 1, 0, 1, 1, 0, 0, 0], ECL: [0, 1]\n",
            "Processing index: 2, Starting indices: 26, 32, Direction: 0\n",
            "Applying mask with start indices: 26, 32, direction: 0\n",
            "Cell bit: 0, Mask_bit: False, Mask: 100\n",
            "Cell bit: 0, Mask_bit: False, Mask: 100\n",
            "Cell bit: 1, Mask_bit: False, Mask: 100\n",
            "Cell bit: 1, Mask_bit: False, Mask: 100\n",
            "Cell bit: 0, Mask_bit: False, Mask: 100\n",
            "Cell bit: 0, Mask_bit: False, Mask: 100\n",
            "Cell bit: 0, Mask_bit: False, Mask: 100\n",
            "Cell bit: 1, Mask_bit: False, Mask: 100\n",
            "Result: [1, 1, 0, 0, 1, 1, 1, 0]\n",
            "11001110 (=206) = Î\n",
            "Processing index: 3, Starting indices: 22, 32, Direction: 4\n",
            "Applying mask with start indices: 22, 32, direction: 4\n",
            "Cell bit: 0, Mask_bit: False, Mask: 100\n",
            "Cell bit: 0, Mask_bit: False, Mask: 100\n",
            "Cell bit: 0, Mask_bit: False, Mask: 100\n",
            "Cell bit: 0, Mask_bit: False, Mask: 100\n",
            "Cell bit: 1, Mask_bit: False, Mask: 100\n",
            "Cell bit: 1, Mask_bit: False, Mask: 100\n",
            "Cell bit: 0, Mask_bit: False, Mask: 100\n",
            "Cell bit: 0, Mask_bit: False, Mask: 100\n",
            "Result: [1, 1, 1, 1, 0, 0, 1, 1]\n",
            "11110011 (=243) = ó\n",
            "Processing index: 4, Starting indices: 23, 30, Direction: 2\n",
            "Applying mask with start indices: 23, 30, direction: 2\n",
            "Cell bit: 1, Mask_bit: False, Mask: 100\n",
            "Cell bit: 0, Mask_bit: False, Mask: 100\n",
            "Cell bit: 1, Mask_bit: True, Mask: 100\n",
            "Cell bit: 1, Mask_bit: False, Mask: 100\n",
            "Cell bit: 1, Mask_bit: False, Mask: 100\n",
            "Cell bit: 0, Mask_bit: False, Mask: 100\n",
            "Cell bit: 0, Mask_bit: False, Mask: 100\n",
            "Cell bit: 1, Mask_bit: False, Mask: 100\n",
            "Result: [0, 1, 1, 0, 0, 1, 1, 0]\n",
            "01100110 (=102) = f\n",
            "Processing index: 5, Starting indices: 27, 30, Direction: 2\n",
            "Applying mask with start indices: 27, 30, direction: 2\n",
            "Cell bit: 1, Mask_bit: False, Mask: 100\n",
            "Cell bit: 1, Mask_bit: False, Mask: 100\n",
            "Cell bit: 1, Mask_bit: True, Mask: 100\n",
            "Cell bit: 1, Mask_bit: False, Mask: 100\n",
            "Cell bit: 1, Mask_bit: False, Mask: 100\n",
            "Cell bit: 1, Mask_bit: False, Mask: 100\n",
            "Cell bit: 0, Mask_bit: False, Mask: 100\n",
            "Cell bit: 1, Mask_bit: False, Mask: 100\n",
            "Result: [0, 0, 1, 0, 0, 0, 1, 0]\n",
            "00100010 (=034) = \"\n",
            "Processing index: 6, Starting indices: 31, 30, Direction: 3\n",
            "Applying mask with start indices: 31, 30, direction: 3\n",
            "Cell bit: 1, Mask_bit: False, Mask: 100\n",
            "Cell bit: 1, Mask_bit: False, Mask: 100\n",
            "Cell bit: 1, Mask_bit: True, Mask: 100\n",
            "Cell bit: 1, Mask_bit: False, Mask: 100\n",
            "Cell bit: 1, Mask_bit: False, Mask: 100\n",
            "Cell bit: 1, Mask_bit: False, Mask: 100\n",
            "Cell bit: 1, Mask_bit: False, Mask: 100\n",
            "Cell bit: 1, Mask_bit: False, Mask: 100\n",
            "Result: [0, 0, 1, 0, 0, 0, 0, 0]\n",
            "00100000 (=032) =  \n",
            "Processing index: 7, Starting indices: 30, 28, Direction: 0\n",
            "Applying mask with start indices: 30, 28, direction: 0\n",
            "Cell bit: 0, Mask_bit: False, Mask: 100\n",
            "Cell bit: 0, Mask_bit: True, Mask: 100\n",
            "Cell bit: 0, Mask_bit: False, Mask: 100\n",
            "Cell bit: 0, Mask_bit: False, Mask: 100\n",
            "Cell bit: 0, Mask_bit: False, Mask: 100\n",
            "Cell bit: 0, Mask_bit: False, Mask: 100\n",
            "Cell bit: 0, Mask_bit: False, Mask: 100\n",
            "Cell bit: 1, Mask_bit: False, Mask: 100\n",
            "Result: [1, 0, 1, 1, 1, 1, 1, 0]\n",
            "10111110 (=190) = ¾\n",
            "Processing index: 8, Starting indices: 26, 28, Direction: 0\n",
            "Applying mask with start indices: 26, 28, direction: 0\n",
            "Cell bit: 0, Mask_bit: False, Mask: 100\n",
            "Cell bit: 1, Mask_bit: True, Mask: 100\n",
            "Cell bit: 0, Mask_bit: False, Mask: 100\n",
            "Cell bit: 1, Mask_bit: False, Mask: 100\n",
            "Cell bit: 0, Mask_bit: False, Mask: 100\n",
            "Cell bit: 0, Mask_bit: False, Mask: 100\n",
            "Cell bit: 1, Mask_bit: False, Mask: 100\n",
            "Cell bit: 1, Mask_bit: False, Mask: 100\n",
            "Result: [1, 1, 1, 0, 1, 1, 0, 0]\n",
            "11101100 (=236) = ì\n",
            "Processing index: 9, Starting indices: 22, 28, Direction: 4\n",
            "Applying mask with start indices: 22, 28, direction: 4\n",
            "Cell bit: 0, Mask_bit: False, Mask: 100\n",
            "Cell bit: 1, Mask_bit: True, Mask: 100\n",
            "Cell bit: 1, Mask_bit: False, Mask: 100\n",
            "Cell bit: 0, Mask_bit: False, Mask: 100\n",
            "Cell bit: 0, Mask_bit: False, Mask: 100\n",
            "Cell bit: 0, Mask_bit: False, Mask: 100\n",
            "Cell bit: 0, Mask_bit: False, Mask: 100\n",
            "Cell bit: 0, Mask_bit: False, Mask: 100\n",
            "Result: [1, 1, 0, 1, 1, 1, 1, 1]\n",
            "11011111 (=223) = ß\n",
            "Processing index: 10, Starting indices: 23, 26, Direction: 2\n",
            "Applying mask with start indices: 23, 26, direction: 2\n",
            "Cell bit: 1, Mask_bit: False, Mask: 100\n",
            "Cell bit: 1, Mask_bit: False, Mask: 100\n",
            "Cell bit: 0, Mask_bit: False, Mask: 100\n",
            "Cell bit: 0, Mask_bit: False, Mask: 100\n",
            "Cell bit: 1, Mask_bit: False, Mask: 100\n",
            "Cell bit: 1, Mask_bit: False, Mask: 100\n",
            "Cell bit: 0, Mask_bit: False, Mask: 100\n",
            "Cell bit: 1, Mask_bit: False, Mask: 100\n",
            "Result: [0, 0, 1, 1, 0, 0, 1, 0]\n",
            "00110010 (=050) = 2\n",
            "Processing index: 11, Starting indices: 27, 26, Direction: 2\n",
            "Applying mask with start indices: 27, 26, direction: 2\n",
            "Cell bit: 1, Mask_bit: False, Mask: 100\n",
            "Cell bit: 1, Mask_bit: False, Mask: 100\n",
            "Cell bit: 0, Mask_bit: False, Mask: 100\n",
            "Cell bit: 0, Mask_bit: False, Mask: 100\n",
            "Cell bit: 1, Mask_bit: False, Mask: 100\n",
            "Cell bit: 1, Mask_bit: False, Mask: 100\n",
            "Cell bit: 1, Mask_bit: False, Mask: 100\n",
            "Cell bit: 0, Mask_bit: False, Mask: 100\n",
            "Result: [0, 0, 1, 1, 0, 0, 0, 1]\n",
            "00110001 (=049) = 1\n",
            "Processing index: 12, Starting indices: 31, 26, Direction: 3\n",
            "Applying mask with start indices: 31, 26, direction: 3\n",
            "Cell bit: 1, Mask_bit: False, Mask: 100\n",
            "Cell bit: 0, Mask_bit: False, Mask: 100\n",
            "Cell bit: 1, Mask_bit: False, Mask: 100\n",
            "Cell bit: 1, Mask_bit: False, Mask: 100\n",
            "Cell bit: 0, Mask_bit: True, Mask: 100\n",
            "Cell bit: 0, Mask_bit: False, Mask: 100\n",
            "Cell bit: 0, Mask_bit: False, Mask: 100\n",
            "Cell bit: 0, Mask_bit: False, Mask: 100\n",
            "Result: [0, 1, 0, 0, 0, 1, 1, 1]\n",
            "01000111 (=071) = G\n",
            "Processing index: 13, Starting indices: 30, 24, Direction: 0\n",
            "Applying mask with start indices: 30, 24, direction: 0\n",
            "Cell bit: 0, Mask_bit: False, Mask: 100\n",
            "Cell bit: 0, Mask_bit: False, Mask: 100\n",
            "Cell bit: 1, Mask_bit: False, Mask: 100\n",
            "Cell bit: 1, Mask_bit: False, Mask: 100\n",
            "Cell bit: 0, Mask_bit: True, Mask: 100\n",
            "Cell bit: 1, Mask_bit: False, Mask: 100\n",
            "Cell bit: 0, Mask_bit: False, Mask: 100\n",
            "Cell bit: 0, Mask_bit: False, Mask: 100\n",
            "Result: [1, 1, 0, 0, 0, 0, 1, 1]\n",
            "11000011 (=195) = Ã\n",
            "Processing index: 14, Starting indices: 26, 24, Direction: 0\n",
            "Applying mask with start indices: 26, 24, direction: 0\n",
            "Cell bit: 0, Mask_bit: False, Mask: 100\n",
            "Cell bit: 0, Mask_bit: False, Mask: 100\n",
            "Cell bit: 0, Mask_bit: False, Mask: 100\n",
            "Cell bit: 0, Mask_bit: False, Mask: 100\n",
            "Cell bit: 0, Mask_bit: True, Mask: 100\n",
            "Cell bit: 1, Mask_bit: False, Mask: 100\n",
            "Cell bit: 0, Mask_bit: False, Mask: 100\n",
            "Cell bit: 1, Mask_bit: False, Mask: 100\n",
            "Result: [1, 1, 1, 1, 0, 0, 1, 0]\n",
            "11110010 (=242) = ò\n",
            "Processing index: 15, Starting indices: 22, 24, Direction: 0\n",
            "Applying mask with start indices: 22, 24, direction: 0\n",
            "Cell bit: 1, Mask_bit: False, Mask: 100\n",
            "Cell bit: 1, Mask_bit: False, Mask: 100\n",
            "Cell bit: 0, Mask_bit: False, Mask: 100\n",
            "Cell bit: 1, Mask_bit: False, Mask: 100\n",
            "Cell bit: 1, Mask_bit: True, Mask: 100\n",
            "Cell bit: 1, Mask_bit: False, Mask: 100\n",
            "Cell bit: 1, Mask_bit: False, Mask: 100\n",
            "Cell bit: 1, Mask_bit: False, Mask: 100\n",
            "Result: [0, 0, 1, 0, 1, 0, 0, 0]\n",
            "00101000 (=040) = (\n",
            "Processing index: 16, Starting indices: 17, 24, Direction: 0\n",
            "Applying mask with start indices: 17, 24, direction: 0\n",
            "Cell bit: 1, Mask_bit: False, Mask: 100\n",
            "Cell bit: 1, Mask_bit: False, Mask: 100\n",
            "Cell bit: 0, Mask_bit: True, Mask: 100\n",
            "Cell bit: 1, Mask_bit: False, Mask: 100\n",
            "Cell bit: 1, Mask_bit: False, Mask: 100\n",
            "Cell bit: 0, Mask_bit: False, Mask: 100\n",
            "Cell bit: 0, Mask_bit: False, Mask: 100\n",
            "Cell bit: 1, Mask_bit: False, Mask: 100\n",
            "Result: [0, 0, 0, 0, 0, 1, 1, 0]\n",
            "0000...         = NULL TERMINATOR (END Symbol, SKIP!)\n",
            "Processing index: 17, Starting indices: 13, 24, Direction: 4\n",
            "Applying mask with start indices: 13, 24, direction: 4\n",
            "Cell bit: 0, Mask_bit: False, Mask: 100\n",
            "Cell bit: 1, Mask_bit: False, Mask: 100\n",
            "Cell bit: 1, Mask_bit: True, Mask: 100\n",
            "Cell bit: 0, Mask_bit: False, Mask: 100\n",
            "Cell bit: 1, Mask_bit: False, Mask: 100\n",
            "Cell bit: 0, Mask_bit: False, Mask: 100\n",
            "Cell bit: 1, Mask_bit: False, Mask: 100\n",
            "Cell bit: 0, Mask_bit: False, Mask: 100\n",
            "Result: [1, 0, 1, 1, 0, 1, 0, 1]\n",
            "10110101 (=181) = µ\n",
            "Processing index: 18, Starting indices: 14, 22, Direction: 2\n",
            "Applying mask with start indices: 14, 22, direction: 2\n",
            "Cell bit: 1, Mask_bit: False, Mask: 100\n",
            "Cell bit: 1, Mask_bit: True, Mask: 100\n",
            "Cell bit: 0, Mask_bit: False, Mask: 100\n",
            "Cell bit: 0, Mask_bit: False, Mask: 100\n",
            "Cell bit: 1, Mask_bit: False, Mask: 100\n",
            "Cell bit: 0, Mask_bit: False, Mask: 100\n",
            "Cell bit: 0, Mask_bit: False, Mask: 100\n",
            "Cell bit: 0, Mask_bit: False, Mask: 100\n",
            "Result: [0, 1, 1, 1, 0, 1, 1, 1]\n",
            "01110111 (=119) = w\n",
            "Processing index: 19, Starting indices: 19, 22, Direction: 2\n",
            "Applying mask with start indices: 19, 22, direction: 2\n",
            "Cell bit: 0, Mask_bit: False, Mask: 100\n",
            "Cell bit: 0, Mask_bit: False, Mask: 100\n",
            "Cell bit: 1, Mask_bit: False, Mask: 100\n",
            "Cell bit: 0, Mask_bit: False, Mask: 100\n",
            "Cell bit: 1, Mask_bit: False, Mask: 100\n",
            "Cell bit: 0, Mask_bit: False, Mask: 100\n",
            "Cell bit: 0, Mask_bit: False, Mask: 100\n",
            "Cell bit: 1, Mask_bit: True, Mask: 100\n",
            "Result: [1, 1, 0, 1, 0, 1, 1, 1]\n",
            "11010111 (=215) = ×\n",
            "Processing index: 20, Starting indices: 21, 22, Direction: 2\n",
            "Applying mask with start indices: 21, 22, direction: 2\n",
            "Cell bit: 1, Mask_bit: False, Mask: 100\n",
            "Cell bit: 0, Mask_bit: False, Mask: 100\n",
            "Cell bit: 0, Mask_bit: False, Mask: 100\n",
            "Cell bit: 1, Mask_bit: True, Mask: 100\n",
            "Cell bit: 0, Mask_bit: False, Mask: 100\n",
            "Cell bit: 0, Mask_bit: False, Mask: 100\n",
            "Cell bit: 1, Mask_bit: False, Mask: 100\n",
            "Cell bit: 0, Mask_bit: False, Mask: 100\n",
            "Result: [0, 1, 1, 1, 1, 1, 0, 1]\n",
            "01111101 (=125) = }\n",
            "Processing index: 21, Starting indices: 25, 22, Direction: 2\n",
            "Applying mask with start indices: 25, 22, direction: 2\n",
            "Cell bit: 0, Mask_bit: False, Mask: 100\n",
            "Cell bit: 0, Mask_bit: False, Mask: 100\n",
            "Cell bit: 0, Mask_bit: False, Mask: 100\n",
            "Cell bit: 0, Mask_bit: True, Mask: 100\n",
            "Cell bit: 1, Mask_bit: False, Mask: 100\n",
            "Cell bit: 0, Mask_bit: False, Mask: 100\n",
            "Cell bit: 1, Mask_bit: False, Mask: 100\n",
            "Cell bit: 0, Mask_bit: False, Mask: 100\n",
            "Result: [1, 1, 1, 0, 0, 1, 0, 1]\n",
            "11100101 (=229) = å\n",
            "Processing index: 22, Starting indices: 29, 22, Direction: 2\n",
            "Applying mask with start indices: 29, 22, direction: 2\n",
            "Cell bit: 1, Mask_bit: False, Mask: 100\n",
            "Cell bit: 0, Mask_bit: False, Mask: 100\n",
            "Cell bit: 1, Mask_bit: False, Mask: 100\n",
            "Cell bit: 1, Mask_bit: True, Mask: 100\n",
            "Cell bit: 1, Mask_bit: False, Mask: 100\n",
            "Cell bit: 0, Mask_bit: False, Mask: 100\n",
            "Cell bit: 0, Mask_bit: False, Mask: 100\n",
            "Cell bit: 0, Mask_bit: False, Mask: 100\n",
            "Result: [0, 1, 0, 1, 0, 1, 1, 1]\n",
            "01010111 (=087) = W\n",
            "Processing index: 23, Starting indices: 24, 20, Direction: 0\n",
            "Applying mask with start indices: 24, 20, direction: 0\n",
            "Cell bit: 0, Mask_bit: False, Mask: 100\n",
            "Cell bit: 0, Mask_bit: False, Mask: 100\n",
            "Cell bit: 1, Mask_bit: False, Mask: 100\n",
            "Cell bit: 0, Mask_bit: False, Mask: 100\n",
            "Cell bit: 0, Mask_bit: False, Mask: 100\n",
            "Cell bit: 1, Mask_bit: False, Mask: 100\n",
            "Cell bit: 0, Mask_bit: False, Mask: 100\n",
            "Cell bit: 1, Mask_bit: False, Mask: 100\n",
            "Result: [1, 1, 0, 1, 1, 0, 1, 0]\n",
            "11011010 (=218) = Ú\n",
            "Processing index: 24, Starting indices: 21, 17, Direction: 2\n",
            "Applying mask with start indices: 21, 17, direction: 2\n",
            "Cell bit: 0, Mask_bit: False, Mask: 100\n",
            "Cell bit: 0, Mask_bit: False, Mask: 100\n",
            "Cell bit: 1, Mask_bit: False, Mask: 100\n",
            "Cell bit: 1, Mask_bit: False, Mask: 100\n",
            "Cell bit: 0, Mask_bit: False, Mask: 100\n",
            "Cell bit: 0, Mask_bit: False, Mask: 100\n",
            "Cell bit: 0, Mask_bit: False, Mask: 100\n",
            "Cell bit: 0, Mask_bit: False, Mask: 100\n",
            "Result: [1, 1, 0, 0, 1, 1, 1, 1]\n",
            "11001111 (=207) = Ï\n",
            "Processing index: 25, Starting indices: 24, 15, Direction: 0\n",
            "Applying mask with start indices: 24, 15, direction: 0\n",
            "Cell bit: 0, Mask_bit: False, Mask: 100\n",
            "Cell bit: 0, Mask_bit: False, Mask: 100\n",
            "Cell bit: 1, Mask_bit: False, Mask: 100\n",
            "Cell bit: 0, Mask_bit: False, Mask: 100\n",
            "Cell bit: 1, Mask_bit: True, Mask: 100\n",
            "Cell bit: 0, Mask_bit: False, Mask: 100\n",
            "Cell bit: 1, Mask_bit: False, Mask: 100\n",
            "Cell bit: 0, Mask_bit: False, Mask: 100\n",
            "Result: [1, 1, 0, 1, 1, 1, 0, 1]\n",
            "11011101 (=221) = Ý\n",
            "Processing index: 26, Starting indices: 21, 13, Direction: 2\n",
            "Applying mask with start indices: 21, 13, direction: 2\n",
            "Cell bit: 0, Mask_bit: False, Mask: 100\n",
            "Cell bit: 0, Mask_bit: False, Mask: 100\n",
            "Cell bit: 1, Mask_bit: False, Mask: 100\n",
            "Cell bit: 0, Mask_bit: False, Mask: 100\n",
            "Cell bit: 0, Mask_bit: False, Mask: 100\n",
            "Cell bit: 0, Mask_bit: False, Mask: 100\n",
            "Cell bit: 1, Mask_bit: False, Mask: 100\n",
            "Cell bit: 1, Mask_bit: True, Mask: 100\n",
            "Result: [1, 1, 0, 1, 1, 1, 0, 1]\n",
            "11011101 (=221) = Ý\n",
            "\n",
            "i.e., the data in the QR code as-is are \"Îóf\" ¾ìß21GÃò(µw×}åWÚÏÝÝ\"\n",
            "the ECCs in the QR code \"\"\n",
            "\n",
            "Decoding the message using Reed-Solomon error correction...\n",
            "Error decoding the message: Too many errors to correct\n"
          ]
        }
      ],
      "source": [
        "if version == 1:\n",
        "  if enc == [0, 0, 1, 0]:\n",
        "    decode_alphanumeric_v1()\n",
        "  else:\n",
        "    decode_byte_mode_v1()\n",
        "elif version == 3:\n",
        "  decode_byte_mode_v3()\n",
        "elif version == 4:\n",
        "  decode_byte_mode_v4()"
      ]
    }
  ],
  "metadata": {
    "colab": {
      "provenance": []
    },
    "kernelspec": {
      "display_name": "Python 3 (ipykernel)",
      "language": "python",
      "name": "python3"
    },
    "language_info": {
      "codemirror_mode": {
        "name": "ipython",
        "version": 3
      },
      "file_extension": ".py",
      "mimetype": "text/x-python",
      "name": "python",
      "nbconvert_exporter": "python",
      "pygments_lexer": "ipython3",
      "version": "3.11.3"
    }
  },
  "nbformat": 4,
  "nbformat_minor": 0
}