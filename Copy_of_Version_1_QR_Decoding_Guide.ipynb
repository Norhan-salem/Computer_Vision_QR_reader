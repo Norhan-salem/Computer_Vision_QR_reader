{
 "cells": [
  {
   "cell_type": "markdown",
   "source": [
    "\n",
    "1.   Reed-solomon ec for test cases 7, 10, 13, 15\n",
    "2.   Differentiate between v1 and v3 without depending on module size\n",
    "3.   Identify that test case 2, 6, 14 are warped and straighten them into a square\n",
    "4.   Decode v3 for test case 15, 16\n",
    "5.   mighty finger has alphanumeric encoding type don't know if i should invest time in alterring to fit it\n",
    "\n",
    "\n",
    "\n",
    "\n"
   ],
   "metadata": {
    "id": "9TTdTivNUBlp"
   }
  },
  {
   "cell_type": "code",
   "execution_count": null,
   "outputs": [],
   "source": [
    "import cv2\n",
    "import numpy as np\n",
    "import matplotlib.pyplot as plt\n",
    "import math\n",
    "import reedsolo as rs\n",
    "import os"
   ],
   "metadata": {
    "collapsed": false
   }
  },
  {
   "cell_type": "code",
   "execution_count": null,
   "outputs": [],
   "source": [
    "# Define the image file path\n",
    "image_file_path = \"test_outputs/image1.jpg\"\n",
    "\n",
    "# Check if the image file exists\n",
    "if not os.path.isfile(image_file_path):\n",
    "    raise FileNotFoundError(f\"The image file {image_file_path} does not exist.\")\n",
    "\n",
    "# Read the image file\n",
    "try:\n",
    "    img = cv2.imread(image_file_path, cv2.IMREAD_GRAYSCALE)\n",
    "except Exception as e:\n",
    "    raise IOError(f\"Unable to read the image file {image_file_path}. Error: {str(e)}\")\n",
    "\n",
    "# Apply a binary threshold to the image\n",
    "_, img = cv2.threshold(img, 127, 255, cv2.THRESH_BINARY)\n",
    "\n",
    "# Display the image\n",
    "fig = plt.figure(figsize=(5, 5))\n",
    "plt.xticks([], [])\n",
    "plt.yticks([], [])\n",
    "plt.title('Example QR code')\n",
    "plt.imshow(img, cmap='gray')"
   ],
   "metadata": {
    "collapsed": false
   }
  },
  {
   "cell_type": "markdown",
   "source": [
    "## QR code extraction\n",
    "This cell uses the Canny edge detection and Hough Line Transform methods from the OpenCV library to detect the edges and lines in the QR code image. If the QR code is tilted, these lines will not be perfectly horizontal or vertical. The code calculates the angle of these lines and uses this information to correct the orientation of the QR code.\n",
    "\n",
    "The steps are as follows:\n",
    "\n",
    "1. Apply the Canny edge detection method to the image. This method detects the edges in the image by looking for areas with strong intensity changes.\n",
    "2. Apply the Hough Line Transform method to the result of the Canny edge detection. This method detects straight lines in the image.\n",
    "3. For each line detected by the Hough Line Transform, calculate the angle of the line.\n",
    "4. If the angle is not zero (which means the QR code is tilted), rotate the image to correct the orientation. The rotation is done around the center of the image, and the image is resized to ensure that the rotated QR code still fits within the image dimensions.\n",
    "\n",
    "After running this cell, the QR code in the image should be correctly oriented, with its edges parallel to the edges of the image."
   ],
   "metadata": {
    "collapsed": false
   }
  },
  {
   "cell_type": "code",
   "execution_count": null,
   "outputs": [],
   "source": [
    "# Correct the orientation of the qr code if it's titled\n",
    "edges = cv2.Canny(img, 50, 150, apertureSize=3)\n",
    "lines = cv2.HoughLines(edges, 1, np.pi / 180, 200)\n",
    "angle = 0\n",
    "\n",
    "if lines is not None:\n",
    "    for line in lines:\n",
    "        for rho, theta in line:\n",
    "            if np.pi / 4 < theta < 3 * np.pi / 4: # If the line is not horizontal or vertical\n",
    "                # Convert the angle from radians to degrees and adjust it to be relative to the horizontal axis\n",
    "                angle = np.rad2deg(theta - np.pi / 2)\n",
    "                (h, w) = img.shape[:2]\n",
    "                center = (w // 2, h // 2)\n",
    "                # Get the rotation matrix\n",
    "                M = cv2.getRotationMatrix2D(center, angle, 1.0)\n",
    "                # Rotate the image\n",
    "                img = cv2.warpAffine(img, M, (w, h), flags=cv2.INTER_CUBIC, borderMode=cv2.BORDER_REPLICATE)\n",
    "\n",
    "plt.xticks([], [])\n",
    "plt.yticks([], [])\n",
    "plt.title('whatever')\n",
    "plt.imshow(img, cmap='gray')"
   ],
   "metadata": {
    "collapsed": false
   }
  },
  {
   "cell_type": "markdown",
   "source": [
    "### QR Code Cropping Algorithm\n",
    "\n",
    "\n",
    "This code follows the edges of a QR code within an image and crops it, leaving the quiet zone out:\n",
    "\n",
    "\n",
    "1. **Finding Boundaries**:\n",
    "\n",
    "- It cycles through the rows and columns of the picture to locate the first and last rows/columns with non-whitespace pixels that denote the beginning and the end of the QR code.\n",
    "\n",
    "\n",
    "2. **Aligning Rows and Columns**: \n",
    "\n",
    "- It makes the start and end rows/columns to be aligned by taking the maximum of their values.\n",
    "\n",
    "\n",
    "3. **Ensuring Divisibility by 21**: \n",
    "\n",
    "- It ensures that the difference of start and end rows/columns is a multiple of 21, since each QR code module is usually of 21 pixels.\n",
    "\n",
    "\n",
    "4. **Cropping**:\n",
    "\n",
    "- It outputs crop region coordinates.\n"
   ],
   "metadata": {
    "collapsed": false
   }
  },
  {
   "cell_type": "code",
   "execution_count": null,
   "outputs": [],
   "source": [
    "# gotta find a new way to get the qr without the quiet zone\n",
    "start_row = -1\n",
    "start_col = -1\n",
    "end_row = -1\n",
    "end_col = -1\n",
    "\n",
    "for row_index, row in enumerate(img):\n",
    "    for pixel in row:\n",
    "        if pixel != 255:\n",
    "            start_row = row_index\n",
    "            break\n",
    "    if start_row != -1:\n",
    "        break\n",
    "\n",
    "for row_index, row in enumerate(img[::-1]):\n",
    "    for pixel in row:\n",
    "        if pixel != 255:\n",
    "            end_row = img.shape[0] - row_index\n",
    "            break\n",
    "    if end_row != -1:\n",
    "        break\n",
    "\n",
    "for col_index, col in enumerate(cv2.transpose(img)):\n",
    "    for pixel in col:\n",
    "        if pixel != 255:\n",
    "            start_col = col_index\n",
    "            break\n",
    "    if start_col != -1:\n",
    "        break\n",
    "\n",
    "for col_index, col in enumerate(cv2.transpose(img)[::-1]):\n",
    "    for pixel in col:\n",
    "        if pixel != 255:\n",
    "            end_col = img.shape[1] - col_index\n",
    "            break\n",
    "    if end_col != -1:\n",
    "        break\n",
    "# Align the start and end rows and columns\n",
    "start_row, start_col = max(start_row, start_col), max(start_row, start_col)\n",
    "end_row, end_col = max(end_row, end_col), max(end_row, end_col)\n",
    "\n",
    "# Ensure the difference between the start and end is divisible by 21\n",
    "diff_row = end_row - start_row\n",
    "diff_col = end_col - start_col\n",
    "\n",
    "if diff_row % 21 != 0:\n",
    "    end_row -= diff_row % 21\n",
    "if diff_col % 21 != 0:\n",
    "    end_col -= diff_col % 21\n",
    "\n",
    "\n",
    "print(start_row, end_row, start_col, end_col)\n",
    "# 44 968 44 968"
   ],
   "metadata": {
    "collapsed": false
   }
  },
  {
   "cell_type": "code",
   "execution_count": null,
   "outputs": [],
   "source": [
    "qr_no_quiet_zone = img[start_row: end_row, start_col: end_col]\n",
    "fig = plt.figure(figsize=(5, 5));\n",
    "plt.xticks([], []);\n",
    "plt.yticks([], []);\n",
    "fig.get_axes()[0].spines[:].set_color('red');\n",
    "fig.get_axes()[0].spines[:].set_linewidth(40);\n",
    "fig.get_axes()[0].spines[:].set_position((\"outward\", 20))\n",
    "plt.title('QR code without quiet zone', y = 1.15, color='red');\n",
    "plt.imshow(qr_no_quiet_zone, cmap='gray');"
   ],
   "metadata": {
    "collapsed": false
   }
  },
  {
   "cell_type": "markdown",
   "source": [
    "### QR Code Grid Cell Partitioning\n",
    "\n",
    "This code divides the QR code region (excluding the quiet zone) into a grid of smaller cells:\n",
    "\n",
    "1. **Grid Cell Calculation**:\n",
    "   - `grid_cells_num` is set to 21, determining the number of cells along each dimension.\n",
    "   - `grid_cell_size` is calculated based on the QR code region dimensions and the desired number of cells.\n",
    "\n",
    "2. **Reshaping into Grid Cells**:\n",
    "   - The QR code region is reshaped into a grid of cells.\n",
    "   - Each cell's dimensions are determined by `grid_cell_size`, and the grid size is determined by `grid_cells_num`.\n"
   ],
   "metadata": {
    "collapsed": false
   }
  },
  {
   "cell_type": "code",
   "execution_count": null,
   "outputs": [],
   "source": [
    "\n",
    "grid_cells_num = 21\n",
    "grid_cell_size = round(math.sqrt((end_row - start_row)**2 / (grid_cells_num**2)))\n",
    "\n",
    "# ...into grid cells\n",
    "qr_cells = qr_no_quiet_zone.reshape((\n",
    "    grid_cells_num,\n",
    "    grid_cell_size,\n",
    "    grid_cells_num,\n",
    "    grid_cell_size,\n",
    ")).swapaxes(1, 2)\n",
    "print(qr_cells.shape)"
   ],
   "metadata": {
    "collapsed": false
   }
  },
  {
   "cell_type": "markdown",
   "source": [
    "### QR Code Orientation Correction\n",
    "\n",
    "This cell contains a function `correct_orientation()` designed to correct the orientation of a QR code based on characteristic patterns found in its grid cells:\n",
    "\n",
    "1. **Pattern Check Function**:\n",
    "   - The `check_pattern()` function verifies if a given set of grid cells matches a predefined pattern commonly found in QR codes.\n",
    "\n",
    "2. **Rotation Function**:\n",
    "   - The `rotate_image()` function rotates the QR code image by the specified number of degrees using NumPy's rotation function.\n",
    "\n",
    "3. **Orientation Correction**:\n",
    "   - The `correct_orientation()` function examines specific patterns in the grid cells' corners to determine the QR code's orientation.\n",
    "   - Based on the pattern matches, it decides whether to rotate the QR code by 90, 180, or 270 degrees to correct its orientation.\n",
    "\n",
    "4. **Applying Correction**:\n",
    "   - The function returns the corrected QR code grid cells after orientation adjustment.\n",
    "\n",
    "This approach automates the orientation correction process based on recognizable patterns within the QR code grid cells, ensuring that the QR code is correctly aligned for further processing or decoding.\n"
   ],
   "metadata": {
    "collapsed": false
   }
  },
  {
   "cell_type": "code",
   "execution_count": null,
   "outputs": [],
   "source": [
    "# Correct the orientation of the rotated qr code\n",
    "def check_pattern(cells):\n",
    "    pattern = [0, 255, 0, 0, 0, 255, 0]  # 1:1:3:1:1 pattern\n",
    "    result = all(np.mean(cell) == pat for cell, pat in zip(cells, pattern))\n",
    "    print(f\"Pattern check result: {result}\")\n",
    "    return result\n",
    "\n",
    "def rotate_image(image, degrees):\n",
    "    print(f\"Rotating image by {degrees} degrees\")\n",
    "    return np.rot90(image, degrees // 90)\n",
    "\n",
    "def correct_orientation(qr_cells, grid_cell_num):\n",
    "\n",
    "    # bottom_right corner pattern check\n",
    "    bottom_right_row = qr_cells[grid_cells_num-4, -7:]  # Check the last 7 cells in the row indexed grid_cells_num - 4\n",
    "    bottom_right_col = qr_cells[-7:, grid_cells_num-4]  # Check the last 7 cells in the column indexed grid_cells_num - 4\n",
    "\n",
    "    # Top right corner pattern check\n",
    "    top_right_row = qr_cells[3, -7:]  # Check the last 7 cells in the third row\n",
    "    top_right_col = qr_cells[:7, grid_cells_num-4]  # Check the first 7 cells in the grid_cells_num - 4 column\n",
    "\n",
    "    # Bottom left corner pattern check\n",
    "    bottom_left_row = qr_cells[grid_cells_num-4, :7] # Check the first 7 cells of row indexed by grid_cells_num - 4\n",
    "    bottom_left_col = qr_cells[-7:, 3] # Check the last 7 cells of column indexed by 3\n",
    "\n",
    "\n",
    "    if not(check_pattern(bottom_right_row) and check_pattern(bottom_right_col)):\n",
    "        print(\"Correct\")\n",
    "        return qr_cells  # QR code is in the right orientation\n",
    "\n",
    "    elif check_pattern(top_right_row) and check_pattern(top_right_col) and check_pattern(bottom_left_row) and check_pattern(bottom_left_col):\n",
    "        print(\"Rotating QR code by 180 degrees\")\n",
    "        return rotate_image(qr_cells, 180)  # Rotate 180 degrees\n",
    "\n",
    "    elif check_pattern(top_right_row) and check_pattern(top_right_col):\n",
    "        print(\"Rotating QR code by 270 degrees\")\n",
    "        return rotate_image(qr_cells, 270)  # Rotate 270 degrees\n",
    "\n",
    "    elif check_pattern(bottom_left_row) and check_pattern(bottom_left_col):\n",
    "        print(\"Rotating QR code by 90 degrees\")\n",
    "        return rotate_image(qr_cells, 90)  # Rotate 90 degrees\n",
    "\n",
    "corrected_qr = correct_orientation(qr_cells, grid_cells_num)\n",
    "\n"
   ],
   "metadata": {
    "collapsed": false
   }
  },
  {
   "cell_type": "code",
   "execution_count": null,
   "outputs": [],
   "source": [
    "_, axes = plt.subplots(grid_cells_num, grid_cells_num, figsize=(5, 5))\n",
    "for i, row in enumerate(axes):\n",
    "    for j, col in enumerate(row):\n",
    "        col.imshow(corrected_qr[i][j], cmap=\"gray\", vmin=0, vmax=255)\n",
    "        col.get_xaxis().set_visible(False)\n",
    "        col.get_yaxis().set_visible(False)\n",
    "        col.spines[:].set_color('red')"
   ],
   "metadata": {
    "collapsed": false
   }
  },
  {
   "cell_type": "markdown",
   "source": [
    "### Converting QR Code to Numeric Representation"
   ],
   "metadata": {
    "collapsed": false
   }
  },
  {
   "cell_type": "code",
   "execution_count": null,
   "outputs": [],
   "source": [
    "qr_cells_numeric = np.ndarray((grid_cells_num, grid_cells_num), dtype=np.uint8)\n",
    "for i, row in enumerate(corrected_qr):\n",
    "    for j, cell in enumerate(row):\n",
    "        qr_cells_numeric[i, j] = (np.median(cell) // 255)\n",
    "\n",
    "print(qr_cells_numeric)"
   ],
   "metadata": {
    "collapsed": false
   }
  },
  {
   "cell_type": "markdown",
   "source": [
    "## Information extraction\n",
    "\n",
    "![Meaning of format information.](https://upload.wikimedia.org/wikipedia/commons/thumb/3/3b/QR_Format_Information.svg/640px-QR_Format_Information.svg.png)\n",
    "> *Meaning of format information.*"
   ],
   "metadata": {
    "collapsed": false
   }
  },
  {
   "cell_type": "markdown",
   "source": [
    "### Error correction level"
   ],
   "metadata": {
    "collapsed": false
   }
  },
  {
   "cell_type": "code",
   "execution_count": null,
   "outputs": [],
   "source": [
    "# We want row #8 or we can get it from the locator on the bottom left which is located at row 19 to 21 and col 8\n",
    "# qr_cells_numeric[8]\n",
    "# qr_cells_numeric[19:21, 8]\n",
    "print(\"ECL bits:\", qr_cells_numeric[19:21, 8])"
   ],
   "metadata": {
    "collapsed": false
   }
  },
  {
   "cell_type": "markdown",
   "source": [
    "### Error Correction Level Extraction\n",
    "\n",
    "This cell extracts the error correction level (ECL) from the bottom left locator of the QR code. Here's the process:\n",
    "\n",
    "1. **Error Correction Level Encoding**: The error correction level (ECL) information is encoded within the last two bits of the format information in the bottom left locator of the QR code. These two bits determine the error correction level according to the following encoding:\n",
    "   - Level L (Low): [11]\n",
    "   - Level M (Medium): [10]\n",
    "   - Level Q (Quartile): [01]\n",
    "   - Level H (High): [00]\n",
    "\n",
    "2. **Extraction from Bottom Left Locator**: The code extracts the last two bits from the rows 19 and 20 and column 8 of the `qr_cells_numeric` array, corresponding to the bottom left locator of the QR code.\n",
    "\n",
    "3. **Inversion**: The extracted bits are inverted because the standard uses '1's for black and '0's for white, whereas in image processing, it's the opposite. Hence, the inversion is performed to match the encoding standard.\n",
    "\n"
   ],
   "metadata": {
    "collapsed": false
   }
  },
  {
   "cell_type": "code",
   "execution_count": null,
   "outputs": [],
   "source": [
    "ecl = [int(not(c)) for c in qr_cells_numeric[19:21, 8]]  # We'll read the ecl from the bottom locator instead\n",
    "print(ecl)"
   ],
   "metadata": {
    "collapsed": false
   }
  },
  {
   "cell_type": "markdown",
   "source": [
    "### Mask Pattern Extraction\n",
    "\n",
    "This cell defines a dictionary of mask patterns and their corresponding formulas for applying masks to QR code data. It also extracts the mask pattern from the QR code image based on specific rows and columns:\n",
    "\n",
    "1. **Mask Pattern Dictionary**: The `MASKS` dictionary contains mask patterns as keys and lambda functions as values. These functions determine whether a cell should be masked based on its position within the QR code grid.\n",
    "\n",
    "2. **Extraction Process**: The code extracts the mask pattern from the three bits before the error correction level (ECL) in column 8 of the QR code. It reads these bits from rows 18, 17, and 16 of the `qr_cells_numeric` array.\n"
   ],
   "metadata": {
    "collapsed": false
   }
  },
  {
   "cell_type": "code",
   "execution_count": null,
   "outputs": [],
   "source": [
    "# Dictionary of all masks and their equivalent formulae\n",
    "MASKS = {\n",
    "    \"000\": lambda i, j: (i * j) % 2 + (i * j) % 3 == 0,\n",
    "    \"001\": lambda i, j: (i / 2 + j / 3) % 2 == 0,\n",
    "    \"010\": lambda i, j: ((i * j) % 3 + i + j) % 2 == 0,\n",
    "    \"011\": lambda i, j: ((i * j) % 3 + i * j) % 2 == 0,\n",
    "    \"100\": lambda i, j: i % 2 == 0,\n",
    "    \"101\": lambda i, j: (i + j) % 2 == 0,\n",
    "    \"110\": lambda i, j: (i + j) % 3 == 0,\n",
    "    \"111\": lambda i, j: j % 3 == 0,\n",
    "}\n",
    "\n",
    "# Same row as above, the three cells after the ecl cells (converted to a string)\n",
    "# We'll read the mask pattern from the three bits before the ecl in col 8\n",
    "mask = [int(not(c)) for c in qr_cells_numeric[18:15:-1, 8]] # 18:15:-1 is the same as 18, 17, 16 as we're going backwards\n",
    "mask_str = ''.join([str(c) for c in mask])\n",
    "print(mask_str)"
   ],
   "metadata": {
    "collapsed": false
   }
  },
  {
   "cell_type": "markdown",
   "source": [
    "### Format error correction"
   ],
   "metadata": {
    "collapsed": false
   }
  },
  {
   "cell_type": "code",
   "execution_count": null,
   "outputs": [],
   "source": [
    "# Same row as above, but we want cells #5 and #7 (#6 is always set to 0),\n",
    "#  followed by column #8 from cell #0 in it to cell #7 (and skipping #6)\n",
    "# fec = []\n",
    "# fec.append(qr_cells_numeric[8, 5])\n",
    "# fec.append(qr_cells_numeric[8, 7])\n",
    "# fec.extend(qr_cells_numeric[0:6, 8])\n",
    "# fec.extend(qr_cells_numeric[7:9, 8])\n",
    "# fec = [int(not(c)) for c in fec]\n",
    "# print(fec)\n",
    "\n",
    "# We'll get #15, #14 from col 8 since #13 is always black\n",
    "# We'll also get row 8 from last col to col 13\n",
    "fec = []\n",
    "fec.append(qr_cells_numeric[15, 8])\n",
    "fec.append(qr_cells_numeric[14, 8])\n",
    "fec.extend(qr_cells_numeric[8, 13:21][::-1])  # Reverse to get from col 20 to col 13\n",
    "fec = [int(not(c)) for c in fec]\n",
    "print(fec)\n"
   ],
   "metadata": {
    "collapsed": false
   }
  },
  {
   "cell_type": "code",
   "execution_count": null,
   "outputs": [],
   "source": [
    "# So in total we have the following 15 bits of format info from our QR code\n",
    "print(ecl, mask, fec)"
   ],
   "metadata": {
    "collapsed": false
   }
  },
  {
   "cell_type": "code",
   "execution_count": null,
   "outputs": [],
   "source": [
    "# Let's cross-check with our example\n",
    "# _, axes = plt.subplots(grid_cells_num, grid_cells_num, figsize=(5, 5))\n",
    "# for i, row in enumerate(axes):\n",
    "#     for j, col in enumerate(row):\n",
    "\n",
    "#         col.get_xaxis().set_visible(False)\n",
    "#         col.get_yaxis().set_visible(False)\n",
    "#         if (i == 8 and j <= 8) or (i <= 8 and j == 8):\n",
    "#             if (i != 6) and (j != 6):\n",
    "#                 col.imshow(corrected_qr[i][j], cmap=\"gray\", vmin=0, vmax=255)\n",
    "#                 col.spines[:].set_color('red')\n",
    "#                 continue\n",
    "#         col.imshow(corrected_qr[i][j], cmap=\"gray\", vmin=-1275, vmax=510)\n",
    "\n",
    "\n",
    "# Plot the new format info\n",
    "_, axes = plt.subplots(grid_cells_num, grid_cells_num, figsize=(5, 5))\n",
    "for i, row in enumerate(axes):\n",
    "    for j, col in enumerate(row):\n",
    "\n",
    "        col.get_xaxis().set_visible(False)\n",
    "        col.get_yaxis().set_visible(False)\n",
    "        if (i in range(15, grid_cells_num) and j == 8) or (i == 8 and j in range(14, grid_cells_num)):\n",
    "            col.imshow(corrected_qr[i][j], cmap=\"gray\", vmin=0, vmax=255)\n",
    "            col.spines[:].set_color('red')\n",
    "            continue\n",
    "        col.imshow(corrected_qr[i][j], cmap=\"gray\", vmin=-1275, vmax=510)"
   ],
   "metadata": {
    "collapsed": false
   }
  },
  {
   "cell_type": "code",
   "execution_count": null,
   "outputs": [],
   "source": [
    "# However..... You need to XOR that with the \"format mask\": 101010000010010\n",
    "# ecl[0] ^= 1\n",
    "mask[0] ^= 1\n",
    "mask[2] ^= 1\n",
    "fec[5] ^= 1\n",
    "fec[8] ^= 1\n",
    "\n",
    "# And now we print...\n",
    "print(ecl, mask, fec)"
   ],
   "metadata": {
    "collapsed": false
   }
  },
  {
   "cell_type": "markdown",
   "source": [
    "## Data extraction\n",
    "\n",
    "![Message placement within a Ver 1 QR symbol (21×21).](https://upload.wikimedia.org/wikipedia/commons/thumb/2/21/QR_Character_Placement.svg/640px-QR_Character_Placement.svg.png)\n",
    "> *Message placement within a Ver 1 QR symbol (21×21). Example from wikipedia, encoded QR message is www.wikipedia.org*"
   ],
   "metadata": {
    "collapsed": false
   }
  },
  {
   "cell_type": "markdown",
   "source": [
    "### Masking Function Definition\n",
    "\n",
    "This cell defines a function `apply_mask()` for applying masking to the QR code data. Here's a summary:\n",
    "\n",
    "1. **Function Parameters**: The function takes `data_start_i` and `data_start_j` as coordinates of the first cell in the data region of the QR code, and `direction` as the masking direction.\n",
    "\n",
    "2. **Masking Logic**: The function computes offsets for each cell based on the specified direction and determines whether each cell should be masked according to the mask pattern.\n",
    "\n",
    "### Masking Directions and Offsets\n",
    "\n",
    "- **UP**: Upward masking direction.\n",
    "- **UP_ENC**: Upward masking direction for encoding.\n",
    "- **DOWN**: Downward masking direction.\n",
    "- **CW**: Clockwise masking direction.\n",
    "- **CCW**: Counter-clockwise masking direction.\n"
   ],
   "metadata": {
    "collapsed": false
   }
  },
  {
   "cell_type": "code",
   "execution_count": null,
   "outputs": [],
   "source": [
    "# Before we proceed, let's write a function for masking to make our lives easier\n",
    "UP, UP_ENC, DOWN, CW, CCW = range(5)  # A rather old-fashioned pythonic \"Enum\"\n",
    "\n",
    "def apply_mask(data_start_i, data_start_j, direction):\n",
    "    '''\n",
    "    data_start_i/j represent the first cell's coords in its respective direction\n",
    "    direction is the masking direction, up(-enc)/down/clockwise/anti-clockwise\n",
    "    '''\n",
    "    result = []\n",
    "    row_offsets = []\n",
    "    col_offsets = []\n",
    "    if (direction in [UP, UP_ENC]):\n",
    "        row_offsets = [0,  0, -1, -1, -2, -2, -3, -3]\n",
    "        col_offsets = [0, -1,  0, -1,  0, -1,  0, -1]\n",
    "    if (direction == DOWN):\n",
    "        row_offsets = [0,  0,  1,  1,  2,  2,  3,  3]\n",
    "        col_offsets = [0, -1,  0, -1,  0, -1,  0, -1]\n",
    "    if (direction == CW):\n",
    "        row_offsets = [0,  0,  1,  1,  1,  1,  0,  0]\n",
    "        col_offsets = [0, -1,  0, -1, -2, -3, -2, -3]\n",
    "    if (direction == CCW):\n",
    "        row_offsets = [0,  0, -1, -1, -1, -1,  0,  0]\n",
    "        col_offsets = [0, -1,  0, -1, -2, -3, -2, -3]\n",
    "\n",
    "    for i, j in zip(row_offsets, col_offsets):\n",
    "        cell = qr_cells_numeric[data_start_i+i, data_start_j+j]\n",
    "        result.append(int(cell if MASKS[mask_str](data_start_i+i, data_start_j+j) else not cell))\n",
    "\n",
    "    return result[:4] if direction == UP_ENC else result"
   ],
   "metadata": {
    "collapsed": false
   }
  },
  {
   "cell_type": "markdown",
   "source": [
    "### Data encoding\n",
    "\n",
    "\n",
    "- **0001**: Numeric encoding (10 bits per 3 digits)\n",
    "- **0010**: Alphanumeric encoding (11 bits per 2 characters)\n",
    "- **0100**: Byte encoding (8 bits per character)\n",
    "- **1000**: Kanji encoding (13 bits per character)\n",
    "- **0011**: Structured append (used to split a message across multiple QR symbols)\n",
    "- **0111**: ECI (Extended Channel Interpretation) (used to specify character encoding)\n",
    "- **0101**: FNC1 in first position (used in GS1 application identifiers)\n",
    "- **1001**: FNC1 in second position (used in GS1 application identifiers)\n",
    "- **0000**: Termination (used to indicate the end of a message)\n"
   ],
   "metadata": {
    "collapsed": false
   }
  },
  {
   "cell_type": "code",
   "execution_count": null,
   "outputs": [],
   "source": [
    "enc = apply_mask(grid_cells_num-1, grid_cells_num-1, UP_ENC)\n",
    "print(enc)"
   ],
   "metadata": {
    "collapsed": false
   }
  },
  {
   "cell_type": "markdown",
   "source": [
    "### Data length"
   ],
   "metadata": {
    "collapsed": false
   }
  },
  {
   "cell_type": "code",
   "execution_count": null,
   "outputs": [],
   "source": [
    "length = apply_mask(grid_cells_num - 3, grid_cells_num - 1, UP)\n",
    "print(length)"
   ],
   "metadata": {
    "collapsed": false
   }
  },
  {
   "cell_type": "markdown",
   "source": [
    "### Data extraction and Error Correction\n",
    "![Message placement within a Ver 1 QR symbol (21×21).](https://upload.wikimedia.org/wikipedia/commons/thumb/2/21/QR_Character_Placement.svg/640px-QR_Character_Placement.svg.png)"
   ],
   "metadata": {
    "collapsed": false
   }
  },
  {
   "cell_type": "code",
   "execution_count": null,
   "outputs": [],
   "source": [
    "data_starting_indices = [\n",
    "    [grid_cells_num-7,  grid_cells_num-1,  UP],    #    w    /     H\n",
    "    [grid_cells_num-11, grid_cells_num-1,  CCW],   #    w    /     e\n",
    "    [grid_cells_num-10, grid_cells_num-3,  DOWN],  #    w    /     l\n",
    "    [grid_cells_num-6,  grid_cells_num-3,  DOWN],  #    .    /     l\n",
    "    [grid_cells_num-2,  grid_cells_num-3,  CW],    #    w    /     o\n",
    "    [grid_cells_num-3,  grid_cells_num-5,  UP],    #    i    /     ,\n",
    "    [grid_cells_num-7,  grid_cells_num-5,  UP],    #    k    /  (space)\n",
    "    [grid_cells_num-11, grid_cells_num-5,  CCW],   #    i    /     Q\n",
    "    [grid_cells_num-10, grid_cells_num-7,  DOWN],  #    p    /     R\n",
    "    [grid_cells_num-6,  grid_cells_num-7,  DOWN],  #    e    /  (space)\n",
    "    [grid_cells_num-2,  grid_cells_num-7,  CW],    #    d    /     W\n",
    "    [grid_cells_num-3,  grid_cells_num-9,  UP],    #    i    /     o\n",
    "    [grid_cells_num-7,  grid_cells_num-9,  UP],    #    a    /     r\n",
    "    [grid_cells_num-11, grid_cells_num-9,  UP],    #    .    /     l\n",
    "    [grid_cells_num-16, grid_cells_num-9,  UP],    #    o    /     d\n",
    "    [grid_cells_num-20, grid_cells_num-9,  CCW],   #    r    /     !\n",
    "    [grid_cells_num-19, grid_cells_num-11, DOWN],  #    g    /     1\n",
    "    [grid_cells_num-14, grid_cells_num-11, DOWN],  # End of message (Terminator)\n",
    "    [grid_cells_num-12, grid_cells_num-11, DOWN],  # E1\n",
    "    [grid_cells_num-8,  grid_cells_num-11, DOWN],  # E2\n",
    "    [grid_cells_num-4,  grid_cells_num-11, DOWN],  # E3\n",
    "    [grid_cells_num-9,  grid_cells_num-13, UP],    # E4\n",
    "    [grid_cells_num-12, grid_cells_num-16, DOWN],  # E5\n",
    "    [grid_cells_num-9,  grid_cells_num-18, UP],    # E6\n",
    "    [grid_cells_num-12, grid_cells_num-20, DOWN],  # E7\n",
    "]"
   ],
   "metadata": {
    "collapsed": false
   }
  },
  {
   "cell_type": "code",
   "execution_count": null,
   "outputs": [],
   "source": [
    "message_bits = []\n",
    "message_bits.extend(enc)\n",
    "message_bits.extend(length)\n",
    "extracted_data_no_error_correction = ''\n",
    "for a, b, d in data_starting_indices:  # For each starting index and direction\n",
    "    bits = apply_mask(a, b, d)  # Extract the bits per the indexed QR code symbol\n",
    "    bit_string = ''.join([str(bit) for bit in bits])  # Convert to string of bits\n",
    "    alpha_char = chr(int(bit_string, 2))  # Convert binary to int, then to a char\n",
    "    if bit_string[:4] == \"0000\":  # If the first 4 bits are 0s, this is the END\n",
    "        print(f'{bit_string[:4]}...         = NULL TERMINATOR (END Symbol, SKIP!)')\n",
    "        message_bits.extend(bits[:4])  # Append only the four bits\n",
    "    else:  # If not the END symbol, append full set of bits\n",
    "        message_bits.extend(bits)\n",
    "        extracted_data_no_error_correction += alpha_char\n",
    "    print(f'{bit_string} (={int(bit_string, 2):03d}) = {alpha_char}')\n",
    "\n",
    "print(f'\\ni.e., the data and ECCs in the QR code as-is are \"{extracted_data_no_error_correction}\"')\n",
    "\n",
    "# use the reedsolo library to decode the message and correct any errors\n",
    "# For every 8 bits in the extracted message, convert to a byte\n",
    "extracted_data_bytes = [int(''.join([str(bit) for bit in message_bits[i:i+8]]), 2) for i in range(0, len(message_bits), 8)]\n",
    "reed_solomon = rs.RSCodec(nsym=10) # Create a Reed-Solomon codec object with 7 error correction bytes\n",
    "print(f'\\nDecoding the message using Reed-Solomon error correction...')\n",
    "try:\n",
    "    decoded_data_bytes = reed_solomon.decode(extracted_data_bytes)  # Decode the message\n",
    "    decoded_data = ''.join([chr(byte) for byte in decoded_data_bytes])  # Convert bytes to characters\n",
    "    print(f'The decoded message is: \"{decoded_data}\"')\n",
    "except rs.ReedSolomonError as e:\n",
    "    print(f'Error decoding the message: {str(e)}')"
   ],
   "metadata": {
    "collapsed": false
   }
  },
  {
   "cell_type": "code",
   "execution_count": null,
   "outputs": [],
   "source": [
    "# Extract data without error correction\n",
    "extracted_data_no_error_correction = \"\"\n",
    "message_bits = []\n",
    "\n",
    "# Loop through data starting indices and apply mask\n",
    "for a, b, d in data_starting_indices:\n",
    "    bits = apply_mask(a, b, d)\n",
    "    bit_string = ''.join([str(bit) for bit in bits])\n",
    "    alpha_char = chr(int(bit_string, 2))\n",
    "    if bit_string[:4] == \"0000\":\n",
    "        message_bits.extend(bits[:4])\n",
    "    else:\n",
    "        message_bits.extend(bits)\n",
    "        extracted_data_no_error_correction += alpha_char\n",
    "\n",
    "# Decode Reed-Solomon for error correction\n",
    "message_bytes = [int(\"\".join(map(str, message_bits[i:i+8])), 2) for i in range(0, len(message_bits), 8)]\n",
    "rsc = rs.RSCodec(nsym=12)  # Initialize Reed-Solomon codec with appropriate parameters\n",
    "corrected_message_bytes = rsc.decode(message_bytes)[0]\n",
    "\n",
    "# Convert bytes to string\n",
    "corrected_data = corrected_message_bytes.decode(encoding=\"iso-8859-1\")\n",
    "\n",
    "# Print or use corrected data as needed\n",
    "print(\"Corrected data:\", corrected_data)\n"
   ],
   "metadata": {
    "collapsed": false
   }
  },
  {
   "cell_type": "code",
   "execution_count": null,
   "outputs": [],
   "source": [],
   "metadata": {
    "collapsed": false
   }
  }
 ],
 "metadata": {
  "colab": {
   "provenance": []
  },
  "kernelspec": {
   "name": "python3",
   "language": "python",
   "display_name": "Python 3 (ipykernel)"
  },
  "language_info": {
   "name": "python"
  }
 },
 "nbformat": 4,
 "nbformat_minor": 0
}
